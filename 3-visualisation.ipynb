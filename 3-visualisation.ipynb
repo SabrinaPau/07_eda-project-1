{
 "cells": [
  {
   "cell_type": "code",
   "execution_count": 1,
   "metadata": {},
   "outputs": [],
   "source": [
    "import pandas as pd\n",
    "import matplotlib.pyplot as plt\n",
    "import seaborn as sns\n",
    "import numpy as np\n",
    "from functools import reduce"
   ]
  },
  {
   "cell_type": "markdown",
   "metadata": {},
   "source": [
    "Call the stored Dataframes."
   ]
  },
  {
   "cell_type": "code",
   "execution_count": 2,
   "metadata": {},
   "outputs": [],
   "source": [
    "%store -r orders_df\n",
    "%store -r campaign_data_df\n",
    "%store -r order_process_data_df\n",
    "%store -r interndata_study_df\n",
    "\n",
    "%store -r preparation_df\n",
    "%store -r readytoship_truck_df\n",
    "%store -r standard_readytoship_truck_df\n",
    "%store -r express_readytoship_truck_df\n",
    "%store -r order_delivery_df\n",
    "%store -r order_delivery_df_2\n",
    "%store -r order_delivery_total_df"
   ]
  },
  {
   "cell_type": "code",
   "execution_count": null,
   "metadata": {},
   "outputs": [],
   "source": [
    "display('orders_df', orders_df.sample(5))\n",
    "display('campaign_data_df', campaign_data_df.sample(5))\n",
    "display('order_process_data_df', order_process_data_df.sample(5))\n",
    "display('interndata_study_df', interndata_study_df.sample(5))\n",
    "\n",
    "display('preparation_df', preparation_df.sample(5))\n",
    "display('readytoship_truck_df', readytoship_truck_df.sample(5))\n",
    "display('standard_readytoship_truck_df', standard_readytoship_truck_df.sample(5))\n",
    "display('express_readytoship_truck_df', express_readytoship_truck_df.sample(5))\n",
    "display('order_delivery_df', order_delivery_df.sample(5))\n",
    "display('order_delivery_df_2', order_delivery_df_2.sample(5))\n",
    "display('order_delivery_total_df', order_delivery_total_df.sample(5))"
   ]
  },
  {
   "cell_type": "markdown",
   "metadata": {},
   "source": [
    "---"
   ]
  },
  {
   "cell_type": "markdown",
   "metadata": {},
   "source": [
    "### Preparation Duration"
   ]
  },
  {
   "cell_type": "code",
   "execution_count": null,
   "metadata": {},
   "outputs": [],
   "source": [
    "preparation_df.sample(5)"
   ]
  },
  {
   "cell_type": "code",
   "execution_count": null,
   "metadata": {},
   "outputs": [],
   "source": [
    "preparation_df.shape"
   ]
  },
  {
   "cell_type": "markdown",
   "metadata": {},
   "source": [
    "Group the data by weekday and find the extrema of the preparation duration for each weekday."
   ]
  },
  {
   "cell_type": "code",
   "execution_count": null,
   "metadata": {},
   "outputs": [],
   "source": [
    "min_preparation_by_weekday = preparation_df.groupby('weekday')['preparation_duration'].min()\n",
    "max_preparation_by_weekday = preparation_df.groupby('weekday')['preparation_duration'].max()\n",
    "average_preparation_by_weekday = preparation_df.groupby('weekday')['preparation_duration'].mean()\n",
    "\n",
    "print(\n",
    "    f'Minimum preparation duration for each {min_preparation_by_weekday}\\n\\n'\n",
    "    f'Maximum preparation duration for each {max_preparation_by_weekday}\\n\\n'\n",
    "    f'Average preparation duration for each {average_preparation_by_weekday}\\n\\n'\n",
    "    f'Average preparation duration in total {average_preparation_by_weekday.mean()}')"
   ]
  },
  {
   "cell_type": "code",
   "execution_count": null,
   "metadata": {},
   "outputs": [],
   "source": [
    "average_preparation_by_weekday.dtypes"
   ]
  },
  {
   "cell_type": "code",
   "execution_count": null,
   "metadata": {},
   "outputs": [],
   "source": [
    "average_preparation_by_weekday.sort_values(ascending=False)"
   ]
  },
  {
   "cell_type": "markdown",
   "metadata": {},
   "source": [
    "Plot the Average Preparation By Weekday."
   ]
  },
  {
   "cell_type": "code",
   "execution_count": null,
   "metadata": {},
   "outputs": [],
   "source": [
    "# Define the custom order of weekdays\n",
    "custom_order = ['Monday', 'Tuesday', 'Wednesday', 'Thursday', 'Friday', 'Saturday', 'Sunday']\n",
    "\n",
    "# Create a bar plot\n",
    "plt.figure(figsize=(7, 4))\n",
    "average_preparation_by_weekday.loc[custom_order].plot(kind='bar', color='skyblue')\n",
    "plt.title('Average Preparation Duration by Weekday')\n",
    "plt.xlabel('')\n",
    "plt.ylabel('Average Preparation Duration (Days)')\n",
    "plt.xticks(rotation=0)\n",
    "plt.grid(axis='y', linestyle='--', alpha=0.7)\n",
    "plt.tight_layout()\n",
    "plt.show()"
   ]
  },
  {
   "cell_type": "markdown",
   "metadata": {},
   "source": [
    "---\n",
    "---"
   ]
  },
  {
   "cell_type": "markdown",
   "metadata": {},
   "source": [
    "### **KPI 1: Preparation Duration** (order_date - ready_to_ship_date)"
   ]
  },
  {
   "cell_type": "markdown",
   "metadata": {},
   "source": [
    "Boxplot"
   ]
  },
  {
   "cell_type": "code",
   "execution_count": null,
   "metadata": {},
   "outputs": [],
   "source": [
    "# Setting up Seaborn style\n",
    "sns.set_style(\"whitegrid\")\n",
    "\n",
    "# Order the weekdays by their natural order\n",
    "weekdays_order = ['Monday', 'Tuesday', 'Wednesday', 'Thursday', 'Friday', 'Saturday', 'Sunday']\n",
    "\n",
    "# Plotting the data as boxplots with ordered weekdays and blue color\n",
    "plt.figure(figsize=(7, 4))\n",
    "sns.boxplot(x='weekday',\n",
    "            y='preparation_duration',\n",
    "            data=preparation_df,\n",
    "            palette='Blues',\n",
    "            order=weekdays_order,\n",
    "            medianprops=dict(color='red')\n",
    "            )\n",
    "plt.title('Distribution of Preparation Duration by Order Day')\n",
    "plt.xlabel('Order Day of Week')\n",
    "plt.ylabel('Preparation Duration (Days)')\n",
    "plt.xticks(rotation=45)\n",
    "plt.tight_layout()\n",
    "plt.show()"
   ]
  },
  {
   "cell_type": "markdown",
   "metadata": {},
   "source": [
    "Violin Plot"
   ]
  },
  {
   "cell_type": "code",
   "execution_count": null,
   "metadata": {},
   "outputs": [],
   "source": [
    "# Setting up Seaborn style\n",
    "sns.set_style(\"whitegrid\")\n",
    "\n",
    "# Order the weekdays by their natural order\n",
    "weekdays_order = ['Monday', 'Tuesday', 'Wednesday', 'Thursday', 'Friday', 'Saturday', 'Sunday']\n",
    "\n",
    "# Plotting the data as a violin plot with custom weekday order\n",
    "plt.figure(figsize=(7, 4))\n",
    "sns.violinplot(x='weekday',\n",
    "               y='preparation_duration',\n",
    "               data=preparation_df,\n",
    "               color='#387771',\n",
    "               order=weekdays_order)\n",
    "plt.title('Distribution of Preparation Duration by Order Day')\n",
    "plt.xlabel('')\n",
    "plt.ylabel('Preparation Duration (Days)')\n",
    "plt.xticks(rotation=0)\n",
    "plt.tight_layout()\n",
    "plt.show()"
   ]
  },
  {
   "cell_type": "code",
   "execution_count": null,
   "metadata": {},
   "outputs": [],
   "source": [
    "# Define the norm for preparation time\n",
    "norm_preparation_time = 2\n",
    "\n",
    "# Create bins fpr categorizing preparation duration\n",
    "bins = [-np.inf, norm_preparation_time - 1, norm_preparation_time + 1, np.inf]\n",
    "labels = ['Early', 'On Time', 'Late']\n",
    "\n",
    "# Create a new column 'status' to indicate the status of each order\n",
    "preparation_df['status'] = pd.cut(preparation_df['preparation_duration'],\n",
    "                                  bins = bins,\n",
    "                                  labels = labels\n",
    "                                  )\n",
    "\n",
    "# Count the number of orders in each status category\n",
    "status_counts = preparation_df['status'].value_counts()\n",
    "\n",
    "# Print the counts\n",
    "print(f'Number of orders by {status_counts}')"
   ]
  },
  {
   "cell_type": "code",
   "execution_count": null,
   "metadata": {},
   "outputs": [],
   "source": [
    "status_counts_percent = (status_counts / sum(status_counts)).round(2)\n",
    "print(f'Percentage of orders by {status_counts_percent}')"
   ]
  },
  {
   "cell_type": "code",
   "execution_count": null,
   "metadata": {},
   "outputs": [],
   "source": [
    "preparation_df.describe()"
   ]
  },
  {
   "cell_type": "markdown",
   "metadata": {},
   "source": [
    "---\n",
    "---"
   ]
  },
  {
   "cell_type": "markdown",
   "metadata": {},
   "source": [
    "## KPI 2:"
   ]
  },
  {
   "cell_type": "code",
   "execution_count": null,
   "metadata": {},
   "outputs": [],
   "source": [
    "readytoship_truck_df.sample(5)"
   ]
  },
  {
   "cell_type": "code",
   "execution_count": null,
   "metadata": {},
   "outputs": [],
   "source": [
    "# Group the data by ship mode and calculate the average duration for each mode\n",
    "average_duration_by_ship_mode = readytoship_truck_df.groupby('ship_mode')['ship_to_truck'].mean()\n",
    "\n",
    "# Plot the averade duration by ship mode\n",
    "plt.figure(figsize=(7, 4))\n",
    "average_duration_by_ship_mode.plot(kind='bar', color='#387771')\n",
    "plt.title('Average Truckloading Duration')\n",
    "plt.xlabel('')\n",
    "plt.ylabel('Average Shipment Duration (Days)')\n",
    "plt.xticks(rotation=0)\n",
    "plt.tight_layout()\n",
    "plt.show()"
   ]
  },
  {
   "cell_type": "code",
   "execution_count": null,
   "metadata": {},
   "outputs": [],
   "source": [
    "# Define the custom order of weekdays\n",
    "weekdays_order = ['Monday', 'Tuesday', 'Wednesday', 'Thursday', 'Friday', 'Saturday', 'Sunday']\n",
    "\n",
    "# Group the data by weekday and ship mode and calculate the average duration for each weekday and ship mode combination\n",
    "average_duration_by_weekday_and_ship_mode = readytoship_truck_df.groupby(\n",
    "                                                ['weekday', 'ship_mode']\n",
    "                                                )['ship_to_truck'].mean().reset_index()\n",
    "\n",
    "# Plot the average duration by ship mode for each weekday\n",
    "plt.figure(figsize=(8, 4))\n",
    "sns.barplot(x='weekday',\n",
    "            y='ship_to_truck',\n",
    "            hue='ship_mode',\n",
    "            data=average_duration_by_weekday_and_ship_mode,\n",
    "            palette='Blues',\n",
    "            order=weekdays_order)\n",
    "plt.title('Average Shipment Duration by Ship Mode for Each Weekday')\n",
    "plt.xlabel('Weekday')\n",
    "plt.ylabel('Average Shipment Duration (Days)')\n",
    "plt.legend(title='Ship Mode', bbox_to_anchor=(1.05, 1), loc='upper left')\n",
    "plt.xticks(rotation=0)\n",
    "plt.tight_layout()\n",
    "plt.show()"
   ]
  },
  {
   "cell_type": "code",
   "execution_count": 18,
   "metadata": {},
   "outputs": [],
   "source": [
    "# # Filter the DataFrame for Tuesdays and Thursdays\n",
    "# tuesday_thursday_orders = readytoship_truck_df[\n",
    "#                             (readytoship_truck_df['weekday'] == 'Tuesday') |\n",
    "#                             (readytoship_truck_df['weekday'] == 'Thursday')\n",
    "#                             ]\n",
    "\n",
    "# # Print the filtered DataFrame\n",
    "# tuesday_thursday_orders.head(20)"
   ]
  },
  {
   "cell_type": "code",
   "execution_count": null,
   "metadata": {},
   "outputs": [],
   "source": [
    "readytoship_truck_df.sample(5)"
   ]
  },
  {
   "cell_type": "code",
   "execution_count": null,
   "metadata": {},
   "outputs": [],
   "source": [
    "# Define the custom order of weekdays\n",
    "weekdays_order = ['Monday', 'Tuesday', 'Wednesday', 'Thursday', 'Friday', 'Saturday', 'Sunday']\n",
    "\n",
    "# Setting up Seaborn style\n",
    "sns.set_style(\"whitegrid\")\n",
    "\n",
    "# Plotting the data as grouped boxplots for each weekday and shipping mode with custom order\n",
    "plt.figure(figsize=(8, 5))\n",
    "sns.boxplot(x='weekday',\n",
    "            y='ship_to_truck',\n",
    "            hue='ship_mode',\n",
    "            data=readytoship_truck_df,\n",
    "            palette='Blues',\n",
    "            order=weekdays_order,\n",
    "            dodge=True,\n",
    "            width=0.6)\n",
    "plt.title('Distribution of Shipment Duration by Weekday and Shipping Mode')\n",
    "plt.xlabel('Weekday')\n",
    "plt.ylabel('Shipment Duration (Days)')\n",
    "plt.legend(title='Shipping Mode')\n",
    "# plt.xticks(rotation=45)\n",
    "plt.tight_layout()\n",
    "plt.show()\n"
   ]
  },
  {
   "cell_type": "markdown",
   "metadata": {},
   "source": [
    "---\n",
    "---"
   ]
  },
  {
   "cell_type": "markdown",
   "metadata": {},
   "source": [
    "## KPI 3: Order Delivery Time"
   ]
  },
  {
   "cell_type": "code",
   "execution_count": null,
   "metadata": {},
   "outputs": [],
   "source": [
    "order_delivery_df.sample(5)"
   ]
  },
  {
   "cell_type": "code",
   "execution_count": null,
   "metadata": {},
   "outputs": [],
   "source": [
    "# Grouping by ship mode and calculating the average delivery time\n",
    "average_delivery_time = order_delivery_df.groupby('ship_mode')['delivery_time'].mean()\n",
    "\n",
    "average_delivery_time"
   ]
  },
  {
   "cell_type": "code",
   "execution_count": null,
   "metadata": {},
   "outputs": [],
   "source": [
    "# Plotting\n",
    "plt.figure(figsize=(7, 4))\n",
    "average_delivery_time.plot(kind='bar', color='#387771')\n",
    "plt.title('Average Delivery Time by Ship Mode')\n",
    "plt.xlabel('Ship Mode')\n",
    "plt.ylabel('Average Delivery Time (days)')\n",
    "plt.xticks(rotation=0, ha='right')\n",
    "plt.grid(axis='y', linestyle='--', alpha=0.7)\n",
    "plt.tight_layout()\n",
    "plt.show()"
   ]
  },
  {
   "cell_type": "code",
   "execution_count": null,
   "metadata": {},
   "outputs": [],
   "source": [
    "order_delivery_df_2.sample(5)"
   ]
  },
  {
   "cell_type": "markdown",
   "metadata": {},
   "source": [
    "Calculate the average delivery time."
   ]
  },
  {
   "cell_type": "code",
   "execution_count": null,
   "metadata": {},
   "outputs": [],
   "source": [
    "average_delivery_time_2 = order_delivery_df_2['delivery_time_2'].mean()\n",
    "\n",
    "average_delivery_time_2"
   ]
  },
  {
   "cell_type": "markdown",
   "metadata": {},
   "source": [
    "## KPI 4: Total Order Delivery Time"
   ]
  },
  {
   "cell_type": "code",
   "execution_count": null,
   "metadata": {},
   "outputs": [],
   "source": [
    "order_delivery_total_df.sample(5)"
   ]
  },
  {
   "cell_type": "code",
   "execution_count": null,
   "metadata": {},
   "outputs": [],
   "source": [
    "order_delivery_total_df['order_weekday'] = order_delivery_total_df['order_date'].dt.day_name()\n",
    "\n",
    "order_delivery_total_df.sample(5)"
   ]
  },
  {
   "cell_type": "code",
   "execution_count": null,
   "metadata": {},
   "outputs": [],
   "source": [
    "order_delivery_total_df.dtypes"
   ]
  },
  {
   "cell_type": "markdown",
   "metadata": {},
   "source": [
    "Group by weekday and calculate average delivery time."
   ]
  },
  {
   "cell_type": "code",
   "execution_count": null,
   "metadata": {},
   "outputs": [],
   "source": [
    "average_delivery_time_weekday = order_delivery_total_df.groupby('order_weekday')['total_delivery_time'].mean()\n",
    "\n",
    "average_delivery_time_weekday.round(1)"
   ]
  },
  {
   "cell_type": "markdown",
   "metadata": {},
   "source": [
    "### Boxplot"
   ]
  },
  {
   "cell_type": "code",
   "execution_count": null,
   "metadata": {},
   "outputs": [],
   "source": [
    "# Define the custom order of weekdays\n",
    "weekdays_order = ['Monday', 'Tuesday', 'Wednesday', 'Thursday', 'Friday', 'Saturday', 'Sunday']\n",
    "\n",
    "# Calculate the order time in hours\n",
    "order_delivery_total_df['order_time_hours'] = (order_delivery_total_df['arrival_scan_date']\n",
    "                                               - order_delivery_total_df['order_date']\n",
    "                                               ).dt.total_seconds() / 3600\n",
    "\n",
    "# Plotting\n",
    "plt.figure(figsize=(7, 4))\n",
    "sns.boxplot(x='order_weekday',\n",
    "            y='order_time_hours',\n",
    "            data=order_delivery_total_df,\n",
    "            palette='Blues',\n",
    "            order=weekdays_order)\n",
    "plt.title('Order Time in Hours by Weekday')\n",
    "plt.xlabel('Weekday')\n",
    "plt.ylabel('Order Time (hours)')\n",
    "# plt.xticks(rotation=45)\n",
    "plt.tight_layout()\n",
    "plt.show()"
   ]
  },
  {
   "cell_type": "markdown",
   "metadata": {},
   "source": [
    "### Boxplot with Median"
   ]
  },
  {
   "cell_type": "code",
   "execution_count": null,
   "metadata": {},
   "outputs": [],
   "source": [
    "# Convert order time from hours to days\n",
    "order_delivery_total_df['order_time_days'] = order_delivery_total_df['order_time_hours'] / 24\n",
    "\n",
    "# Plotting\n",
    "plt.figure(figsize=(7, 4))\n",
    "sns.boxplot(x='order_weekday',\n",
    "            y='order_time_days',\n",
    "            data=order_delivery_total_df,\n",
    "            palette='Blues',\n",
    "            order=weekdays_order,\n",
    "            medianprops={'color':'red'})\n",
    "plt.title('Order Time in Days by Weekday')\n",
    "plt.xlabel('Weekday')\n",
    "plt.ylabel('Order Time (days)')\n",
    "# plt.xticks(rotation=45)\n",
    "plt.tight_layout()\n",
    "plt.show()"
   ]
  },
  {
   "cell_type": "markdown",
   "metadata": {},
   "source": [
    "### Line Plot"
   ]
  },
  {
   "cell_type": "code",
   "execution_count": null,
   "metadata": {},
   "outputs": [],
   "source": [
    "# Define the custom order of weekdays\n",
    "weekdays_order = ['Monday', 'Tuesday', 'Wednesday', 'Thursday', 'Friday', 'Saturday', 'Sunday']\n",
    "\n",
    "# Change the order in column 'order_weekday' as in weekdays_order\n",
    "order_delivery_total_df['order_weekday'] = pd.Categorical(order_delivery_total_df['order_weekday'],\n",
    "                                                          categories=weekdays_order,\n",
    "                                                          ordered=True)\n",
    "\n",
    "# Plotting\n",
    "plt.figure(figsize=(7, 4))\n",
    "sns.lineplot(x='order_weekday',\n",
    "             y='order_time_days',\n",
    "             data=order_delivery_total_df,\n",
    "             marker='o',\n",
    "             color='blue')\n",
    "plt.title('Order Time in Days by Weekday')\n",
    "plt.xlabel('Weekday')\n",
    "plt.ylabel('Order Time (days)')\n",
    "#plt.xticks(rotation=45)\n",
    "plt.grid(True)\n",
    "plt.tight_layout()\n",
    "plt.show()"
   ]
  },
  {
   "cell_type": "markdown",
   "metadata": {},
   "source": [
    "### Scatter Plot"
   ]
  },
  {
   "cell_type": "code",
   "execution_count": null,
   "metadata": {},
   "outputs": [],
   "source": [
    "# Plotting scatter plot\n",
    "plt.figure(figsize=(7, 4))\n",
    "sns.scatterplot(x='order_weekday',\n",
    "                y='order_time_days',\n",
    "                data=order_delivery_total_df,\n",
    "                #color='blue',\n",
    "                s=80)\n",
    "plt.title('Order Time in Days by Weekday')\n",
    "plt.xlabel('Weekday')\n",
    "plt.ylabel('Order Time (days)')\n",
    "#plt.xticks(rotation=45)\n",
    "plt.grid(True)\n",
    "plt.tight_layout()\n",
    "plt.show()"
   ]
  },
  {
   "cell_type": "markdown",
   "metadata": {},
   "source": [
    "### Area Plot"
   ]
  },
  {
   "cell_type": "code",
   "execution_count": null,
   "metadata": {},
   "outputs": [],
   "source": [
    "# Plotting area plot\n",
    "plt.figure(figsize=(7, 4))\n",
    "sns.lineplot(x='order_weekday',\n",
    "             y='order_time_days',\n",
    "             data=order_delivery_total_df,\n",
    "             marker='o',\n",
    "             color='blue')\n",
    "plt.fill_between(order_delivery_total_df['order_weekday'],\n",
    "                 order_delivery_total_df['order_time_days'],\n",
    "                 color='skyblue',\n",
    "                 alpha=0.3)\n",
    "plt.title('Order Time in Days by Weekday')\n",
    "plt.xlabel('Weekday')\n",
    "plt.ylabel('Order Time (days)')\n",
    "#plt.xticks(rotation=45)\n",
    "plt.grid(True)\n",
    "plt.tight_layout()\n",
    "plt.show()"
   ]
  },
  {
   "cell_type": "markdown",
   "metadata": {},
   "source": [
    "### Scatter Plot with Average line"
   ]
  },
  {
   "cell_type": "code",
   "execution_count": null,
   "metadata": {},
   "outputs": [],
   "source": [
    "# Calculate average delivery time in days\n",
    "average_delivery_time_days = order_delivery_total_df['total_delivery_time'].mean()\n",
    "\n",
    "# Plotting scatter plot with average line\n",
    "plt.figure(figsize=(7, 4))\n",
    "plt.scatter(order_delivery_total_df.index,\n",
    "            order_delivery_total_df['total_delivery_time'],\n",
    "            color='blue',\n",
    "            alpha=0.5)\n",
    "plt.axhline(y=average_delivery_time_days,\n",
    "            color='red',\n",
    "            linestyle='-',\n",
    "            label=f'Average Delivery Time: {average_delivery_time_days:.2f} days')\n",
    "plt.title('Delivery Time for Each Order')\n",
    "plt.xlabel('Order Index')\n",
    "plt.ylabel('Delivery Time (days)')\n",
    "plt.legend()\n",
    "plt.grid(True)\n",
    "plt.tight_layout()\n",
    "plt.show()"
   ]
  },
  {
   "cell_type": "markdown",
   "metadata": {},
   "source": [
    "### Bar Plot with 95% Confidence Interval"
   ]
  },
  {
   "cell_type": "code",
   "execution_count": null,
   "metadata": {},
   "outputs": [],
   "source": [
    "# Define the order of weekdays\n",
    "weekday_order = ['Monday', 'Tuesday', 'Wednesday', 'Thursday', 'Friday', 'Saturday', 'Sunday']\n",
    "\n",
    "# Calculate average order time and 95th percentile for each weekday\n",
    "average_order_time = order_delivery_total_df.groupby('order_weekday'\n",
    "                                                     )['order_time_days'\n",
    "                                                       ].mean().reindex(weekday_order)\n",
    "percentile_95 = order_delivery_total_df.groupby('order_weekday'\n",
    "                                           )['order_time_days'\n",
    "                                             ].quantile(0.95).reindex(weekday_order)\n",
    "\n",
    "# Plotting barplot\n",
    "plt.figure(figsize=(7, 4))\n",
    "sns.barplot(x=average_order_time.index,\n",
    "            y=average_order_time.values,\n",
    "            color='skyblue',\n",
    "            label='Average Order Time')\n",
    "plt.errorbar(x=average_order_time.index,\n",
    "             y=average_order_time.values,\n",
    "             yerr=np.abs(percentile_95 - average_order_time.values),\n",
    "             fmt='none',\n",
    "             ecolor='black',\n",
    "             capsize=5, label='95% Confidence Interval')\n",
    "plt.title('Average Delivery Time and 95% Confidence Interval by Weekday')\n",
    "plt.xlabel('')\n",
    "plt.ylabel('Delivery Time (days)')\n",
    "plt.xticks(rotation=0)\n",
    "plt.legend()\n",
    "plt.tight_layout()\n",
    "plt.ylim(0, 18)\n",
    "plt.show()"
   ]
  },
  {
   "cell_type": "code",
   "execution_count": null,
   "metadata": {},
   "outputs": [],
   "source": [
    "# Calculate average order time and 95th percentile for each weekday\n",
    "average_order_time = order_delivery_total_df.groupby('order_weekday'\n",
    "                                                     )['order_time_days'\n",
    "                                                       ].mean().reindex(weekday_order)\n",
    "percentile_95 = order_delivery_total_df.groupby('order_weekday'\n",
    "                                                )['order_time_days'\n",
    "                                                  ].quantile(0.95).reindex(weekday_order)\n",
    "\n",
    "# Plotting barplot\n",
    "plt.figure(figsize=(10, 4))\n",
    "sns.barplot(x=average_order_time.index,\n",
    "            y=average_order_time.values,\n",
    "            palette=['#387771'],\n",
    "            label='Average Order Time')\n",
    "plt.errorbar(x=average_order_time.index,\n",
    "             y=average_order_time.values,\n",
    "             yerr=np.abs(percentile_95 - average_order_time.values),\n",
    "             fmt='none', ecolor='black',\n",
    "             capsize=5,\n",
    "             label='95% Confidence Interval')\n",
    "plt.title('Average Delivery Time and 95% Confidence Interval by Weekday')\n",
    "plt.xlabel('')\n",
    "plt.ylabel('Delivery Time (days)')\n",
    "plt.xticks(rotation=0)\n",
    "plt.legend(loc='upper left', bbox_to_anchor=(1, 1))\n",
    "plt.tight_layout()\n",
    "plt.ylim(0, 18)\n",
    "plt.show()"
   ]
  },
  {
   "cell_type": "markdown",
   "metadata": {},
   "source": [
    "Average days for total delivery for each of the processing categories"
   ]
  },
  {
   "cell_type": "code",
   "execution_count": null,
   "metadata": {},
   "outputs": [],
   "source": [
    "total_deliveries_shipmode_df = order_delivery_total_df.merge(order_process_data_df,\n",
    "                                                             how='outer',\n",
    "                                                             on='order_id'\n",
    "                                                             ).groupby('ship_mode'\n",
    "                                                                       )[['total_delivery_time']\n",
    "                                                                         ].mean() #.round(2)\n",
    "\n",
    "total_deliveries_shipmode_df"
   ]
  },
  {
   "cell_type": "code",
   "execution_count": null,
   "metadata": {},
   "outputs": [],
   "source": [
    "total_deliveries_shipmode_df.info()"
   ]
  },
  {
   "cell_type": "code",
   "execution_count": null,
   "metadata": {},
   "outputs": [],
   "source": [
    "# Plotting barplot\n",
    "plt.figure(figsize=(7, 4))\n",
    "plt.bar(total_deliveries_shipmode_df.index,\n",
    "        total_deliveries_shipmode_df['total_delivery_time'],\n",
    "        color='#387771')\n",
    "plt.title('Average Delivery Time')\n",
    "plt.xlabel('')\n",
    "plt.ylabel('Total Delivery Time')\n",
    "plt.tight_layout()\n",
    "plt.show()"
   ]
  },
  {
   "cell_type": "markdown",
   "metadata": {},
   "source": [
    "---\n",
    "---"
   ]
  },
  {
   "cell_type": "markdown",
   "metadata": {},
   "source": [
    "Save DataFrames in csv files so that they can be used in other programmes."
   ]
  },
  {
   "cell_type": "code",
   "execution_count": null,
   "metadata": {},
   "outputs": [],
   "source": [
    "# Dictionary with all the DataFrames and their names\n",
    "dataframes = {\n",
    "    'orders_df': orders_df,\n",
    "    'campaign_data_df': campaign_data_df,\n",
    "    'order_process_data_df': order_process_data_df,\n",
    "    'interndata_study_df': interndata_study_df,\n",
    "    'preparation_df': preparation_df,\n",
    "    'readytoship_truck_df': readytoship_truck_df,\n",
    "    'standard_readytoship_truck_df': standard_readytoship_truck_df,\n",
    "    'express_readytoship_truck_df': express_readytoship_truck_df,\n",
    "    'order_delivery_df': order_delivery_df,\n",
    "    'order_delivery_df_2': order_delivery_df_2,\n",
    "    'order_delivery_total_df': order_delivery_total_df,\n",
    "    'total_deliveries_shipmode_df': total_deliveries_shipmode_df\n",
    "    }\n",
    "\n",
    "# Save each DataFrame in a separate CSV-File\n",
    "for name, dataframe in dataframes.items():\n",
    "    filename = f'{name}.csv'\n",
    "    dataframe.to_csv(filename, index=False)\n",
    "    print(f'{filename} saved.')"
   ]
  }
 ],
 "metadata": {
  "kernelspec": {
   "display_name": "sabbys_base",
   "language": "python",
   "name": "python3"
  },
  "language_info": {
   "codemirror_mode": {
    "name": "ipython",
    "version": 3
   },
   "file_extension": ".py",
   "mimetype": "text/x-python",
   "name": "python",
   "nbconvert_exporter": "python",
   "pygments_lexer": "ipython3",
   "version": "3.12.3"
  }
 },
 "nbformat": 4,
 "nbformat_minor": 2
}
