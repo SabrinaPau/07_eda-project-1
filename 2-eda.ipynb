{
 "cells": [
  {
   "cell_type": "code",
   "execution_count": 1,
   "metadata": {},
   "outputs": [],
   "source": [
    "import pandas as pd\n",
    "import matplotlib.pyplot as plt\n",
    "import seaborn as sns\n",
    "from functools import reduce"
   ]
  },
  {
   "cell_type": "markdown",
   "metadata": {},
   "source": [
    "Read all the worksheets from the data excel file"
   ]
  },
  {
   "cell_type": "code",
   "execution_count": 2,
   "metadata": {},
   "outputs": [],
   "source": [
    "orders_df = pd.read_excel('../data/Muesli Project raw data - group 3.xlsx', header=1, sheet_name=0)\n",
    "campaign_data_df = pd.read_excel('../data/Muesli Project raw data - group 3.xlsx', sheet_name=1)\n",
    "order_process_data_df = pd.read_excel('../data/Muesli Project raw data - group 3.xlsx', sheet_name=2)\n",
    "interndata_study_df = pd.read_excel('../data/Muesli Project raw data - group 3.xlsx', sheet_name=3)"
   ]
  },
  {
   "cell_type": "markdown",
   "metadata": {},
   "source": [
    "Check the headers of the DataFrames"
   ]
  },
  {
   "cell_type": "code",
   "execution_count": null,
   "metadata": {},
   "outputs": [],
   "source": [
    "dataframes = [orders_df,\n",
    "              campaign_data_df,\n",
    "              order_process_data_df,\n",
    "              interndata_study_df\n",
    "              ]\n",
    "\n",
    "for df in dataframes:\n",
    "    print(df.columns)\n",
    "    print('-' * 30)"
   ]
  },
  {
   "cell_type": "markdown",
   "metadata": {},
   "source": [
    "Change column names to lower case and snake case."
   ]
  },
  {
   "cell_type": "code",
   "execution_count": null,
   "metadata": {},
   "outputs": [],
   "source": [
    "dataframes = [orders_df,\n",
    "              campaign_data_df,\n",
    "              order_process_data_df,\n",
    "              interndata_study_df\n",
    "              ]\n",
    "\n",
    "for df in dataframes:\n",
    "    df.columns = df.columns.str.lower()\n",
    "    df.columns = df.columns.str.replace(' ', '_')\n",
    "    print(df.columns)\n",
    "    print('-' * 30)"
   ]
  },
  {
   "cell_type": "markdown",
   "metadata": {},
   "source": [
    "Delete unneeded columns."
   ]
  },
  {
   "cell_type": "code",
   "execution_count": 5,
   "metadata": {},
   "outputs": [],
   "source": [
    "orders_df = orders_df.drop(\n",
    "                    ['index', 'origin_channel', 'category', 'sub-category'],\n",
    "                    axis=1)\n",
    "\n",
    "campaign_data_df = campaign_data_df.drop(\n",
    "                    ['customer_name'],\n",
    "                    axis=1)\n",
    "\n",
    "order_process_data_df = order_process_data_df.drop(\n",
    "                    ['row_id', 'order_date'],\n",
    "                    axis=1)"
   ]
  },
  {
   "cell_type": "code",
   "execution_count": null,
   "metadata": {},
   "outputs": [],
   "source": [
    "dataframes = [orders_df,\n",
    "              campaign_data_df,\n",
    "              order_process_data_df,\n",
    "              interndata_study_df\n",
    "              ]\n",
    "\n",
    "for df in dataframes:\n",
    "    print(df.columns)\n",
    "    print('-' * 30)"
   ]
  },
  {
   "cell_type": "markdown",
   "metadata": {},
   "source": [
    "Check the number of rows and columns."
   ]
  },
  {
   "cell_type": "code",
   "execution_count": null,
   "metadata": {},
   "outputs": [],
   "source": [
    "dataframes = [orders_df,\n",
    "              campaign_data_df,\n",
    "              order_process_data_df,\n",
    "              interndata_study_df\n",
    "              ]\n",
    "\n",
    "for df in dataframes:\n",
    "    print(df.shape)"
   ]
  },
  {
   "cell_type": "markdown",
   "metadata": {},
   "source": [
    "Check for duplicates."
   ]
  },
  {
   "cell_type": "code",
   "execution_count": null,
   "metadata": {},
   "outputs": [],
   "source": [
    "dataframes = [orders_df,\n",
    "              campaign_data_df,\n",
    "              order_process_data_df,\n",
    "              interndata_study_df\n",
    "              ]\n",
    "\n",
    "for df in dataframes:\n",
    "    print(df.duplicated().value_counts())\n",
    "    print('---')\n",
    "    print(df.shape)\n",
    "    print('-' * 30)"
   ]
  },
  {
   "cell_type": "markdown",
   "metadata": {},
   "source": [
    "Drop the duplicates."
   ]
  },
  {
   "cell_type": "code",
   "execution_count": null,
   "metadata": {},
   "outputs": [],
   "source": [
    "dataframes = [orders_df,\n",
    "              campaign_data_df,\n",
    "              order_process_data_df,\n",
    "              interndata_study_df\n",
    "              ]\n",
    "\n",
    "for df in dataframes:\n",
    "    df.drop_duplicates(inplace=True)\n",
    "    print(df.duplicated().value_counts())\n",
    "    print('---')"
   ]
  },
  {
   "cell_type": "markdown",
   "metadata": {},
   "source": [
    "Print column-names to decide on which columns to merge."
   ]
  },
  {
   "cell_type": "code",
   "execution_count": null,
   "metadata": {},
   "outputs": [],
   "source": [
    "dataframes = [orders_df,\n",
    "              campaign_data_df,\n",
    "              order_process_data_df,\n",
    "              interndata_study_df\n",
    "              ]\n",
    "\n",
    "for df in dataframes:\n",
    "    print(df.columns)\n",
    "    print('-' * 30)"
   ]
  },
  {
   "cell_type": "markdown",
   "metadata": {},
   "source": [
    "---\n",
    "---"
   ]
  },
  {
   "cell_type": "markdown",
   "metadata": {},
   "source": [
    "We have to calculate and validate the company assumptions:\n",
    "1. **Preparation**: Preparation process duration from order recieve to shipping (2 days): \"Order Date\" - \"Ready to Ship Day\": merge 'orders_df' and 'interndata_study_df'\n",
    "2. **Ready to Ship to on Truck**: Duration of process from \"Ready to Ship\" to \"on Truck\" (1 day for normal, 0 days for express): merge 'order_process_data_df' and 'interndata_study_df'\n",
    "3. **Ready to Ship to on Truck Express**: Efficacy of \"Express Processing\"; the order ought to be on the truck on the ready to ship day\n",
    "4. **Order Delivery**: From \"On Truck Scan\" to \"Arrival Scan Date\": merge campaign_data_df and order_process_data_df\n",
    "5. **Order Delivery 2**: From \"Pickup Date\" to \"Arrival Scan Date\": merge campaign_data_df and interndata_study_df\n",
    "6. **Order Delivery total**: Get an image of the whole delivery process duration, from 'Order Date' to 'Arrival Scan Date': merge orders_df and campaign_data_df"
   ]
  },
  {
   "cell_type": "markdown",
   "metadata": {},
   "source": [
    "---"
   ]
  },
  {
   "cell_type": "markdown",
   "metadata": {},
   "source": [
    "### 1. **Preparation**: Preparation process duration from order recieve to shipping (2 days): \"Order Date\" - \"Ready to Ship Day\":\n",
    "merge 'orders_df' and 'interndata_study_df'"
   ]
  },
  {
   "cell_type": "code",
   "execution_count": 11,
   "metadata": {},
   "outputs": [],
   "source": [
    "preparation_df = pd.merge(orders_df, interndata_study_df,\n",
    "                          on = 'order_id',\n",
    "                          how = 'inner')"
   ]
  },
  {
   "cell_type": "code",
   "execution_count": null,
   "metadata": {},
   "outputs": [],
   "source": [
    "preparation_df.columns"
   ]
  },
  {
   "cell_type": "markdown",
   "metadata": {},
   "source": [
    "Delete unneeded columns."
   ]
  },
  {
   "cell_type": "code",
   "execution_count": 13,
   "metadata": {},
   "outputs": [],
   "source": [
    "preparation_df = preparation_df.drop(['ship_mode',\n",
    "                                      'country/region',\n",
    "                                      'city',\n",
    "                                      'state',\n",
    "                                      'postal_code',\n",
    "                                      'region',\n",
    "                                      'product_id',\n",
    "                                      'sales',\n",
    "                                      'quantity',\n",
    "                                      'discount',\n",
    "                                      'profit'], axis=1)"
   ]
  },
  {
   "cell_type": "code",
   "execution_count": null,
   "metadata": {},
   "outputs": [],
   "source": [
    "preparation_df.sample(10)"
   ]
  },
  {
   "cell_type": "markdown",
   "metadata": {},
   "source": [
    "Extract the weekday from the date column."
   ]
  },
  {
   "cell_type": "code",
   "execution_count": null,
   "metadata": {},
   "outputs": [],
   "source": [
    "preparation_df['weekday'] = preparation_df['order_date'].dt.day_name()\n",
    "\n",
    "preparation_df.sample(10)"
   ]
  },
  {
   "cell_type": "markdown",
   "metadata": {},
   "source": [
    "Convert the date columns to datetime format."
   ]
  },
  {
   "cell_type": "code",
   "execution_count": null,
   "metadata": {},
   "outputs": [],
   "source": [
    "preparation_df['order_date'] = pd.to_datetime(preparation_df['order_date'])\n",
    "preparation_df['ready_to_ship_date'] = pd.to_datetime(preparation_df['ready_to_ship_date'])\n",
    "preparation_df['pickup_date'] = pd.to_datetime(preparation_df['pickup_date'])\n",
    "\n",
    "preparation_df.info()"
   ]
  },
  {
   "cell_type": "markdown",
   "metadata": {},
   "source": [
    "Check the type of data in the columns."
   ]
  },
  {
   "cell_type": "code",
   "execution_count": null,
   "metadata": {},
   "outputs": [],
   "source": [
    "preparation_df.dtypes"
   ]
  },
  {
   "cell_type": "markdown",
   "metadata": {},
   "source": [
    "Calculate the preparation duration for each order and print it in a new column."
   ]
  },
  {
   "cell_type": "code",
   "execution_count": null,
   "metadata": {},
   "outputs": [],
   "source": [
    "preparation_df['preparation_duration'] = (preparation_df['ready_to_ship_date']\n",
    "                                            - preparation_df['order_date']\n",
    "                                            ).dt.days\n",
    "\n",
    "preparation_df.sample(10)"
   ]
  },
  {
   "cell_type": "code",
   "execution_count": null,
   "metadata": {},
   "outputs": [],
   "source": [
    "preparation_df['preparation_duration'].unique()"
   ]
  },
  {
   "cell_type": "markdown",
   "metadata": {},
   "source": [
    "Setting up seaborn and plotting the data as boxplots."
   ]
  },
  {
   "cell_type": "code",
   "execution_count": null,
   "metadata": {},
   "outputs": [],
   "source": [
    "sns.set_style('whitegrid')\n",
    "custom_order = ['Monday', 'Tuesday', 'Wednesday', 'Thursday', 'Friday', 'Saturday', 'Sunday']\n",
    "\n",
    "plt.figure(figsize=(10, 6))\n",
    "sns.boxplot(x = 'weekday',\n",
    "            y = 'preparation_duration',\n",
    "            data = preparation_df,\n",
    "            order = custom_order,\n",
    "            color = 'skyblue',\n",
    "            medianprops = dict(color = 'red'))\n",
    "plt.title('Distribition of Preparation Duration by Order Day')\n",
    "plt.xlabel('Order Day of Week')\n",
    "plt.ylabel('Preparation Duration (Days)')\n",
    "plt.xticks(rotation = 45)\n",
    "plt.tight_layout()\n",
    "plt.show()"
   ]
  },
  {
   "cell_type": "markdown",
   "metadata": {},
   "source": [
    "Calculate the mean Preparation Duration."
   ]
  },
  {
   "cell_type": "code",
   "execution_count": null,
   "metadata": {},
   "outputs": [],
   "source": [
    "mean_preparation_days = preparation_df['preparation_duration'].mean()\n",
    "\n",
    "mean_preparation_days"
   ]
  },
  {
   "cell_type": "markdown",
   "metadata": {},
   "source": [
    "**=> 4 days and ca. 4 hours**  \n",
    "That's way more than the claimed 2 days preparation duration!"
   ]
  },
  {
   "cell_type": "markdown",
   "metadata": {},
   "source": [
    "---"
   ]
  },
  {
   "cell_type": "markdown",
   "metadata": {},
   "source": [
    "### 2. **Ready to Ship to on Truck**: Duration of process from \"Ready to Ship\" to \"on Truck\" (1 day for normal, 0 days for express):\n",
    "merge 'order_process_data_df' and 'interndata_study_df'"
   ]
  },
  {
   "cell_type": "code",
   "execution_count": 22,
   "metadata": {},
   "outputs": [],
   "source": [
    "readytoship_truck_df = pd.merge(order_process_data_df, interndata_study_df,\n",
    "                                on = 'order_id',\n",
    "                                how = 'inner')"
   ]
  },
  {
   "cell_type": "code",
   "execution_count": null,
   "metadata": {},
   "outputs": [],
   "source": [
    "readytoship_truck_df.columns"
   ]
  },
  {
   "cell_type": "markdown",
   "metadata": {},
   "source": [
    "No columns to delete."
   ]
  },
  {
   "cell_type": "code",
   "execution_count": null,
   "metadata": {},
   "outputs": [],
   "source": [
    "readytoship_truck_df.sample(10)"
   ]
  },
  {
   "cell_type": "markdown",
   "metadata": {},
   "source": [
    "Extract the weekday name from the date column."
   ]
  },
  {
   "cell_type": "code",
   "execution_count": null,
   "metadata": {},
   "outputs": [],
   "source": [
    "readytoship_truck_df['weekday'] = readytoship_truck_df['on_truck_scan_date'].dt.day_name()\n",
    "\n",
    "readytoship_truck_df.sample(10)"
   ]
  },
  {
   "cell_type": "markdown",
   "metadata": {},
   "source": [
    "No convertion to datetime needed (see below)."
   ]
  },
  {
   "cell_type": "code",
   "execution_count": null,
   "metadata": {},
   "outputs": [],
   "source": [
    "readytoship_truck_df.info()"
   ]
  },
  {
   "cell_type": "markdown",
   "metadata": {},
   "source": [
    "Calculate the duration of the process from 'Ready to Ship' to 'on Truck' and print it in a new column."
   ]
  },
  {
   "cell_type": "code",
   "execution_count": null,
   "metadata": {},
   "outputs": [],
   "source": [
    "readytoship_truck_df['ship_to_truck'] = (readytoship_truck_df['on_truck_scan_date']\n",
    "                                            - readytoship_truck_df['ready_to_ship_date']\n",
    "                                            ).dt.days\n",
    "\n",
    "readytoship_truck_df.sample(10)"
   ]
  },
  {
   "cell_type": "code",
   "execution_count": null,
   "metadata": {},
   "outputs": [],
   "source": [
    "readytoship_truck_df['ship_to_truck'].unique()"
   ]
  },
  {
   "cell_type": "markdown",
   "metadata": {},
   "source": [
    "Filter for standard processing."
   ]
  },
  {
   "cell_type": "code",
   "execution_count": null,
   "metadata": {},
   "outputs": [],
   "source": [
    "standard_readytoship_truck_df = readytoship_truck_df[readytoship_truck_df['ship_mode'] == 'Standard Processing']\n",
    "\n",
    "standard_readytoship_truck_df.sample(10)"
   ]
  },
  {
   "cell_type": "markdown",
   "metadata": {},
   "source": [
    "Calculate the mean Preparation Duration for Standard Processing."
   ]
  },
  {
   "cell_type": "code",
   "execution_count": null,
   "metadata": {},
   "outputs": [],
   "source": [
    "mean_standard_days = standard_readytoship_truck_df['ship_to_truck'].mean()\n",
    "\n",
    "mean_standard_days"
   ]
  },
  {
   "cell_type": "markdown",
   "metadata": {},
   "source": [
    "**=> ca. 2 days**  \n",
    "That's more than the claimed 1 day."
   ]
  },
  {
   "cell_type": "markdown",
   "metadata": {},
   "source": [
    "---"
   ]
  },
  {
   "cell_type": "markdown",
   "metadata": {},
   "source": [
    "### 3. **Ready to Ship to on Truck Express**: Efficacy of \"Express Processing\"; the order ought to be on the truck on the ready to ship day"
   ]
  },
  {
   "cell_type": "code",
   "execution_count": null,
   "metadata": {},
   "outputs": [],
   "source": [
    "express_readytoship_truck_df = readytoship_truck_df[readytoship_truck_df['ship_mode'] == 'Express']\n",
    "\n",
    "express_readytoship_truck_df.sample(10)"
   ]
  },
  {
   "cell_type": "markdown",
   "metadata": {},
   "source": [
    "Calculate the mean Preparation Duration for Express Processing."
   ]
  },
  {
   "cell_type": "code",
   "execution_count": null,
   "metadata": {},
   "outputs": [],
   "source": [
    "mean_express_days = express_readytoship_truck_df['ship_to_truck'].mean()\n",
    "\n",
    "mean_express_days"
   ]
  },
  {
   "cell_type": "markdown",
   "metadata": {},
   "source": [
    "**=> ca. 10 hours**  \n",
    "Less than the claimed 1 day!"
   ]
  },
  {
   "cell_type": "markdown",
   "metadata": {},
   "source": [
    "---"
   ]
  },
  {
   "cell_type": "markdown",
   "metadata": {},
   "source": [
    "### 4. **Order Delivery**: From \"On Truck Scan\" to \"Arrival Scan Date\":\n",
    "merge campaign_data_df and order_process_data_df"
   ]
  },
  {
   "cell_type": "code",
   "execution_count": 33,
   "metadata": {},
   "outputs": [],
   "source": [
    "order_delivery_df = pd.merge(campaign_data_df, order_process_data_df,\n",
    "                             on = 'order_id',\n",
    "                             how = 'inner')"
   ]
  },
  {
   "cell_type": "code",
   "execution_count": null,
   "metadata": {},
   "outputs": [],
   "source": [
    "order_delivery_df.columns"
   ]
  },
  {
   "cell_type": "markdown",
   "metadata": {},
   "source": [
    "No columns to delete."
   ]
  },
  {
   "cell_type": "code",
   "execution_count": null,
   "metadata": {},
   "outputs": [],
   "source": [
    "order_delivery_df['delivery_time'] = (order_delivery_df['arrival_scan_date']\n",
    "                                      - order_delivery_df['on_truck_scan_date']\n",
    "                                      ).dt.days\n",
    "\n",
    "order_delivery_df.sample(10)"
   ]
  },
  {
   "cell_type": "code",
   "execution_count": null,
   "metadata": {},
   "outputs": [],
   "source": [
    "order_delivery_df['delivery_time'].unique()"
   ]
  },
  {
   "cell_type": "markdown",
   "metadata": {},
   "source": [
    "Calculate the mean Order Delivery Duration."
   ]
  },
  {
   "cell_type": "code",
   "execution_count": null,
   "metadata": {},
   "outputs": [],
   "source": [
    "mean_order_delivery_days = order_delivery_df['delivery_time'].mean()\n",
    "\n",
    "mean_order_delivery_days"
   ]
  },
  {
   "cell_type": "markdown",
   "metadata": {},
   "source": [
    "**=> 4 days 14 hours**  \n",
    "More than the claimed 3 days!"
   ]
  },
  {
   "cell_type": "markdown",
   "metadata": {},
   "source": [
    "---"
   ]
  },
  {
   "cell_type": "markdown",
   "metadata": {},
   "source": [
    "### 5. **Order Delivery 2**: From \"Pickup Date\" to \"Arrival Scan Date\":\n",
    "merge campaign_data_df and interndata_study_df"
   ]
  },
  {
   "cell_type": "code",
   "execution_count": 38,
   "metadata": {},
   "outputs": [],
   "source": [
    "order_delivery_df_2 = pd.merge(campaign_data_df, interndata_study_df,\n",
    "                               on = 'order_id',\n",
    "                               how = 'inner')"
   ]
  },
  {
   "cell_type": "code",
   "execution_count": null,
   "metadata": {},
   "outputs": [],
   "source": [
    "order_delivery_df_2.columns"
   ]
  },
  {
   "cell_type": "markdown",
   "metadata": {},
   "source": [
    "No columns to delete."
   ]
  },
  {
   "cell_type": "code",
   "execution_count": null,
   "metadata": {},
   "outputs": [],
   "source": [
    "order_delivery_df_2['delivery_time_2'] = (order_delivery_df_2['arrival_scan_date']\n",
    "                                          - order_delivery_df_2['pickup_date']\n",
    "                                          ).dt.days\n",
    "order_delivery_df_2.sample(10)"
   ]
  },
  {
   "cell_type": "code",
   "execution_count": null,
   "metadata": {},
   "outputs": [],
   "source": [
    "order_delivery_df_2['delivery_time_2'].unique()"
   ]
  },
  {
   "cell_type": "markdown",
   "metadata": {},
   "source": [
    "Calculate the mean Order Delivery Duration."
   ]
  },
  {
   "cell_type": "code",
   "execution_count": null,
   "metadata": {},
   "outputs": [],
   "source": [
    "mean_order_delivery_days_2 = order_delivery_df_2['delivery_time_2'].mean()\n",
    "\n",
    "mean_order_delivery_days_2"
   ]
  },
  {
   "cell_type": "markdown",
   "metadata": {},
   "source": [
    "**=> 4 days 16 hours**  \n",
    "More than the claimed 3 days!"
   ]
  },
  {
   "cell_type": "markdown",
   "metadata": {},
   "source": [
    "---"
   ]
  },
  {
   "cell_type": "markdown",
   "metadata": {},
   "source": [
    "### 6. **Order Delivery total**: Get an image of the whole delivery process duration, from 'Order Date' to 'Arrival Scan Date':\n",
    "merge orders_df and campaign_data_df"
   ]
  },
  {
   "cell_type": "code",
   "execution_count": 43,
   "metadata": {},
   "outputs": [],
   "source": [
    "order_delivery_total_df = pd.merge(orders_df, campaign_data_df,\n",
    "                                on = 'order_id',\n",
    "                                how = 'inner')"
   ]
  },
  {
   "cell_type": "code",
   "execution_count": null,
   "metadata": {},
   "outputs": [],
   "source": [
    "order_delivery_total_df.columns"
   ]
  },
  {
   "cell_type": "markdown",
   "metadata": {},
   "source": [
    "Delete unneeded columns."
   ]
  },
  {
   "cell_type": "code",
   "execution_count": 45,
   "metadata": {},
   "outputs": [],
   "source": [
    "order_delivery_total_df = order_delivery_total_df.drop(['ship_mode',\n",
    "                                                        'country/region',\n",
    "                                                        'city',\n",
    "                                                        'state',\n",
    "                                                        'postal_code',\n",
    "                                                        'region',\n",
    "                                                        'product_id',\n",
    "                                                        'sales',\n",
    "                                                        'quantity',\n",
    "                                                        'discount',\n",
    "                                                        'profit'],\n",
    "                                                        axis=1)"
   ]
  },
  {
   "cell_type": "code",
   "execution_count": null,
   "metadata": {},
   "outputs": [],
   "source": [
    "order_delivery_total_df.sample(10)"
   ]
  },
  {
   "cell_type": "markdown",
   "metadata": {},
   "source": [
    "Calculate the Total Delivery Time."
   ]
  },
  {
   "cell_type": "code",
   "execution_count": null,
   "metadata": {},
   "outputs": [],
   "source": [
    "order_delivery_total_df['total_delivery_time'] = (order_delivery_total_df['arrival_scan_date']\n",
    "                                                  - order_delivery_total_df['order_date']\n",
    "                                                  ).dt.days\n",
    "order_delivery_total_df.sample(10)"
   ]
  },
  {
   "cell_type": "markdown",
   "metadata": {},
   "source": [
    "Calculate the mean Total Delivery Time."
   ]
  },
  {
   "cell_type": "code",
   "execution_count": null,
   "metadata": {},
   "outputs": [],
   "source": [
    "mean_delivery_total_days = order_delivery_total_df['total_delivery_time'].mean()\n",
    "\n",
    "mean_delivery_total_days"
   ]
  },
  {
   "cell_type": "markdown",
   "metadata": {},
   "source": [
    "**=> 10 days 21 hours**\n",
    "Twice as long as the claimed 5 days!"
   ]
  },
  {
   "cell_type": "markdown",
   "metadata": {},
   "source": [
    "---\n",
    "---"
   ]
  },
  {
   "cell_type": "markdown",
   "metadata": {},
   "source": [
    "Save all the dataframes to reuse them in other notebooks."
   ]
  },
  {
   "cell_type": "code",
   "execution_count": null,
   "metadata": {},
   "outputs": [],
   "source": [
    "%store orders_df\n",
    "%store campaign_data_df\n",
    "%store order_process_data_df\n",
    "%store interndata_study_df\n",
    "\n",
    "%store preparation_df\n",
    "%store readytoship_truck_df\n",
    "%store standard_readytoship_truck_df\n",
    "%store express_readytoship_truck_df\n",
    "%store order_delivery_df\n",
    "%store order_delivery_df_2\n",
    "%store order_delivery_total_df"
   ]
  }
 ],
 "metadata": {
  "kernelspec": {
   "display_name": "nf_base",
   "language": "python",
   "name": "python3"
  },
  "language_info": {
   "codemirror_mode": {
    "name": "ipython",
    "version": 3
   },
   "file_extension": ".py",
   "mimetype": "text/x-python",
   "name": "python",
   "nbconvert_exporter": "python",
   "pygments_lexer": "ipython3",
   "version": "3.12.3"
  }
 },
 "nbformat": 4,
 "nbformat_minor": 2
}
