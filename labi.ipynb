{
 "cells": [
  {
   "cell_type": "code",
   "execution_count": 1,
   "metadata": {},
   "outputs": [],
   "source": [
    "import pandas as pd\n",
    "import matplotlib.pyplot as plt\n",
    "import seaborn as sns\n",
    "from functools import reduce"
   ]
  },
  {
   "cell_type": "code",
   "execution_count": 2,
   "metadata": {},
   "outputs": [],
   "source": [
    "# read all the worksheets form the data excel file\n",
    "df = pd.read_excel('/Users/labinothaziri/neuefische/da-EDA_project_team3/data/Muesli Project raw data.xlsx', header=1)\n",
    "df1 = pd.read_excel('/Users/labinothaziri/neuefische/da-EDA_project_team3/data/Muesli Project raw data.xlsx',sheet_name=1)\n",
    "df2 = pd.read_excel('/Users/labinothaziri/neuefische/da-EDA_project_team3/data/Muesli Project raw data.xlsx',sheet_name=2)\n",
    "df3 = pd.read_excel('/Users/labinothaziri/neuefische/da-EDA_project_team3/data/Muesli Project raw data.xlsx',sheet_name=3)"
   ]
  },
  {
   "cell_type": "code",
   "execution_count": 3,
   "metadata": {},
   "outputs": [
    {
     "name": "stdout",
     "output_type": "stream",
     "text": [
      "Index(['Index', 'Order ID', 'Order Date', 'Ship Mode', 'Customer ID',\n",
      "       'Customer Name', 'Origin Channel', 'Country/Region', 'City', 'State',\n",
      "       'Postal Code', 'Region', 'Category', 'Sub-Category', 'Product ID',\n",
      "       'Sales', 'Quantity', 'Discount', 'Profit'],\n",
      "      dtype='object')\n",
      "Index(['Order ID', 'Arrival Scan Date', 'Customer Name'], dtype='object')\n",
      "Index(['Row ID', 'Order ID', 'Order Date', 'On Truck Scan Date', 'Ship Mode'], dtype='object')\n",
      "Index(['Order ID', 'Ready to Ship Date', 'Pickup Date'], dtype='object')\n"
     ]
    }
   ],
   "source": [
    "# check the df headers\n",
    "print(df.columns)\n",
    "print(df1.columns)\n",
    "print(df2.columns)\n",
    "print(df3.columns)"
   ]
  },
  {
   "cell_type": "code",
   "execution_count": 4,
   "metadata": {},
   "outputs": [
    {
     "name": "stdout",
     "output_type": "stream",
     "text": [
      "df= (9994, 19)\n",
      "df1= (333, 3)\n",
      "df2= (5899, 5)\n",
      "df3= (290, 3)\n"
     ]
    }
   ],
   "source": [
    "# check the number of rows and columns\n",
    "print('df=',df.shape)\n",
    "print('df1=',df1.shape)\n",
    "print('df2=',df2.shape)\n",
    "print('df3=',df3.shape)"
   ]
  },
  {
   "cell_type": "code",
   "execution_count": 5,
   "metadata": {},
   "outputs": [
    {
     "name": "stdout",
     "output_type": "stream",
     "text": [
      "df= False    9994\n",
      "Name: count, dtype: int64\n",
      "------------------------------\n",
      "df1= False    333\n",
      "Name: count, dtype: int64\n",
      "------------------------------\n",
      "df2= False    5899\n",
      "Name: count, dtype: int64\n",
      "------------------------------\n",
      "df3= False    204\n",
      "True      86\n",
      "Name: count, dtype: int64\n"
     ]
    }
   ],
   "source": [
    "# check for duplicates\n",
    "print('df=',df.duplicated().value_counts())\n",
    "print('-' * 30)\n",
    "print('df1=',df1.duplicated().value_counts())\n",
    "print('-' * 30)\n",
    "print('df2=',df2.duplicated().value_counts())\n",
    "print('-' * 30)\n",
    "print('df3=',df3.duplicated().value_counts())"
   ]
  },
  {
   "cell_type": "code",
   "execution_count": 6,
   "metadata": {},
   "outputs": [],
   "source": [
    "# drop the duplicates\n",
    "df_no_dups = df.drop_duplicates()\n",
    "df2_no_dups = df2.drop_duplicates()\n",
    "df3_no_dups = df3.drop_duplicates()"
   ]
  },
  {
   "cell_type": "code",
   "execution_count": 7,
   "metadata": {},
   "outputs": [
    {
     "name": "stdout",
     "output_type": "stream",
     "text": [
      "df_no_dups= (9994, 19)\n",
      "df1= (333, 3)\n",
      "df2_no_dups= (5899, 5)\n",
      "df3_no_dups= (204, 3)\n"
     ]
    }
   ],
   "source": [
    "# check the number of rows and columns\n",
    "print('df_no_dups=', df_no_dups.shape)\n",
    "print('df1=', df1.shape)\n",
    "print('df2_no_dups=', df2_no_dups.shape)\n",
    "print('df3_no_dups=', df3_no_dups.shape)"
   ]
  },
  {
   "cell_type": "code",
   "execution_count": 8,
   "metadata": {},
   "outputs": [
    {
     "name": "stdout",
     "output_type": "stream",
     "text": [
      "Index(['Index', 'Order ID', 'Order Date', 'Ship Mode', 'Customer ID',\n",
      "       'Customer Name', 'Origin Channel', 'Country/Region', 'City', 'State',\n",
      "       'Postal Code', 'Region', 'Category', 'Sub-Category', 'Product ID',\n",
      "       'Sales', 'Quantity', 'Discount', 'Profit'],\n",
      "      dtype='object')\n",
      "Index(['Order ID', 'Arrival Scan Date', 'Customer Name'], dtype='object')\n",
      "Index(['Row ID', 'Order ID', 'Order Date', 'On Truck Scan Date', 'Ship Mode'], dtype='object')\n",
      "Index(['Order ID', 'Ready to Ship Date', 'Pickup Date'], dtype='object')\n"
     ]
    }
   ],
   "source": [
    "# check the df headers and decide what to merge with what\n",
    "print(df_no_dups.columns)\n",
    "print(df1.columns)\n",
    "print(df2_no_dups.columns)\n",
    "print(df3_no_dups.columns)"
   ]
  },
  {
   "cell_type": "code",
   "execution_count": 9,
   "metadata": {},
   "outputs": [],
   "source": [
    "# merge df and df3\n",
    "\n",
    "df_prep_dur_ver = pd.merge(df_no_dups, df3_no_dups, on='Order ID', how='inner')"
   ]
  },
  {
   "cell_type": "code",
   "execution_count": 10,
   "metadata": {},
   "outputs": [
    {
     "data": {
      "text/plain": [
       "Index(['Index', 'Order ID', 'Order Date', 'Ship Mode', 'Customer ID',\n",
       "       'Customer Name', 'Origin Channel', 'Country/Region', 'City', 'State',\n",
       "       'Postal Code', 'Region', 'Category', 'Sub-Category', 'Product ID',\n",
       "       'Sales', 'Quantity', 'Discount', 'Profit', 'Ready to Ship Date',\n",
       "       'Pickup Date'],\n",
       "      dtype='object')"
      ]
     },
     "execution_count": 10,
     "metadata": {},
     "output_type": "execute_result"
    }
   ],
   "source": [
    "# verify the headers of the merged dataframe\n",
    "\n",
    "df_prep_dur_ver.columns"
   ]
  },
  {
   "cell_type": "code",
   "execution_count": 11,
   "metadata": {},
   "outputs": [],
   "source": [
    "# delete unneeded columns\n",
    "\n",
    "df_prep_dur_ver = df_prep_dur_ver.drop(['Ship Mode', 'Country/Region', 'City', 'State', \n",
    "                                        'Postal Code', 'Region', 'Product ID', \n",
    "                                        'Sales', 'Quantity', 'Discount', 'Profit'], axis=1)"
   ]
  },
  {
   "cell_type": "code",
   "execution_count": 12,
   "metadata": {},
   "outputs": [
    {
     "data": {
      "text/html": [
       "<div>\n",
       "<style scoped>\n",
       "    .dataframe tbody tr th:only-of-type {\n",
       "        vertical-align: middle;\n",
       "    }\n",
       "\n",
       "    .dataframe tbody tr th {\n",
       "        vertical-align: top;\n",
       "    }\n",
       "\n",
       "    .dataframe thead th {\n",
       "        text-align: right;\n",
       "    }\n",
       "</style>\n",
       "<table border=\"1\" class=\"dataframe\">\n",
       "  <thead>\n",
       "    <tr style=\"text-align: right;\">\n",
       "      <th></th>\n",
       "      <th>Index</th>\n",
       "      <th>Order ID</th>\n",
       "      <th>Order Date</th>\n",
       "      <th>Customer ID</th>\n",
       "      <th>Customer Name</th>\n",
       "      <th>Origin Channel</th>\n",
       "      <th>Category</th>\n",
       "      <th>Sub-Category</th>\n",
       "      <th>Ready to Ship Date</th>\n",
       "      <th>Pickup Date</th>\n",
       "    </tr>\n",
       "  </thead>\n",
       "  <tbody>\n",
       "    <tr>\n",
       "      <th>103</th>\n",
       "      <td>6364</td>\n",
       "      <td>CA-2020-110443</td>\n",
       "      <td>2020-11-21</td>\n",
       "      <td>CK-12205</td>\n",
       "      <td>Chloris Kastensmidt</td>\n",
       "      <td>Email</td>\n",
       "      <td>Special Projects Muesil</td>\n",
       "      <td>Low Sugar</td>\n",
       "      <td>2020-11-27</td>\n",
       "      <td>2020-11-30</td>\n",
       "    </tr>\n",
       "    <tr>\n",
       "      <th>169</th>\n",
       "      <td>6110</td>\n",
       "      <td>CA-2019-150007</td>\n",
       "      <td>2019-09-11</td>\n",
       "      <td>AS-10090</td>\n",
       "      <td>Adam Shillingsburg</td>\n",
       "      <td>Email</td>\n",
       "      <td>Power Muesli</td>\n",
       "      <td>Super Fibre Boost</td>\n",
       "      <td>2019-09-16</td>\n",
       "      <td>2019-09-18</td>\n",
       "    </tr>\n",
       "    <tr>\n",
       "      <th>251</th>\n",
       "      <td>8976</td>\n",
       "      <td>CA-2020-156622</td>\n",
       "      <td>2020-11-23</td>\n",
       "      <td>JP-15460</td>\n",
       "      <td>Jennifer Patt</td>\n",
       "      <td>Sales</td>\n",
       "      <td>Power Muesli</td>\n",
       "      <td>Nuts and more</td>\n",
       "      <td>2020-11-26</td>\n",
       "      <td>2020-11-27</td>\n",
       "    </tr>\n",
       "    <tr>\n",
       "      <th>408</th>\n",
       "      <td>7449</td>\n",
       "      <td>CA-2020-115448</td>\n",
       "      <td>2020-11-11</td>\n",
       "      <td>MH-18025</td>\n",
       "      <td>Michelle Huthwaite</td>\n",
       "      <td>Email</td>\n",
       "      <td>Toasted Muesli</td>\n",
       "      <td>With Fruit and Nuts</td>\n",
       "      <td>2020-11-16</td>\n",
       "      <td>2020-11-16</td>\n",
       "    </tr>\n",
       "    <tr>\n",
       "      <th>193</th>\n",
       "      <td>949</td>\n",
       "      <td>US-2020-110576</td>\n",
       "      <td>2020-11-28</td>\n",
       "      <td>RB-19795</td>\n",
       "      <td>Ross Baird</td>\n",
       "      <td>Facebook</td>\n",
       "      <td>Toasted Muesli</td>\n",
       "      <td>With Fruit and Nuts</td>\n",
       "      <td>2020-12-04</td>\n",
       "      <td>2020-12-07</td>\n",
       "    </tr>\n",
       "    <tr>\n",
       "      <th>312</th>\n",
       "      <td>9973</td>\n",
       "      <td>CA-2019-130225</td>\n",
       "      <td>2019-09-11</td>\n",
       "      <td>RC-19960</td>\n",
       "      <td>Ryan Crowe</td>\n",
       "      <td>Email</td>\n",
       "      <td>Power Muesli</td>\n",
       "      <td>Power Clean Fibre Boost</td>\n",
       "      <td>2019-09-17</td>\n",
       "      <td>2019-09-18</td>\n",
       "    </tr>\n",
       "    <tr>\n",
       "      <th>152</th>\n",
       "      <td>8960</td>\n",
       "      <td>CA-2020-150266</td>\n",
       "      <td>2020-11-25</td>\n",
       "      <td>RO-19780</td>\n",
       "      <td>Rose O'Brian</td>\n",
       "      <td>Email</td>\n",
       "      <td>Power Muesli</td>\n",
       "      <td>Mega Protein</td>\n",
       "      <td>2020-11-30</td>\n",
       "      <td>2020-12-02</td>\n",
       "    </tr>\n",
       "    <tr>\n",
       "      <th>104</th>\n",
       "      <td>6365</td>\n",
       "      <td>CA-2020-110443</td>\n",
       "      <td>2020-11-21</td>\n",
       "      <td>CK-12205</td>\n",
       "      <td>Chloris Kastensmidt</td>\n",
       "      <td>Email</td>\n",
       "      <td>Power Muesli</td>\n",
       "      <td>Nuts and more</td>\n",
       "      <td>2020-11-27</td>\n",
       "      <td>2020-11-30</td>\n",
       "    </tr>\n",
       "    <tr>\n",
       "      <th>417</th>\n",
       "      <td>9463</td>\n",
       "      <td>US-2020-109610</td>\n",
       "      <td>2020-11-25</td>\n",
       "      <td>BS-11590</td>\n",
       "      <td>Brendan Sweed</td>\n",
       "      <td>Sales</td>\n",
       "      <td>Toasted Muesli</td>\n",
       "      <td>With Nuts</td>\n",
       "      <td>2020-11-30</td>\n",
       "      <td>2020-12-02</td>\n",
       "    </tr>\n",
       "    <tr>\n",
       "      <th>214</th>\n",
       "      <td>3675</td>\n",
       "      <td>CA-2020-154109</td>\n",
       "      <td>2020-11-06</td>\n",
       "      <td>ML-17410</td>\n",
       "      <td>Maris LaWare</td>\n",
       "      <td>Email</td>\n",
       "      <td>Toasted Muesli</td>\n",
       "      <td>With Nuts</td>\n",
       "      <td>2020-11-11</td>\n",
       "      <td>2020-11-13</td>\n",
       "    </tr>\n",
       "  </tbody>\n",
       "</table>\n",
       "</div>"
      ],
      "text/plain": [
       "     Index        Order ID Order Date Customer ID        Customer Name  \\\n",
       "103   6364  CA-2020-110443 2020-11-21    CK-12205  Chloris Kastensmidt   \n",
       "169   6110  CA-2019-150007 2019-09-11    AS-10090   Adam Shillingsburg   \n",
       "251   8976  CA-2020-156622 2020-11-23    JP-15460        Jennifer Patt   \n",
       "408   7449  CA-2020-115448 2020-11-11    MH-18025   Michelle Huthwaite   \n",
       "193    949  US-2020-110576 2020-11-28    RB-19795           Ross Baird   \n",
       "312   9973  CA-2019-130225 2019-09-11    RC-19960           Ryan Crowe   \n",
       "152   8960  CA-2020-150266 2020-11-25    RO-19780         Rose O'Brian   \n",
       "104   6365  CA-2020-110443 2020-11-21    CK-12205  Chloris Kastensmidt   \n",
       "417   9463  US-2020-109610 2020-11-25    BS-11590        Brendan Sweed   \n",
       "214   3675  CA-2020-154109 2020-11-06    ML-17410         Maris LaWare   \n",
       "\n",
       "    Origin Channel                 Category             Sub-Category  \\\n",
       "103          Email  Special Projects Muesil                Low Sugar   \n",
       "169          Email             Power Muesli        Super Fibre Boost   \n",
       "251          Sales             Power Muesli            Nuts and more   \n",
       "408          Email           Toasted Muesli      With Fruit and Nuts   \n",
       "193       Facebook           Toasted Muesli      With Fruit and Nuts   \n",
       "312          Email             Power Muesli  Power Clean Fibre Boost   \n",
       "152          Email             Power Muesli             Mega Protein   \n",
       "104          Email             Power Muesli            Nuts and more   \n",
       "417          Sales           Toasted Muesli                With Nuts   \n",
       "214          Email           Toasted Muesli                With Nuts   \n",
       "\n",
       "    Ready to Ship Date Pickup Date  \n",
       "103         2020-11-27  2020-11-30  \n",
       "169         2019-09-16  2019-09-18  \n",
       "251         2020-11-26  2020-11-27  \n",
       "408         2020-11-16  2020-11-16  \n",
       "193         2020-12-04  2020-12-07  \n",
       "312         2019-09-17  2019-09-18  \n",
       "152         2020-11-30  2020-12-02  \n",
       "104         2020-11-27  2020-11-30  \n",
       "417         2020-11-30  2020-12-02  \n",
       "214         2020-11-11  2020-11-13  "
      ]
     },
     "execution_count": 12,
     "metadata": {},
     "output_type": "execute_result"
    }
   ],
   "source": [
    "# verify\n",
    "\n",
    "df_prep_dur_ver.sample(10)"
   ]
  },
  {
   "cell_type": "code",
   "execution_count": 13,
   "metadata": {},
   "outputs": [
    {
     "data": {
      "text/plain": [
       "Index                          int64\n",
       "Order ID                      object\n",
       "Order Date            datetime64[ns]\n",
       "Customer ID                   object\n",
       "Customer Name                 object\n",
       "Origin Channel                object\n",
       "Category                      object\n",
       "Sub-Category                  object\n",
       "Ready to Ship Date    datetime64[ns]\n",
       "Pickup Date           datetime64[ns]\n",
       "dtype: object"
      ]
     },
     "execution_count": 13,
     "metadata": {},
     "output_type": "execute_result"
    }
   ],
   "source": [
    "# check the type of data in the columns\n",
    "\n",
    "df_prep_dur_ver.dtypes"
   ]
  },
  {
   "cell_type": "code",
   "execution_count": 14,
   "metadata": {},
   "outputs": [],
   "source": [
    "# calculate the preparation duration and print it in a new column\n",
    "\n",
    "df_prep_dur_ver['prep duration'] = df_prep_dur_ver['Ready to Ship Date']-df_prep_dur_ver['Order Date']"
   ]
  },
  {
   "cell_type": "code",
   "execution_count": null,
   "metadata": {},
   "outputs": [],
   "source": [
    "# verify\n",
    "\n",
    "df_prep_dur_ver.sample(10)"
   ]
  },
  {
   "cell_type": "code",
   "execution_count": 15,
   "metadata": {},
   "outputs": [
    {
     "data": {
      "text/plain": [
       "dtype('<m8[ns]')"
      ]
     },
     "execution_count": 15,
     "metadata": {},
     "output_type": "execute_result"
    }
   ],
   "source": [
    "# check the data type\n",
    "\n",
    "df_prep_dur_ver['prep duration'].dtype"
   ]
  }
 ],
 "metadata": {
  "kernelspec": {
   "display_name": "nf_base",
   "language": "python",
   "name": "python3"
  },
  "language_info": {
   "codemirror_mode": {
    "name": "ipython",
    "version": 3
   },
   "file_extension": ".py",
   "mimetype": "text/x-python",
   "name": "python",
   "nbconvert_exporter": "python",
   "pygments_lexer": "ipython3",
   "version": "3.9.19"
  }
 },
 "nbformat": 4,
 "nbformat_minor": 2
}
