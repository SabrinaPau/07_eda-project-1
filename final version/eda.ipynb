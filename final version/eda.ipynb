{
 "cells": [
  {
   "cell_type": "code",
   "execution_count": 12,
   "metadata": {},
   "outputs": [],
   "source": [
    "import pandas as pd\n",
    "import matplotlib.pyplot as plt\n",
    "import seaborn as sns\n",
    "from functools import reduce"
   ]
  },
  {
   "cell_type": "markdown",
   "metadata": {},
   "source": [
    "Read all the worksheets from the data excel file"
   ]
  },
  {
   "cell_type": "code",
   "execution_count": 13,
   "metadata": {},
   "outputs": [],
   "source": [
    "orders_df = pd.read_excel('../data/Muesli Project raw data - group 3.xlsx', header=1, sheet_name=0)\n",
    "campaign_data_df = pd.read_excel('../data/Muesli Project raw data - group 3.xlsx', sheet_name=1)\n",
    "order_process_data_df = pd.read_excel('../data/Muesli Project raw data - group 3.xlsx', sheet_name=2)\n",
    "interndata_study_df = pd.read_excel('../data/Muesli Project raw data - group 3.xlsx', sheet_name=3)"
   ]
  },
  {
   "cell_type": "markdown",
   "metadata": {},
   "source": [
    "Check the headers of the DataFrames"
   ]
  },
  {
   "cell_type": "code",
   "execution_count": 14,
   "metadata": {},
   "outputs": [
    {
     "name": "stdout",
     "output_type": "stream",
     "text": [
      "Index(['Index', 'Order ID', 'Order Date', 'Ship Mode', 'Customer ID',\n",
      "       'Customer Name', 'Origin Channel', 'Country/Region', 'City', 'State',\n",
      "       'Postal Code', 'Region', 'Category', 'Sub-Category', 'Product ID',\n",
      "       'Sales', 'Quantity', 'Discount', 'Profit'],\n",
      "      dtype='object')\n",
      "------------------------------\n",
      "Index(['Order ID', 'Arrival Scan Date', 'Customer Name'], dtype='object')\n",
      "------------------------------\n",
      "Index(['Row ID', 'Order ID', 'Order Date', 'On Truck Scan Date', 'Ship Mode'], dtype='object')\n",
      "------------------------------\n",
      "Index(['Order ID', 'Ready to Ship Date', 'Pickup Date'], dtype='object')\n",
      "------------------------------\n"
     ]
    }
   ],
   "source": [
    "dataframes = [orders_df,\n",
    "              campaign_data_df,\n",
    "              order_process_data_df,\n",
    "              interndata_study_df\n",
    "              ]\n",
    "\n",
    "for df in dataframes:\n",
    "    print(df.columns)\n",
    "    print('-' * 30)"
   ]
  },
  {
   "cell_type": "markdown",
   "metadata": {},
   "source": [
    "Change column names to lower case and snake case."
   ]
  },
  {
   "cell_type": "code",
   "execution_count": 15,
   "metadata": {},
   "outputs": [
    {
     "name": "stdout",
     "output_type": "stream",
     "text": [
      "Index(['index', 'order_id', 'order_date', 'ship_mode', 'customer_id',\n",
      "       'customer_name', 'origin_channel', 'country/region', 'city', 'state',\n",
      "       'postal_code', 'region', 'category', 'sub-category', 'product_id',\n",
      "       'sales', 'quantity', 'discount', 'profit'],\n",
      "      dtype='object')\n",
      "------------------------------\n",
      "Index(['order_id', 'arrival_scan_date', 'customer_name'], dtype='object')\n",
      "------------------------------\n",
      "Index(['row_id', 'order_id', 'order_date', 'on_truck_scan_date', 'ship_mode'], dtype='object')\n",
      "------------------------------\n",
      "Index(['order_id', 'ready_to_ship_date', 'pickup_date'], dtype='object')\n",
      "------------------------------\n"
     ]
    }
   ],
   "source": [
    "dataframes = [orders_df,\n",
    "              campaign_data_df,\n",
    "              order_process_data_df,\n",
    "              interndata_study_df\n",
    "              ]\n",
    "\n",
    "for df in dataframes:\n",
    "    df.columns = df.columns.str.lower()\n",
    "    df.columns = df.columns.str.replace(' ', '_')\n",
    "    print(df.columns)\n",
    "    print('-' * 30)"
   ]
  },
  {
   "cell_type": "markdown",
   "metadata": {},
   "source": [
    "Delete unneeded columns."
   ]
  },
  {
   "cell_type": "code",
   "execution_count": 16,
   "metadata": {},
   "outputs": [],
   "source": [
    "orders_df = orders_df.drop(\n",
    "                    ['index', 'origin_channel', 'category', 'sub-category'],\n",
    "                    axis=1)\n",
    "\n",
    "campaign_data_df = campaign_data_df.drop(\n",
    "                    ['customer_name'],\n",
    "                    axis=1)\n",
    "\n",
    "order_process_data_df = order_process_data_df.drop(\n",
    "                    ['row_id', 'order_date'],\n",
    "                    axis=1)"
   ]
  },
  {
   "cell_type": "code",
   "execution_count": 17,
   "metadata": {},
   "outputs": [
    {
     "name": "stdout",
     "output_type": "stream",
     "text": [
      "Index(['order_id', 'order_date', 'ship_mode', 'customer_id', 'customer_name',\n",
      "       'country/region', 'city', 'state', 'postal_code', 'region',\n",
      "       'product_id', 'sales', 'quantity', 'discount', 'profit'],\n",
      "      dtype='object')\n",
      "------------------------------\n",
      "Index(['order_id', 'arrival_scan_date'], dtype='object')\n",
      "------------------------------\n",
      "Index(['order_id', 'on_truck_scan_date', 'ship_mode'], dtype='object')\n",
      "------------------------------\n",
      "Index(['order_id', 'ready_to_ship_date', 'pickup_date'], dtype='object')\n",
      "------------------------------\n"
     ]
    }
   ],
   "source": [
    "dataframes = [orders_df,\n",
    "              campaign_data_df,\n",
    "              order_process_data_df,\n",
    "              interndata_study_df\n",
    "              ]\n",
    "\n",
    "for df in dataframes:\n",
    "    print(df.columns)\n",
    "    print('-' * 30)"
   ]
  },
  {
   "cell_type": "markdown",
   "metadata": {},
   "source": [
    "Check the number of rows and columns."
   ]
  },
  {
   "cell_type": "code",
   "execution_count": 18,
   "metadata": {},
   "outputs": [
    {
     "name": "stdout",
     "output_type": "stream",
     "text": [
      "(9994, 15)\n",
      "(333, 2)\n",
      "(5899, 3)\n",
      "(290, 3)\n"
     ]
    }
   ],
   "source": [
    "dataframes = [orders_df,\n",
    "              campaign_data_df,\n",
    "              order_process_data_df,\n",
    "              interndata_study_df\n",
    "              ]\n",
    "\n",
    "for df in dataframes:\n",
    "    print(df.shape)"
   ]
  },
  {
   "cell_type": "markdown",
   "metadata": {},
   "source": [
    "Check for duplicates."
   ]
  },
  {
   "cell_type": "code",
   "execution_count": 19,
   "metadata": {},
   "outputs": [
    {
     "name": "stdout",
     "output_type": "stream",
     "text": [
      "False    9993\n",
      "True        1\n",
      "Name: count, dtype: int64\n",
      "---\n",
      "(9994, 15)\n",
      "------------------------------\n",
      "False    333\n",
      "Name: count, dtype: int64\n",
      "---\n",
      "(333, 2)\n",
      "------------------------------\n",
      "False    3003\n",
      "True     2896\n",
      "Name: count, dtype: int64\n",
      "---\n",
      "(5899, 3)\n",
      "------------------------------\n",
      "False    204\n",
      "True      86\n",
      "Name: count, dtype: int64\n",
      "---\n",
      "(290, 3)\n",
      "------------------------------\n"
     ]
    }
   ],
   "source": [
    "dataframes = [orders_df,\n",
    "              campaign_data_df,\n",
    "              order_process_data_df,\n",
    "              interndata_study_df\n",
    "              ]\n",
    "\n",
    "for df in dataframes:\n",
    "    print(df.duplicated().value_counts())\n",
    "    print('---')\n",
    "    print(df.shape)\n",
    "    print('-' * 30)"
   ]
  },
  {
   "cell_type": "markdown",
   "metadata": {},
   "source": [
    "Drop the duplicates."
   ]
  },
  {
   "cell_type": "code",
   "execution_count": 20,
   "metadata": {},
   "outputs": [
    {
     "name": "stdout",
     "output_type": "stream",
     "text": [
      "False    9993\n",
      "Name: count, dtype: int64\n",
      "---\n",
      "False    333\n",
      "Name: count, dtype: int64\n",
      "---\n",
      "False    3003\n",
      "Name: count, dtype: int64\n",
      "---\n",
      "False    204\n",
      "Name: count, dtype: int64\n",
      "---\n"
     ]
    }
   ],
   "source": [
    "dataframes = [orders_df,\n",
    "              campaign_data_df,\n",
    "              order_process_data_df,\n",
    "              interndata_study_df\n",
    "              ]\n",
    "\n",
    "for df in dataframes:\n",
    "    df.drop_duplicates(inplace=True)\n",
    "    print(df.duplicated().value_counts())\n",
    "    print('---')"
   ]
  },
  {
   "cell_type": "markdown",
   "metadata": {},
   "source": [
    "Print column-names to decide on which columns to merge."
   ]
  },
  {
   "cell_type": "code",
   "execution_count": 21,
   "metadata": {},
   "outputs": [
    {
     "name": "stdout",
     "output_type": "stream",
     "text": [
      "Index(['order_id', 'order_date', 'ship_mode', 'customer_id', 'customer_name',\n",
      "       'country/region', 'city', 'state', 'postal_code', 'region',\n",
      "       'product_id', 'sales', 'quantity', 'discount', 'profit'],\n",
      "      dtype='object')\n",
      "------------------------------\n",
      "Index(['order_id', 'arrival_scan_date'], dtype='object')\n",
      "------------------------------\n",
      "Index(['order_id', 'on_truck_scan_date', 'ship_mode'], dtype='object')\n",
      "------------------------------\n",
      "Index(['order_id', 'ready_to_ship_date', 'pickup_date'], dtype='object')\n",
      "------------------------------\n"
     ]
    }
   ],
   "source": [
    "dataframes = [orders_df,\n",
    "              campaign_data_df,\n",
    "              order_process_data_df,\n",
    "              interndata_study_df\n",
    "              ]\n",
    "\n",
    "for df in dataframes:\n",
    "    print(df.columns)\n",
    "    print('-' * 30)"
   ]
  },
  {
   "cell_type": "markdown",
   "metadata": {},
   "source": [
    "---\n",
    "---"
   ]
  },
  {
   "cell_type": "markdown",
   "metadata": {},
   "source": [
    "We have to calculate and validate the company assumptions:\n",
    "1. **Preparation**: Preparation process duration from order recieve to shipping (2 days): \"Order Date\" - \"Ready to Ship Day\": merge 'orders_df' and 'interndata_study_df'\n",
    "2. **Ready to Ship to on Truck**: Duration of process from \"Ready to Ship\" to \"on Truck\" (1 day for normal, 0 days for express): merge 'order_process_data_df' and 'interndata_study_df'\n",
    "3. **Ready to Ship to on Truck Express**: Efficacy of \"Express Processing\"; the order ought to be on the truck on the ready to ship day\n",
    "4. **Order Delivery**: From \"On Truck Scan\" to \"Arrival Scan Date\": merge campaign_data_df and order_process_data_df\n",
    "5. **Order Delivery 2**: From \"Pickup Date\" to \"Arrival Scan Date\": merge campaign_data_df and interndata_study_df\n",
    "6. **Order Delivery total**: Get an image of the whole delivery process duration, from 'Order Date' to 'Arrival Scan Date': merge orders_df and order_process_data_df"
   ]
  },
  {
   "cell_type": "markdown",
   "metadata": {},
   "source": [
    "---"
   ]
  },
  {
   "cell_type": "markdown",
   "metadata": {},
   "source": [
    "### 1. **Preparation**: Preparation process duration from order recieve to shipping (2 days): \"Order Date\" - \"Ready to Ship Day\":\n",
    "merge 'orders_df' and 'interndata_study_df'"
   ]
  },
  {
   "cell_type": "code",
   "execution_count": 22,
   "metadata": {},
   "outputs": [],
   "source": [
    "preparation_df = pd.merge(orders_df, interndata_study_df,\n",
    "                          on = 'order_id',\n",
    "                          how = 'inner')"
   ]
  },
  {
   "cell_type": "code",
   "execution_count": 23,
   "metadata": {},
   "outputs": [
    {
     "data": {
      "text/plain": [
       "Index(['order_id', 'order_date', 'ship_mode', 'customer_id', 'customer_name',\n",
       "       'country/region', 'city', 'state', 'postal_code', 'region',\n",
       "       'product_id', 'sales', 'quantity', 'discount', 'profit',\n",
       "       'ready_to_ship_date', 'pickup_date'],\n",
       "      dtype='object')"
      ]
     },
     "execution_count": 23,
     "metadata": {},
     "output_type": "execute_result"
    }
   ],
   "source": [
    "preparation_df.columns"
   ]
  },
  {
   "cell_type": "markdown",
   "metadata": {},
   "source": [
    "Delete unneeded columns."
   ]
  },
  {
   "cell_type": "code",
   "execution_count": 24,
   "metadata": {},
   "outputs": [],
   "source": [
    "preparation_df = preparation_df.drop(['ship_mode',\n",
    "                                      'country/region',\n",
    "                                      'city',\n",
    "                                      'state',\n",
    "                                      'postal_code',\n",
    "                                      'region',\n",
    "                                      'product_id',\n",
    "                                      'sales',\n",
    "                                      'quantity',\n",
    "                                      'discount',\n",
    "                                      'profit'], axis=1)"
   ]
  },
  {
   "cell_type": "code",
   "execution_count": 25,
   "metadata": {},
   "outputs": [
    {
     "data": {
      "text/html": [
       "<div>\n",
       "<style scoped>\n",
       "    .dataframe tbody tr th:only-of-type {\n",
       "        vertical-align: middle;\n",
       "    }\n",
       "\n",
       "    .dataframe tbody tr th {\n",
       "        vertical-align: top;\n",
       "    }\n",
       "\n",
       "    .dataframe thead th {\n",
       "        text-align: right;\n",
       "    }\n",
       "</style>\n",
       "<table border=\"1\" class=\"dataframe\">\n",
       "  <thead>\n",
       "    <tr style=\"text-align: right;\">\n",
       "      <th></th>\n",
       "      <th>order_id</th>\n",
       "      <th>order_date</th>\n",
       "      <th>customer_id</th>\n",
       "      <th>customer_name</th>\n",
       "      <th>ready_to_ship_date</th>\n",
       "      <th>pickup_date</th>\n",
       "    </tr>\n",
       "  </thead>\n",
       "  <tbody>\n",
       "    <tr>\n",
       "      <th>190</th>\n",
       "      <td>CA-2020-130386</td>\n",
       "      <td>2020-11-12</td>\n",
       "      <td>NG-18430</td>\n",
       "      <td>Nathan Gelder</td>\n",
       "      <td>2020-11-18</td>\n",
       "      <td>2020-11-20</td>\n",
       "    </tr>\n",
       "    <tr>\n",
       "      <th>36</th>\n",
       "      <td>CA-2019-123120</td>\n",
       "      <td>2019-09-04</td>\n",
       "      <td>CV-12295</td>\n",
       "      <td>Christina VanderZanden</td>\n",
       "      <td>2019-09-09</td>\n",
       "      <td>2019-09-11</td>\n",
       "    </tr>\n",
       "    <tr>\n",
       "      <th>148</th>\n",
       "      <td>CA-2020-104640</td>\n",
       "      <td>2020-11-10</td>\n",
       "      <td>FH-14275</td>\n",
       "      <td>Frank Hawley</td>\n",
       "      <td>2020-11-16</td>\n",
       "      <td>2020-11-18</td>\n",
       "    </tr>\n",
       "    <tr>\n",
       "      <th>94</th>\n",
       "      <td>CA-2020-134915</td>\n",
       "      <td>2020-11-12</td>\n",
       "      <td>EM-14140</td>\n",
       "      <td>Eugene Moren</td>\n",
       "      <td>2020-11-12</td>\n",
       "      <td>2020-11-13</td>\n",
       "    </tr>\n",
       "    <tr>\n",
       "      <th>347</th>\n",
       "      <td>US-2019-147711</td>\n",
       "      <td>2019-09-03</td>\n",
       "      <td>HF-14995</td>\n",
       "      <td>Herbert Flentye</td>\n",
       "      <td>2019-09-09</td>\n",
       "      <td>2019-09-11</td>\n",
       "    </tr>\n",
       "    <tr>\n",
       "      <th>360</th>\n",
       "      <td>US-2020-161193</td>\n",
       "      <td>2020-11-20</td>\n",
       "      <td>BT-11680</td>\n",
       "      <td>Brian Thompson</td>\n",
       "      <td>2020-11-26</td>\n",
       "      <td>2020-11-27</td>\n",
       "    </tr>\n",
       "    <tr>\n",
       "      <th>362</th>\n",
       "      <td>CA-2020-126242</td>\n",
       "      <td>2020-11-19</td>\n",
       "      <td>MC-18100</td>\n",
       "      <td>Mick Crebagga</td>\n",
       "      <td>2020-11-24</td>\n",
       "      <td>2020-11-25</td>\n",
       "    </tr>\n",
       "    <tr>\n",
       "      <th>323</th>\n",
       "      <td>CA-2020-150266</td>\n",
       "      <td>2020-11-25</td>\n",
       "      <td>RO-19780</td>\n",
       "      <td>Rose O'Brian</td>\n",
       "      <td>2020-11-30</td>\n",
       "      <td>2020-12-02</td>\n",
       "    </tr>\n",
       "    <tr>\n",
       "      <th>23</th>\n",
       "      <td>CA-2020-107174</td>\n",
       "      <td>2020-11-06</td>\n",
       "      <td>AB-10060</td>\n",
       "      <td>Adam Bellavance</td>\n",
       "      <td>2020-11-13</td>\n",
       "      <td>2020-11-16</td>\n",
       "    </tr>\n",
       "    <tr>\n",
       "      <th>413</th>\n",
       "      <td>CA-2020-150266</td>\n",
       "      <td>2020-11-25</td>\n",
       "      <td>RO-19780</td>\n",
       "      <td>Rose O'Brian</td>\n",
       "      <td>2020-11-30</td>\n",
       "      <td>2020-12-02</td>\n",
       "    </tr>\n",
       "  </tbody>\n",
       "</table>\n",
       "</div>"
      ],
      "text/plain": [
       "           order_id order_date customer_id           customer_name  \\\n",
       "190  CA-2020-130386 2020-11-12    NG-18430           Nathan Gelder   \n",
       "36   CA-2019-123120 2019-09-04    CV-12295  Christina VanderZanden   \n",
       "148  CA-2020-104640 2020-11-10    FH-14275            Frank Hawley   \n",
       "94   CA-2020-134915 2020-11-12    EM-14140            Eugene Moren   \n",
       "347  US-2019-147711 2019-09-03    HF-14995         Herbert Flentye   \n",
       "360  US-2020-161193 2020-11-20    BT-11680          Brian Thompson   \n",
       "362  CA-2020-126242 2020-11-19    MC-18100           Mick Crebagga   \n",
       "323  CA-2020-150266 2020-11-25    RO-19780            Rose O'Brian   \n",
       "23   CA-2020-107174 2020-11-06    AB-10060         Adam Bellavance   \n",
       "413  CA-2020-150266 2020-11-25    RO-19780            Rose O'Brian   \n",
       "\n",
       "    ready_to_ship_date pickup_date  \n",
       "190         2020-11-18  2020-11-20  \n",
       "36          2019-09-09  2019-09-11  \n",
       "148         2020-11-16  2020-11-18  \n",
       "94          2020-11-12  2020-11-13  \n",
       "347         2019-09-09  2019-09-11  \n",
       "360         2020-11-26  2020-11-27  \n",
       "362         2020-11-24  2020-11-25  \n",
       "323         2020-11-30  2020-12-02  \n",
       "23          2020-11-13  2020-11-16  \n",
       "413         2020-11-30  2020-12-02  "
      ]
     },
     "execution_count": 25,
     "metadata": {},
     "output_type": "execute_result"
    }
   ],
   "source": [
    "preparation_df.sample(10)"
   ]
  },
  {
   "cell_type": "markdown",
   "metadata": {},
   "source": [
    "Extract the weekday from the date column."
   ]
  },
  {
   "cell_type": "code",
   "execution_count": 26,
   "metadata": {},
   "outputs": [
    {
     "data": {
      "text/html": [
       "<div>\n",
       "<style scoped>\n",
       "    .dataframe tbody tr th:only-of-type {\n",
       "        vertical-align: middle;\n",
       "    }\n",
       "\n",
       "    .dataframe tbody tr th {\n",
       "        vertical-align: top;\n",
       "    }\n",
       "\n",
       "    .dataframe thead th {\n",
       "        text-align: right;\n",
       "    }\n",
       "</style>\n",
       "<table border=\"1\" class=\"dataframe\">\n",
       "  <thead>\n",
       "    <tr style=\"text-align: right;\">\n",
       "      <th></th>\n",
       "      <th>order_id</th>\n",
       "      <th>order_date</th>\n",
       "      <th>customer_id</th>\n",
       "      <th>customer_name</th>\n",
       "      <th>ready_to_ship_date</th>\n",
       "      <th>pickup_date</th>\n",
       "      <th>weekday</th>\n",
       "    </tr>\n",
       "  </thead>\n",
       "  <tbody>\n",
       "    <tr>\n",
       "      <th>206</th>\n",
       "      <td>CA-2020-100811</td>\n",
       "      <td>2020-11-21</td>\n",
       "      <td>CC-12475</td>\n",
       "      <td>Cindy Chapman</td>\n",
       "      <td>2020-11-26</td>\n",
       "      <td>2020-11-27</td>\n",
       "      <td>Saturday</td>\n",
       "    </tr>\n",
       "    <tr>\n",
       "      <th>200</th>\n",
       "      <td>CA-2020-126242</td>\n",
       "      <td>2020-11-19</td>\n",
       "      <td>MC-18100</td>\n",
       "      <td>Mick Crebagga</td>\n",
       "      <td>2020-11-24</td>\n",
       "      <td>2020-11-25</td>\n",
       "      <td>Thursday</td>\n",
       "    </tr>\n",
       "    <tr>\n",
       "      <th>368</th>\n",
       "      <td>CA-2020-108112</td>\n",
       "      <td>2020-11-15</td>\n",
       "      <td>DK-12895</td>\n",
       "      <td>Dana Kaydos</td>\n",
       "      <td>2020-11-23</td>\n",
       "      <td>2020-11-25</td>\n",
       "      <td>Sunday</td>\n",
       "    </tr>\n",
       "    <tr>\n",
       "      <th>41</th>\n",
       "      <td>US-2020-114657</td>\n",
       "      <td>2020-11-16</td>\n",
       "      <td>MH-18115</td>\n",
       "      <td>Mick Hernandez</td>\n",
       "      <td>2020-11-23</td>\n",
       "      <td>2020-11-25</td>\n",
       "      <td>Monday</td>\n",
       "    </tr>\n",
       "    <tr>\n",
       "      <th>254</th>\n",
       "      <td>CA-2020-122490</td>\n",
       "      <td>2020-11-13</td>\n",
       "      <td>TT-21070</td>\n",
       "      <td>Ted Trevino</td>\n",
       "      <td>2020-11-18</td>\n",
       "      <td>2020-11-20</td>\n",
       "      <td>Friday</td>\n",
       "    </tr>\n",
       "    <tr>\n",
       "      <th>53</th>\n",
       "      <td>CA-2020-165687</td>\n",
       "      <td>2020-11-17</td>\n",
       "      <td>CS-12355</td>\n",
       "      <td>Christine Sundaresam</td>\n",
       "      <td>2020-11-23</td>\n",
       "      <td>2020-11-25</td>\n",
       "      <td>Tuesday</td>\n",
       "    </tr>\n",
       "    <tr>\n",
       "      <th>249</th>\n",
       "      <td>CA-2019-164154</td>\n",
       "      <td>2019-09-11</td>\n",
       "      <td>NZ-18565</td>\n",
       "      <td>Nick Zandusky</td>\n",
       "      <td>2019-09-17</td>\n",
       "      <td>2019-09-18</td>\n",
       "      <td>Wednesday</td>\n",
       "    </tr>\n",
       "    <tr>\n",
       "      <th>266</th>\n",
       "      <td>CA-2019-132479</td>\n",
       "      <td>2019-09-24</td>\n",
       "      <td>MK-17905</td>\n",
       "      <td>Michael Kennedy</td>\n",
       "      <td>2019-09-26</td>\n",
       "      <td>2019-09-27</td>\n",
       "      <td>Tuesday</td>\n",
       "    </tr>\n",
       "    <tr>\n",
       "      <th>130</th>\n",
       "      <td>CA-2020-162250</td>\n",
       "      <td>2020-11-24</td>\n",
       "      <td>PR-18880</td>\n",
       "      <td>Patrick Ryan</td>\n",
       "      <td>2020-11-24</td>\n",
       "      <td>2020-11-25</td>\n",
       "      <td>Tuesday</td>\n",
       "    </tr>\n",
       "    <tr>\n",
       "      <th>176</th>\n",
       "      <td>CA-2020-168641</td>\n",
       "      <td>2020-11-24</td>\n",
       "      <td>KA-16525</td>\n",
       "      <td>Kelly Andreada</td>\n",
       "      <td>2020-12-01</td>\n",
       "      <td>2020-12-02</td>\n",
       "      <td>Tuesday</td>\n",
       "    </tr>\n",
       "  </tbody>\n",
       "</table>\n",
       "</div>"
      ],
      "text/plain": [
       "           order_id order_date customer_id         customer_name  \\\n",
       "206  CA-2020-100811 2020-11-21    CC-12475         Cindy Chapman   \n",
       "200  CA-2020-126242 2020-11-19    MC-18100         Mick Crebagga   \n",
       "368  CA-2020-108112 2020-11-15    DK-12895           Dana Kaydos   \n",
       "41   US-2020-114657 2020-11-16    MH-18115        Mick Hernandez   \n",
       "254  CA-2020-122490 2020-11-13    TT-21070           Ted Trevino   \n",
       "53   CA-2020-165687 2020-11-17    CS-12355  Christine Sundaresam   \n",
       "249  CA-2019-164154 2019-09-11    NZ-18565         Nick Zandusky   \n",
       "266  CA-2019-132479 2019-09-24    MK-17905       Michael Kennedy   \n",
       "130  CA-2020-162250 2020-11-24    PR-18880          Patrick Ryan   \n",
       "176  CA-2020-168641 2020-11-24    KA-16525        Kelly Andreada   \n",
       "\n",
       "    ready_to_ship_date pickup_date    weekday  \n",
       "206         2020-11-26  2020-11-27   Saturday  \n",
       "200         2020-11-24  2020-11-25   Thursday  \n",
       "368         2020-11-23  2020-11-25     Sunday  \n",
       "41          2020-11-23  2020-11-25     Monday  \n",
       "254         2020-11-18  2020-11-20     Friday  \n",
       "53          2020-11-23  2020-11-25    Tuesday  \n",
       "249         2019-09-17  2019-09-18  Wednesday  \n",
       "266         2019-09-26  2019-09-27    Tuesday  \n",
       "130         2020-11-24  2020-11-25    Tuesday  \n",
       "176         2020-12-01  2020-12-02    Tuesday  "
      ]
     },
     "execution_count": 26,
     "metadata": {},
     "output_type": "execute_result"
    }
   ],
   "source": [
    "preparation_df['weekday'] = preparation_df['order_date'].dt.day_name()\n",
    "\n",
    "preparation_df.sample(10)"
   ]
  },
  {
   "cell_type": "markdown",
   "metadata": {},
   "source": [
    "Convert the date columns to datetime format."
   ]
  },
  {
   "cell_type": "code",
   "execution_count": 27,
   "metadata": {},
   "outputs": [
    {
     "name": "stdout",
     "output_type": "stream",
     "text": [
      "<class 'pandas.core.frame.DataFrame'>\n",
      "RangeIndex: 418 entries, 0 to 417\n",
      "Data columns (total 7 columns):\n",
      " #   Column              Non-Null Count  Dtype         \n",
      "---  ------              --------------  -----         \n",
      " 0   order_id            418 non-null    object        \n",
      " 1   order_date          418 non-null    datetime64[ns]\n",
      " 2   customer_id         418 non-null    object        \n",
      " 3   customer_name       418 non-null    object        \n",
      " 4   ready_to_ship_date  418 non-null    datetime64[ns]\n",
      " 5   pickup_date         418 non-null    datetime64[ns]\n",
      " 6   weekday             418 non-null    object        \n",
      "dtypes: datetime64[ns](3), object(4)\n",
      "memory usage: 23.0+ KB\n"
     ]
    }
   ],
   "source": [
    "preparation_df['order_date'] = pd.to_datetime(preparation_df['order_date'])\n",
    "preparation_df['ready_to_ship_date'] = pd.to_datetime(preparation_df['ready_to_ship_date'])\n",
    "preparation_df['pickup_date'] = pd.to_datetime(preparation_df['pickup_date'])\n",
    "\n",
    "preparation_df.info()"
   ]
  },
  {
   "cell_type": "markdown",
   "metadata": {},
   "source": [
    "Check the type of data in the columns."
   ]
  },
  {
   "cell_type": "code",
   "execution_count": 28,
   "metadata": {},
   "outputs": [
    {
     "data": {
      "text/plain": [
       "order_id                      object\n",
       "order_date            datetime64[ns]\n",
       "customer_id                   object\n",
       "customer_name                 object\n",
       "ready_to_ship_date    datetime64[ns]\n",
       "pickup_date           datetime64[ns]\n",
       "weekday                       object\n",
       "dtype: object"
      ]
     },
     "execution_count": 28,
     "metadata": {},
     "output_type": "execute_result"
    }
   ],
   "source": [
    "preparation_df.dtypes"
   ]
  },
  {
   "cell_type": "markdown",
   "metadata": {},
   "source": [
    "Calculate the preparation duration for each order and print it in a new column."
   ]
  },
  {
   "cell_type": "code",
   "execution_count": 29,
   "metadata": {},
   "outputs": [
    {
     "data": {
      "text/html": [
       "<div>\n",
       "<style scoped>\n",
       "    .dataframe tbody tr th:only-of-type {\n",
       "        vertical-align: middle;\n",
       "    }\n",
       "\n",
       "    .dataframe tbody tr th {\n",
       "        vertical-align: top;\n",
       "    }\n",
       "\n",
       "    .dataframe thead th {\n",
       "        text-align: right;\n",
       "    }\n",
       "</style>\n",
       "<table border=\"1\" class=\"dataframe\">\n",
       "  <thead>\n",
       "    <tr style=\"text-align: right;\">\n",
       "      <th></th>\n",
       "      <th>order_id</th>\n",
       "      <th>order_date</th>\n",
       "      <th>customer_id</th>\n",
       "      <th>customer_name</th>\n",
       "      <th>ready_to_ship_date</th>\n",
       "      <th>pickup_date</th>\n",
       "      <th>weekday</th>\n",
       "      <th>preparation_duration</th>\n",
       "    </tr>\n",
       "  </thead>\n",
       "  <tbody>\n",
       "    <tr>\n",
       "      <th>109</th>\n",
       "      <td>US-2020-153948</td>\n",
       "      <td>2020-11-06</td>\n",
       "      <td>FM-14290</td>\n",
       "      <td>Frank Merwin</td>\n",
       "      <td>2020-11-06</td>\n",
       "      <td>2020-11-06</td>\n",
       "      <td>Friday</td>\n",
       "      <td>0</td>\n",
       "    </tr>\n",
       "    <tr>\n",
       "      <th>355</th>\n",
       "      <td>US-2020-110576</td>\n",
       "      <td>2020-11-28</td>\n",
       "      <td>RB-19795</td>\n",
       "      <td>Ross Baird</td>\n",
       "      <td>2020-12-04</td>\n",
       "      <td>2020-12-07</td>\n",
       "      <td>Saturday</td>\n",
       "      <td>6</td>\n",
       "    </tr>\n",
       "    <tr>\n",
       "      <th>223</th>\n",
       "      <td>CA-2020-107825</td>\n",
       "      <td>2020-11-18</td>\n",
       "      <td>NB-18655</td>\n",
       "      <td>Nona Balk</td>\n",
       "      <td>2020-11-18</td>\n",
       "      <td>2020-11-18</td>\n",
       "      <td>Wednesday</td>\n",
       "      <td>0</td>\n",
       "    </tr>\n",
       "    <tr>\n",
       "      <th>67</th>\n",
       "      <td>CA-2020-164364</td>\n",
       "      <td>2020-11-12</td>\n",
       "      <td>CS-12355</td>\n",
       "      <td>Christine Sundaresam</td>\n",
       "      <td>2020-11-16</td>\n",
       "      <td>2020-11-18</td>\n",
       "      <td>Thursday</td>\n",
       "      <td>4</td>\n",
       "    </tr>\n",
       "    <tr>\n",
       "      <th>33</th>\n",
       "      <td>CA-2019-142370</td>\n",
       "      <td>2019-09-19</td>\n",
       "      <td>TP-21130</td>\n",
       "      <td>Theone Pippenger</td>\n",
       "      <td>2019-09-23</td>\n",
       "      <td>2019-09-25</td>\n",
       "      <td>Thursday</td>\n",
       "      <td>4</td>\n",
       "    </tr>\n",
       "    <tr>\n",
       "      <th>193</th>\n",
       "      <td>US-2020-132444</td>\n",
       "      <td>2020-11-18</td>\n",
       "      <td>CD-12280</td>\n",
       "      <td>Christina DeMoss</td>\n",
       "      <td>2020-11-23</td>\n",
       "      <td>2020-11-23</td>\n",
       "      <td>Wednesday</td>\n",
       "      <td>5</td>\n",
       "    </tr>\n",
       "    <tr>\n",
       "      <th>82</th>\n",
       "      <td>US-2020-110576</td>\n",
       "      <td>2020-11-28</td>\n",
       "      <td>RB-19795</td>\n",
       "      <td>Ross Baird</td>\n",
       "      <td>2020-12-04</td>\n",
       "      <td>2020-12-07</td>\n",
       "      <td>Saturday</td>\n",
       "      <td>6</td>\n",
       "    </tr>\n",
       "    <tr>\n",
       "      <th>171</th>\n",
       "      <td>CA-2019-102162</td>\n",
       "      <td>2019-09-11</td>\n",
       "      <td>JF-15565</td>\n",
       "      <td>Jill Fjeld</td>\n",
       "      <td>2019-09-16</td>\n",
       "      <td>2019-09-18</td>\n",
       "      <td>Wednesday</td>\n",
       "      <td>5</td>\n",
       "    </tr>\n",
       "    <tr>\n",
       "      <th>214</th>\n",
       "      <td>CA-2020-105333</td>\n",
       "      <td>2020-11-30</td>\n",
       "      <td>VP-21730</td>\n",
       "      <td>Victor Preis</td>\n",
       "      <td>2020-12-04</td>\n",
       "      <td>2020-12-07</td>\n",
       "      <td>Monday</td>\n",
       "      <td>4</td>\n",
       "    </tr>\n",
       "    <tr>\n",
       "      <th>81</th>\n",
       "      <td>CA-2019-121223</td>\n",
       "      <td>2019-09-11</td>\n",
       "      <td>GD-14590</td>\n",
       "      <td>Giulietta Dortch</td>\n",
       "      <td>2019-09-13</td>\n",
       "      <td>2019-09-16</td>\n",
       "      <td>Wednesday</td>\n",
       "      <td>2</td>\n",
       "    </tr>\n",
       "  </tbody>\n",
       "</table>\n",
       "</div>"
      ],
      "text/plain": [
       "           order_id order_date customer_id         customer_name  \\\n",
       "109  US-2020-153948 2020-11-06    FM-14290          Frank Merwin   \n",
       "355  US-2020-110576 2020-11-28    RB-19795            Ross Baird   \n",
       "223  CA-2020-107825 2020-11-18    NB-18655             Nona Balk   \n",
       "67   CA-2020-164364 2020-11-12    CS-12355  Christine Sundaresam   \n",
       "33   CA-2019-142370 2019-09-19    TP-21130      Theone Pippenger   \n",
       "193  US-2020-132444 2020-11-18    CD-12280      Christina DeMoss   \n",
       "82   US-2020-110576 2020-11-28    RB-19795            Ross Baird   \n",
       "171  CA-2019-102162 2019-09-11    JF-15565            Jill Fjeld   \n",
       "214  CA-2020-105333 2020-11-30    VP-21730          Victor Preis   \n",
       "81   CA-2019-121223 2019-09-11    GD-14590      Giulietta Dortch   \n",
       "\n",
       "    ready_to_ship_date pickup_date    weekday  preparation_duration  \n",
       "109         2020-11-06  2020-11-06     Friday                     0  \n",
       "355         2020-12-04  2020-12-07   Saturday                     6  \n",
       "223         2020-11-18  2020-11-18  Wednesday                     0  \n",
       "67          2020-11-16  2020-11-18   Thursday                     4  \n",
       "33          2019-09-23  2019-09-25   Thursday                     4  \n",
       "193         2020-11-23  2020-11-23  Wednesday                     5  \n",
       "82          2020-12-04  2020-12-07   Saturday                     6  \n",
       "171         2019-09-16  2019-09-18  Wednesday                     5  \n",
       "214         2020-12-04  2020-12-07     Monday                     4  \n",
       "81          2019-09-13  2019-09-16  Wednesday                     2  "
      ]
     },
     "execution_count": 29,
     "metadata": {},
     "output_type": "execute_result"
    }
   ],
   "source": [
    "preparation_df['preparation_duration'] = (preparation_df['ready_to_ship_date']\n",
    "                                            - preparation_df['order_date']\n",
    "                                            ).dt.days\n",
    "\n",
    "preparation_df.sample(10)"
   ]
  },
  {
   "cell_type": "code",
   "execution_count": 30,
   "metadata": {},
   "outputs": [
    {
     "data": {
      "text/plain": [
       "array([7, 6, 1, 3, 5, 2, 0, 4, 8])"
      ]
     },
     "execution_count": 30,
     "metadata": {},
     "output_type": "execute_result"
    }
   ],
   "source": [
    "preparation_df['preparation_duration'].unique()"
   ]
  },
  {
   "cell_type": "markdown",
   "metadata": {},
   "source": [
    "Setting up seaborn and plotting the data as boxplots."
   ]
  },
  {
   "cell_type": "code",
   "execution_count": 31,
   "metadata": {},
   "outputs": [
    {
     "data": {
      "image/png": "[encoded data removed]",
      "text/plain": [
       "<Figure size 1000x600 with 1 Axes>"
      ]
     },
     "metadata": {},
     "output_type": "display_data"
    }
   ],
   "source": [
    "sns.set_style('whitegrid')\n",
    "custom_order = ['Monday', 'Tuesday', 'Wednesday', 'Thursday', 'Friday', 'Saturday', 'Sunday']\n",
    "\n",
    "plt.figure(figsize=(10, 6))\n",
    "sns.boxplot(x = 'weekday',\n",
    "            y = 'preparation_duration',\n",
    "            data = preparation_df,\n",
    "            order = custom_order,\n",
    "            color = 'skyblue',\n",
    "            medianprops = dict(color = 'red'))\n",
    "plt.title('Distribition of Preparation Duration by Order Day')\n",
    "plt.xlabel('Order Day of Week')\n",
    "plt.ylabel('Preparation Duration (Days)')\n",
    "#plt.xticks(rotation = 45)\n",
    "plt.tight_layout()\n",
    "plt.show()"
   ]
  },
  {
   "cell_type": "markdown",
   "metadata": {},
   "source": [
    "Calculate the mean Preparation Duration."
   ]
  },
  {
   "cell_type": "code",
   "execution_count": 32,
   "metadata": {},
   "outputs": [
    {
     "data": {
      "text/plain": [
       "4.157894736842105"
      ]
     },
     "execution_count": 32,
     "metadata": {},
     "output_type": "execute_result"
    }
   ],
   "source": [
    "mean_preparation_days = preparation_df['preparation_duration'].mean()\n",
    "\n",
    "mean_preparation_days"
   ]
  },
  {
   "cell_type": "markdown",
   "metadata": {},
   "source": [
    "**=> 4 days and ca. 4 hours**  \n",
    "That's way more than the claimed 2 days preparation duration!"
   ]
  },
  {
   "cell_type": "markdown",
   "metadata": {},
   "source": [
    "---"
   ]
  },
  {
   "cell_type": "markdown",
   "metadata": {},
   "source": [
    "### 2. **Ready to Ship to on Truck**: Duration of process from \"Ready to Ship\" to \"on Truck\" (1 day for normal, 0 days for express):\n",
    "merge 'order_process_data_df' and 'interndata_study_df'"
   ]
  },
  {
   "cell_type": "code",
   "execution_count": 33,
   "metadata": {},
   "outputs": [],
   "source": [
    "readytoship_truck_df = pd.merge(order_process_data_df, interndata_study_df,\n",
    "                                on = 'order_id',\n",
    "                                how = 'inner')"
   ]
  },
  {
   "cell_type": "code",
   "execution_count": 34,
   "metadata": {},
   "outputs": [
    {
     "data": {
      "text/plain": [
       "Index(['order_id', 'on_truck_scan_date', 'ship_mode', 'ready_to_ship_date',\n",
       "       'pickup_date'],\n",
       "      dtype='object')"
      ]
     },
     "execution_count": 34,
     "metadata": {},
     "output_type": "execute_result"
    }
   ],
   "source": [
    "readytoship_truck_df.columns"
   ]
  },
  {
   "cell_type": "markdown",
   "metadata": {},
   "source": [
    "No columns to delete."
   ]
  },
  {
   "cell_type": "code",
   "execution_count": 35,
   "metadata": {},
   "outputs": [
    {
     "data": {
      "text/html": [
       "<div>\n",
       "<style scoped>\n",
       "    .dataframe tbody tr th:only-of-type {\n",
       "        vertical-align: middle;\n",
       "    }\n",
       "\n",
       "    .dataframe tbody tr th {\n",
       "        vertical-align: top;\n",
       "    }\n",
       "\n",
       "    .dataframe thead th {\n",
       "        text-align: right;\n",
       "    }\n",
       "</style>\n",
       "<table border=\"1\" class=\"dataframe\">\n",
       "  <thead>\n",
       "    <tr style=\"text-align: right;\">\n",
       "      <th></th>\n",
       "      <th>order_id</th>\n",
       "      <th>on_truck_scan_date</th>\n",
       "      <th>ship_mode</th>\n",
       "      <th>ready_to_ship_date</th>\n",
       "      <th>pickup_date</th>\n",
       "    </tr>\n",
       "  </thead>\n",
       "  <tbody>\n",
       "    <tr>\n",
       "      <th>161</th>\n",
       "      <td>CA-2020-124674</td>\n",
       "      <td>2020-11-25</td>\n",
       "      <td>Standard Processing</td>\n",
       "      <td>2020-11-23</td>\n",
       "      <td>2020-11-25</td>\n",
       "    </tr>\n",
       "    <tr>\n",
       "      <th>146</th>\n",
       "      <td>CA-2020-131254</td>\n",
       "      <td>2020-11-23</td>\n",
       "      <td>Express</td>\n",
       "      <td>2020-11-23</td>\n",
       "      <td>2020-11-23</td>\n",
       "    </tr>\n",
       "    <tr>\n",
       "      <th>203</th>\n",
       "      <td>CA-2020-142090</td>\n",
       "      <td>2020-12-09</td>\n",
       "      <td>Standard Processing</td>\n",
       "      <td>2020-12-07</td>\n",
       "      <td>2020-12-09</td>\n",
       "    </tr>\n",
       "    <tr>\n",
       "      <th>94</th>\n",
       "      <td>CA-2020-159135</td>\n",
       "      <td>2020-11-12</td>\n",
       "      <td>Standard Processing</td>\n",
       "      <td>2020-11-09</td>\n",
       "      <td>2020-11-12</td>\n",
       "    </tr>\n",
       "    <tr>\n",
       "      <th>134</th>\n",
       "      <td>CA-2020-121468</td>\n",
       "      <td>2020-11-20</td>\n",
       "      <td>Express</td>\n",
       "      <td>2020-11-20</td>\n",
       "      <td>2020-11-20</td>\n",
       "    </tr>\n",
       "    <tr>\n",
       "      <th>106</th>\n",
       "      <td>US-2020-136707</td>\n",
       "      <td>2020-11-16</td>\n",
       "      <td>Express</td>\n",
       "      <td>2020-11-16</td>\n",
       "      <td>2020-11-16</td>\n",
       "    </tr>\n",
       "    <tr>\n",
       "      <th>85</th>\n",
       "      <td>CA-2020-125290</td>\n",
       "      <td>2020-11-12</td>\n",
       "      <td>Standard Processing</td>\n",
       "      <td>2020-11-10</td>\n",
       "      <td>2020-11-12</td>\n",
       "    </tr>\n",
       "    <tr>\n",
       "      <th>142</th>\n",
       "      <td>CA-2020-133620</td>\n",
       "      <td>2020-11-20</td>\n",
       "      <td>Standard Processing</td>\n",
       "      <td>2020-11-18</td>\n",
       "      <td>2020-11-20</td>\n",
       "    </tr>\n",
       "    <tr>\n",
       "      <th>32</th>\n",
       "      <td>US-2019-118780</td>\n",
       "      <td>2019-09-18</td>\n",
       "      <td>Standard Processing</td>\n",
       "      <td>2019-09-16</td>\n",
       "      <td>2019-09-18</td>\n",
       "    </tr>\n",
       "    <tr>\n",
       "      <th>47</th>\n",
       "      <td>CA-2019-168557</td>\n",
       "      <td>2019-09-25</td>\n",
       "      <td>Standard Processing</td>\n",
       "      <td>2019-09-23</td>\n",
       "      <td>2019-09-25</td>\n",
       "    </tr>\n",
       "  </tbody>\n",
       "</table>\n",
       "</div>"
      ],
      "text/plain": [
       "           order_id on_truck_scan_date            ship_mode  \\\n",
       "161  CA-2020-124674         2020-11-25  Standard Processing   \n",
       "146  CA-2020-131254         2020-11-23              Express   \n",
       "203  CA-2020-142090         2020-12-09  Standard Processing   \n",
       "94   CA-2020-159135         2020-11-12  Standard Processing   \n",
       "134  CA-2020-121468         2020-11-20              Express   \n",
       "106  US-2020-136707         2020-11-16              Express   \n",
       "85   CA-2020-125290         2020-11-12  Standard Processing   \n",
       "142  CA-2020-133620         2020-11-20  Standard Processing   \n",
       "32   US-2019-118780         2019-09-18  Standard Processing   \n",
       "47   CA-2019-168557         2019-09-25  Standard Processing   \n",
       "\n",
       "    ready_to_ship_date pickup_date  \n",
       "161         2020-11-23  2020-11-25  \n",
       "146         2020-11-23  2020-11-23  \n",
       "203         2020-12-07  2020-12-09  \n",
       "94          2020-11-09  2020-11-12  \n",
       "134         2020-11-20  2020-11-20  \n",
       "106         2020-11-16  2020-11-16  \n",
       "85          2020-11-10  2020-11-12  \n",
       "142         2020-11-18  2020-11-20  \n",
       "32          2019-09-16  2019-09-18  \n",
       "47          2019-09-23  2019-09-25  "
      ]
     },
     "execution_count": 35,
     "metadata": {},
     "output_type": "execute_result"
    }
   ],
   "source": [
    "readytoship_truck_df.sample(10)"
   ]
  },
  {
   "cell_type": "markdown",
   "metadata": {},
   "source": [
    "Extract the weekday name from the date column."
   ]
  },
  {
   "cell_type": "code",
   "execution_count": 36,
   "metadata": {},
   "outputs": [
    {
     "data": {
      "text/html": [
       "<div>\n",
       "<style scoped>\n",
       "    .dataframe tbody tr th:only-of-type {\n",
       "        vertical-align: middle;\n",
       "    }\n",
       "\n",
       "    .dataframe tbody tr th {\n",
       "        vertical-align: top;\n",
       "    }\n",
       "\n",
       "    .dataframe thead th {\n",
       "        text-align: right;\n",
       "    }\n",
       "</style>\n",
       "<table border=\"1\" class=\"dataframe\">\n",
       "  <thead>\n",
       "    <tr style=\"text-align: right;\">\n",
       "      <th></th>\n",
       "      <th>order_id</th>\n",
       "      <th>on_truck_scan_date</th>\n",
       "      <th>ship_mode</th>\n",
       "      <th>ready_to_ship_date</th>\n",
       "      <th>pickup_date</th>\n",
       "      <th>weekday</th>\n",
       "    </tr>\n",
       "  </thead>\n",
       "  <tbody>\n",
       "    <tr>\n",
       "      <th>137</th>\n",
       "      <td>US-2020-153633</td>\n",
       "      <td>2020-11-20</td>\n",
       "      <td>Standard Processing</td>\n",
       "      <td>2020-11-18</td>\n",
       "      <td>2020-11-20</td>\n",
       "      <td>Friday</td>\n",
       "    </tr>\n",
       "    <tr>\n",
       "      <th>76</th>\n",
       "      <td>CA-2020-154732</td>\n",
       "      <td>2020-11-09</td>\n",
       "      <td>Express</td>\n",
       "      <td>2020-11-09</td>\n",
       "      <td>2020-11-09</td>\n",
       "      <td>Monday</td>\n",
       "    </tr>\n",
       "    <tr>\n",
       "      <th>12</th>\n",
       "      <td>US-2019-147711</td>\n",
       "      <td>2019-09-11</td>\n",
       "      <td>Standard Processing</td>\n",
       "      <td>2019-09-09</td>\n",
       "      <td>2019-09-11</td>\n",
       "      <td>Wednesday</td>\n",
       "    </tr>\n",
       "    <tr>\n",
       "      <th>194</th>\n",
       "      <td>CA-2020-155607</td>\n",
       "      <td>2020-12-02</td>\n",
       "      <td>Standard Processing</td>\n",
       "      <td>2020-11-30</td>\n",
       "      <td>2020-12-02</td>\n",
       "      <td>Wednesday</td>\n",
       "    </tr>\n",
       "    <tr>\n",
       "      <th>22</th>\n",
       "      <td>CA-2019-117604</td>\n",
       "      <td>2019-09-11</td>\n",
       "      <td>Standard Processing</td>\n",
       "      <td>2019-09-09</td>\n",
       "      <td>2019-09-11</td>\n",
       "      <td>Wednesday</td>\n",
       "    </tr>\n",
       "    <tr>\n",
       "      <th>56</th>\n",
       "      <td>US-2019-134488</td>\n",
       "      <td>2019-10-02</td>\n",
       "      <td>Standard Processing</td>\n",
       "      <td>2019-10-01</td>\n",
       "      <td>2019-10-02</td>\n",
       "      <td>Wednesday</td>\n",
       "    </tr>\n",
       "    <tr>\n",
       "      <th>173</th>\n",
       "      <td>US-2020-161193</td>\n",
       "      <td>2020-11-27</td>\n",
       "      <td>Standard Processing</td>\n",
       "      <td>2020-11-26</td>\n",
       "      <td>2020-11-27</td>\n",
       "      <td>Friday</td>\n",
       "    </tr>\n",
       "    <tr>\n",
       "      <th>127</th>\n",
       "      <td>CA-2020-160514</td>\n",
       "      <td>2020-11-18</td>\n",
       "      <td>Standard Processing</td>\n",
       "      <td>2020-11-16</td>\n",
       "      <td>2020-11-18</td>\n",
       "      <td>Wednesday</td>\n",
       "    </tr>\n",
       "    <tr>\n",
       "      <th>115</th>\n",
       "      <td>CA-2020-161739</td>\n",
       "      <td>2020-11-18</td>\n",
       "      <td>Standard Processing</td>\n",
       "      <td>2020-11-16</td>\n",
       "      <td>2020-11-18</td>\n",
       "      <td>Wednesday</td>\n",
       "    </tr>\n",
       "    <tr>\n",
       "      <th>119</th>\n",
       "      <td>CA-2020-123624</td>\n",
       "      <td>2020-11-18</td>\n",
       "      <td>Standard Processing</td>\n",
       "      <td>2020-11-17</td>\n",
       "      <td>2020-11-18</td>\n",
       "      <td>Wednesday</td>\n",
       "    </tr>\n",
       "  </tbody>\n",
       "</table>\n",
       "</div>"
      ],
      "text/plain": [
       "           order_id on_truck_scan_date            ship_mode  \\\n",
       "137  US-2020-153633         2020-11-20  Standard Processing   \n",
       "76   CA-2020-154732         2020-11-09              Express   \n",
       "12   US-2019-147711         2019-09-11  Standard Processing   \n",
       "194  CA-2020-155607         2020-12-02  Standard Processing   \n",
       "22   CA-2019-117604         2019-09-11  Standard Processing   \n",
       "56   US-2019-134488         2019-10-02  Standard Processing   \n",
       "173  US-2020-161193         2020-11-27  Standard Processing   \n",
       "127  CA-2020-160514         2020-11-18  Standard Processing   \n",
       "115  CA-2020-161739         2020-11-18  Standard Processing   \n",
       "119  CA-2020-123624         2020-11-18  Standard Processing   \n",
       "\n",
       "    ready_to_ship_date pickup_date    weekday  \n",
       "137         2020-11-18  2020-11-20     Friday  \n",
       "76          2020-11-09  2020-11-09     Monday  \n",
       "12          2019-09-09  2019-09-11  Wednesday  \n",
       "194         2020-11-30  2020-12-02  Wednesday  \n",
       "22          2019-09-09  2019-09-11  Wednesday  \n",
       "56          2019-10-01  2019-10-02  Wednesday  \n",
       "173         2020-11-26  2020-11-27     Friday  \n",
       "127         2020-11-16  2020-11-18  Wednesday  \n",
       "115         2020-11-16  2020-11-18  Wednesday  \n",
       "119         2020-11-17  2020-11-18  Wednesday  "
      ]
     },
     "execution_count": 36,
     "metadata": {},
     "output_type": "execute_result"
    }
   ],
   "source": [
    "readytoship_truck_df['weekday'] = readytoship_truck_df['on_truck_scan_date'].dt.day_name()\n",
    "\n",
    "readytoship_truck_df.sample(10)"
   ]
  },
  {
   "cell_type": "markdown",
   "metadata": {},
   "source": [
    "No convertion to datetime needed (see below)."
   ]
  },
  {
   "cell_type": "code",
   "execution_count": 37,
   "metadata": {},
   "outputs": [
    {
     "name": "stdout",
     "output_type": "stream",
     "text": [
      "<class 'pandas.core.frame.DataFrame'>\n",
      "RangeIndex: 204 entries, 0 to 203\n",
      "Data columns (total 6 columns):\n",
      " #   Column              Non-Null Count  Dtype         \n",
      "---  ------              --------------  -----         \n",
      " 0   order_id            204 non-null    object        \n",
      " 1   on_truck_scan_date  204 non-null    datetime64[ns]\n",
      " 2   ship_mode           204 non-null    object        \n",
      " 3   ready_to_ship_date  204 non-null    datetime64[ns]\n",
      " 4   pickup_date         204 non-null    datetime64[ns]\n",
      " 5   weekday             204 non-null    object        \n",
      "dtypes: datetime64[ns](3), object(3)\n",
      "memory usage: 9.7+ KB\n"
     ]
    }
   ],
   "source": [
    "readytoship_truck_df.info()"
   ]
  },
  {
   "cell_type": "markdown",
   "metadata": {},
   "source": [
    "Calculate the duration of the process from 'Ready to Ship' to 'on Truck' and print it in a new column."
   ]
  },
  {
   "cell_type": "code",
   "execution_count": 38,
   "metadata": {},
   "outputs": [
    {
     "data": {
      "text/html": [
       "<div>\n",
       "<style scoped>\n",
       "    .dataframe tbody tr th:only-of-type {\n",
       "        vertical-align: middle;\n",
       "    }\n",
       "\n",
       "    .dataframe tbody tr th {\n",
       "        vertical-align: top;\n",
       "    }\n",
       "\n",
       "    .dataframe thead th {\n",
       "        text-align: right;\n",
       "    }\n",
       "</style>\n",
       "<table border=\"1\" class=\"dataframe\">\n",
       "  <thead>\n",
       "    <tr style=\"text-align: right;\">\n",
       "      <th></th>\n",
       "      <th>order_id</th>\n",
       "      <th>on_truck_scan_date</th>\n",
       "      <th>ship_mode</th>\n",
       "      <th>ready_to_ship_date</th>\n",
       "      <th>pickup_date</th>\n",
       "      <th>weekday</th>\n",
       "      <th>ship_to_truck</th>\n",
       "    </tr>\n",
       "  </thead>\n",
       "  <tbody>\n",
       "    <tr>\n",
       "      <th>14</th>\n",
       "      <td>CA-2019-102981</td>\n",
       "      <td>2019-09-11</td>\n",
       "      <td>Standard Processing</td>\n",
       "      <td>2019-09-09</td>\n",
       "      <td>2019-09-11</td>\n",
       "      <td>Wednesday</td>\n",
       "      <td>2</td>\n",
       "    </tr>\n",
       "    <tr>\n",
       "      <th>5</th>\n",
       "      <td>US-2019-101616</td>\n",
       "      <td>2019-09-06</td>\n",
       "      <td>Express</td>\n",
       "      <td>2019-09-06</td>\n",
       "      <td>2019-09-06</td>\n",
       "      <td>Friday</td>\n",
       "      <td>0</td>\n",
       "    </tr>\n",
       "    <tr>\n",
       "      <th>24</th>\n",
       "      <td>CA-2019-164350</td>\n",
       "      <td>2019-09-13</td>\n",
       "      <td>Standard Processing</td>\n",
       "      <td>2019-09-12</td>\n",
       "      <td>2019-09-13</td>\n",
       "      <td>Friday</td>\n",
       "      <td>1</td>\n",
       "    </tr>\n",
       "    <tr>\n",
       "      <th>131</th>\n",
       "      <td>CA-2020-152142</td>\n",
       "      <td>2020-11-18</td>\n",
       "      <td>Standard Processing</td>\n",
       "      <td>2020-11-16</td>\n",
       "      <td>2020-11-18</td>\n",
       "      <td>Wednesday</td>\n",
       "      <td>2</td>\n",
       "    </tr>\n",
       "    <tr>\n",
       "      <th>123</th>\n",
       "      <td>CA-2020-104640</td>\n",
       "      <td>2020-11-18</td>\n",
       "      <td>Standard Processing</td>\n",
       "      <td>2020-11-16</td>\n",
       "      <td>2020-11-18</td>\n",
       "      <td>Wednesday</td>\n",
       "      <td>2</td>\n",
       "    </tr>\n",
       "    <tr>\n",
       "      <th>187</th>\n",
       "      <td>US-2020-128118</td>\n",
       "      <td>2020-12-02</td>\n",
       "      <td>Standard Processing</td>\n",
       "      <td>2020-12-01</td>\n",
       "      <td>2020-12-02</td>\n",
       "      <td>Wednesday</td>\n",
       "      <td>1</td>\n",
       "    </tr>\n",
       "    <tr>\n",
       "      <th>86</th>\n",
       "      <td>CA-2020-122504</td>\n",
       "      <td>2020-11-12</td>\n",
       "      <td>Standard Processing</td>\n",
       "      <td>2020-11-09</td>\n",
       "      <td>2020-11-12</td>\n",
       "      <td>Thursday</td>\n",
       "      <td>3</td>\n",
       "    </tr>\n",
       "    <tr>\n",
       "      <th>2</th>\n",
       "      <td>CA-2019-129630</td>\n",
       "      <td>2019-09-04</td>\n",
       "      <td>Express</td>\n",
       "      <td>2019-09-04</td>\n",
       "      <td>2019-09-04</td>\n",
       "      <td>Wednesday</td>\n",
       "      <td>0</td>\n",
       "    </tr>\n",
       "    <tr>\n",
       "      <th>46</th>\n",
       "      <td>CA-2019-142370</td>\n",
       "      <td>2019-09-25</td>\n",
       "      <td>Standard Processing</td>\n",
       "      <td>2019-09-23</td>\n",
       "      <td>2019-09-25</td>\n",
       "      <td>Wednesday</td>\n",
       "      <td>2</td>\n",
       "    </tr>\n",
       "    <tr>\n",
       "      <th>203</th>\n",
       "      <td>CA-2020-142090</td>\n",
       "      <td>2020-12-09</td>\n",
       "      <td>Standard Processing</td>\n",
       "      <td>2020-12-07</td>\n",
       "      <td>2020-12-09</td>\n",
       "      <td>Wednesday</td>\n",
       "      <td>2</td>\n",
       "    </tr>\n",
       "  </tbody>\n",
       "</table>\n",
       "</div>"
      ],
      "text/plain": [
       "           order_id on_truck_scan_date            ship_mode  \\\n",
       "14   CA-2019-102981         2019-09-11  Standard Processing   \n",
       "5    US-2019-101616         2019-09-06              Express   \n",
       "24   CA-2019-164350         2019-09-13  Standard Processing   \n",
       "131  CA-2020-152142         2020-11-18  Standard Processing   \n",
       "123  CA-2020-104640         2020-11-18  Standard Processing   \n",
       "187  US-2020-128118         2020-12-02  Standard Processing   \n",
       "86   CA-2020-122504         2020-11-12  Standard Processing   \n",
       "2    CA-2019-129630         2019-09-04              Express   \n",
       "46   CA-2019-142370         2019-09-25  Standard Processing   \n",
       "203  CA-2020-142090         2020-12-09  Standard Processing   \n",
       "\n",
       "    ready_to_ship_date pickup_date    weekday  ship_to_truck  \n",
       "14          2019-09-09  2019-09-11  Wednesday              2  \n",
       "5           2019-09-06  2019-09-06     Friday              0  \n",
       "24          2019-09-12  2019-09-13     Friday              1  \n",
       "131         2020-11-16  2020-11-18  Wednesday              2  \n",
       "123         2020-11-16  2020-11-18  Wednesday              2  \n",
       "187         2020-12-01  2020-12-02  Wednesday              1  \n",
       "86          2020-11-09  2020-11-12   Thursday              3  \n",
       "2           2019-09-04  2019-09-04  Wednesday              0  \n",
       "46          2019-09-23  2019-09-25  Wednesday              2  \n",
       "203         2020-12-07  2020-12-09  Wednesday              2  "
      ]
     },
     "execution_count": 38,
     "metadata": {},
     "output_type": "execute_result"
    }
   ],
   "source": [
    "readytoship_truck_df['ship_to_truck'] = (readytoship_truck_df['on_truck_scan_date']\n",
    "                                            - readytoship_truck_df['ready_to_ship_date']\n",
    "                                            ).dt.days\n",
    "\n",
    "readytoship_truck_df.sample(10)"
   ]
  },
  {
   "cell_type": "code",
   "execution_count": 39,
   "metadata": {},
   "outputs": [
    {
     "data": {
      "text/plain": [
       "array([1, 0, 3, 2])"
      ]
     },
     "execution_count": 39,
     "metadata": {},
     "output_type": "execute_result"
    }
   ],
   "source": [
    "readytoship_truck_df['ship_to_truck'].unique()"
   ]
  },
  {
   "cell_type": "markdown",
   "metadata": {},
   "source": [
    "Filter for standard processing."
   ]
  },
  {
   "cell_type": "code",
   "execution_count": 40,
   "metadata": {},
   "outputs": [
    {
     "data": {
      "text/html": [
       "<div>\n",
       "<style scoped>\n",
       "    .dataframe tbody tr th:only-of-type {\n",
       "        vertical-align: middle;\n",
       "    }\n",
       "\n",
       "    .dataframe tbody tr th {\n",
       "        vertical-align: top;\n",
       "    }\n",
       "\n",
       "    .dataframe thead th {\n",
       "        text-align: right;\n",
       "    }\n",
       "</style>\n",
       "<table border=\"1\" class=\"dataframe\">\n",
       "  <thead>\n",
       "    <tr style=\"text-align: right;\">\n",
       "      <th></th>\n",
       "      <th>order_id</th>\n",
       "      <th>on_truck_scan_date</th>\n",
       "      <th>ship_mode</th>\n",
       "      <th>ready_to_ship_date</th>\n",
       "      <th>pickup_date</th>\n",
       "      <th>weekday</th>\n",
       "      <th>ship_to_truck</th>\n",
       "    </tr>\n",
       "  </thead>\n",
       "  <tbody>\n",
       "    <tr>\n",
       "      <th>40</th>\n",
       "      <td>CA-2019-130225</td>\n",
       "      <td>2019-09-18</td>\n",
       "      <td>Standard Processing</td>\n",
       "      <td>2019-09-17</td>\n",
       "      <td>2019-09-18</td>\n",
       "      <td>Wednesday</td>\n",
       "      <td>1</td>\n",
       "    </tr>\n",
       "    <tr>\n",
       "      <th>102</th>\n",
       "      <td>CA-2020-152912</td>\n",
       "      <td>2020-11-13</td>\n",
       "      <td>Standard Processing</td>\n",
       "      <td>2020-11-12</td>\n",
       "      <td>2020-11-13</td>\n",
       "      <td>Friday</td>\n",
       "      <td>1</td>\n",
       "    </tr>\n",
       "    <tr>\n",
       "      <th>71</th>\n",
       "      <td>CA-2020-104136</td>\n",
       "      <td>2020-11-06</td>\n",
       "      <td>Standard Processing</td>\n",
       "      <td>2020-11-05</td>\n",
       "      <td>2020-11-06</td>\n",
       "      <td>Friday</td>\n",
       "      <td>1</td>\n",
       "    </tr>\n",
       "    <tr>\n",
       "      <th>58</th>\n",
       "      <td>CA-2019-141551</td>\n",
       "      <td>2019-10-02</td>\n",
       "      <td>Standard Processing</td>\n",
       "      <td>2019-09-30</td>\n",
       "      <td>2019-10-02</td>\n",
       "      <td>Wednesday</td>\n",
       "      <td>2</td>\n",
       "    </tr>\n",
       "    <tr>\n",
       "      <th>185</th>\n",
       "      <td>CA-2020-166436</td>\n",
       "      <td>2020-12-02</td>\n",
       "      <td>Standard Processing</td>\n",
       "      <td>2020-11-30</td>\n",
       "      <td>2020-12-02</td>\n",
       "      <td>Wednesday</td>\n",
       "      <td>2</td>\n",
       "    </tr>\n",
       "    <tr>\n",
       "      <th>78</th>\n",
       "      <td>CA-2020-130834</td>\n",
       "      <td>2020-11-09</td>\n",
       "      <td>Standard Processing</td>\n",
       "      <td>2020-11-06</td>\n",
       "      <td>2020-11-09</td>\n",
       "      <td>Monday</td>\n",
       "      <td>3</td>\n",
       "    </tr>\n",
       "    <tr>\n",
       "      <th>116</th>\n",
       "      <td>CA-2020-148985</td>\n",
       "      <td>2020-11-18</td>\n",
       "      <td>Standard Processing</td>\n",
       "      <td>2020-11-16</td>\n",
       "      <td>2020-11-18</td>\n",
       "      <td>Wednesday</td>\n",
       "      <td>2</td>\n",
       "    </tr>\n",
       "    <tr>\n",
       "      <th>101</th>\n",
       "      <td>CA-2020-161018</td>\n",
       "      <td>2020-11-13</td>\n",
       "      <td>Standard Processing</td>\n",
       "      <td>2020-11-11</td>\n",
       "      <td>2020-11-13</td>\n",
       "      <td>Friday</td>\n",
       "      <td>2</td>\n",
       "    </tr>\n",
       "    <tr>\n",
       "      <th>63</th>\n",
       "      <td>CA-2019-106243</td>\n",
       "      <td>2019-10-07</td>\n",
       "      <td>Standard Processing</td>\n",
       "      <td>2019-10-04</td>\n",
       "      <td>2019-10-07</td>\n",
       "      <td>Monday</td>\n",
       "      <td>3</td>\n",
       "    </tr>\n",
       "    <tr>\n",
       "      <th>25</th>\n",
       "      <td>CA-2019-149223</td>\n",
       "      <td>2019-09-13</td>\n",
       "      <td>Standard Processing</td>\n",
       "      <td>2019-09-11</td>\n",
       "      <td>2019-09-13</td>\n",
       "      <td>Friday</td>\n",
       "      <td>2</td>\n",
       "    </tr>\n",
       "  </tbody>\n",
       "</table>\n",
       "</div>"
      ],
      "text/plain": [
       "           order_id on_truck_scan_date            ship_mode  \\\n",
       "40   CA-2019-130225         2019-09-18  Standard Processing   \n",
       "102  CA-2020-152912         2020-11-13  Standard Processing   \n",
       "71   CA-2020-104136         2020-11-06  Standard Processing   \n",
       "58   CA-2019-141551         2019-10-02  Standard Processing   \n",
       "185  CA-2020-166436         2020-12-02  Standard Processing   \n",
       "78   CA-2020-130834         2020-11-09  Standard Processing   \n",
       "116  CA-2020-148985         2020-11-18  Standard Processing   \n",
       "101  CA-2020-161018         2020-11-13  Standard Processing   \n",
       "63   CA-2019-106243         2019-10-07  Standard Processing   \n",
       "25   CA-2019-149223         2019-09-13  Standard Processing   \n",
       "\n",
       "    ready_to_ship_date pickup_date    weekday  ship_to_truck  \n",
       "40          2019-09-17  2019-09-18  Wednesday              1  \n",
       "102         2020-11-12  2020-11-13     Friday              1  \n",
       "71          2020-11-05  2020-11-06     Friday              1  \n",
       "58          2019-09-30  2019-10-02  Wednesday              2  \n",
       "185         2020-11-30  2020-12-02  Wednesday              2  \n",
       "78          2020-11-06  2020-11-09     Monday              3  \n",
       "116         2020-11-16  2020-11-18  Wednesday              2  \n",
       "101         2020-11-11  2020-11-13     Friday              2  \n",
       "63          2019-10-04  2019-10-07     Monday              3  \n",
       "25          2019-09-11  2019-09-13     Friday              2  "
      ]
     },
     "execution_count": 40,
     "metadata": {},
     "output_type": "execute_result"
    }
   ],
   "source": [
    "standard_readytoship_truck_df = readytoship_truck_df[readytoship_truck_df['ship_mode'] == 'Standard Processing']\n",
    "\n",
    "standard_readytoship_truck_df.sample(10)"
   ]
  },
  {
   "cell_type": "markdown",
   "metadata": {},
   "source": [
    "Calculate the mean Preparation Duration for Standard Processing."
   ]
  },
  {
   "cell_type": "code",
   "execution_count": 41,
   "metadata": {},
   "outputs": [
    {
     "data": {
      "text/plain": [
       "1.9867549668874172"
      ]
     },
     "execution_count": 41,
     "metadata": {},
     "output_type": "execute_result"
    }
   ],
   "source": [
    "mean_standard_days = standard_readytoship_truck_df['ship_to_truck'].mean()\n",
    "\n",
    "mean_standard_days"
   ]
  },
  {
   "cell_type": "markdown",
   "metadata": {},
   "source": [
    "**=> ca. 2 days**  \n",
    "That's more than the claimed 1 day."
   ]
  },
  {
   "cell_type": "markdown",
   "metadata": {},
   "source": [
    "---"
   ]
  },
  {
   "cell_type": "markdown",
   "metadata": {},
   "source": [
    "### 3. **Ready to Ship to on Truck Express**: Efficacy of \"Express Processing\"; the order ought to be on the truck on the ready to ship day"
   ]
  },
  {
   "cell_type": "code",
   "execution_count": 42,
   "metadata": {},
   "outputs": [
    {
     "data": {
      "text/html": [
       "<div>\n",
       "<style scoped>\n",
       "    .dataframe tbody tr th:only-of-type {\n",
       "        vertical-align: middle;\n",
       "    }\n",
       "\n",
       "    .dataframe tbody tr th {\n",
       "        vertical-align: top;\n",
       "    }\n",
       "\n",
       "    .dataframe thead th {\n",
       "        text-align: right;\n",
       "    }\n",
       "</style>\n",
       "<table border=\"1\" class=\"dataframe\">\n",
       "  <thead>\n",
       "    <tr style=\"text-align: right;\">\n",
       "      <th></th>\n",
       "      <th>order_id</th>\n",
       "      <th>on_truck_scan_date</th>\n",
       "      <th>ship_mode</th>\n",
       "      <th>ready_to_ship_date</th>\n",
       "      <th>pickup_date</th>\n",
       "      <th>weekday</th>\n",
       "      <th>ship_to_truck</th>\n",
       "    </tr>\n",
       "  </thead>\n",
       "  <tbody>\n",
       "    <tr>\n",
       "      <th>98</th>\n",
       "      <td>US-2020-116491</td>\n",
       "      <td>2020-11-13</td>\n",
       "      <td>Express</td>\n",
       "      <td>2020-11-13</td>\n",
       "      <td>2020-11-13</td>\n",
       "      <td>Friday</td>\n",
       "      <td>0</td>\n",
       "    </tr>\n",
       "    <tr>\n",
       "      <th>68</th>\n",
       "      <td>US-2020-105998</td>\n",
       "      <td>2020-11-06</td>\n",
       "      <td>Express</td>\n",
       "      <td>2020-11-05</td>\n",
       "      <td>2020-11-06</td>\n",
       "      <td>Friday</td>\n",
       "      <td>1</td>\n",
       "    </tr>\n",
       "    <tr>\n",
       "      <th>0</th>\n",
       "      <td>CA-2019-116540</td>\n",
       "      <td>2019-09-03</td>\n",
       "      <td>Express</td>\n",
       "      <td>2019-09-02</td>\n",
       "      <td>2019-09-03</td>\n",
       "      <td>Tuesday</td>\n",
       "      <td>1</td>\n",
       "    </tr>\n",
       "    <tr>\n",
       "      <th>109</th>\n",
       "      <td>CA-2020-136308</td>\n",
       "      <td>2020-11-16</td>\n",
       "      <td>Express</td>\n",
       "      <td>2020-11-16</td>\n",
       "      <td>2020-11-16</td>\n",
       "      <td>Monday</td>\n",
       "      <td>0</td>\n",
       "    </tr>\n",
       "    <tr>\n",
       "      <th>64</th>\n",
       "      <td>US-2020-168116</td>\n",
       "      <td>2020-11-04</td>\n",
       "      <td>Express</td>\n",
       "      <td>2020-11-04</td>\n",
       "      <td>2020-11-04</td>\n",
       "      <td>Wednesday</td>\n",
       "      <td>0</td>\n",
       "    </tr>\n",
       "    <tr>\n",
       "      <th>41</th>\n",
       "      <td>CA-2019-158610</td>\n",
       "      <td>2019-09-23</td>\n",
       "      <td>Express</td>\n",
       "      <td>2019-09-23</td>\n",
       "      <td>2019-09-23</td>\n",
       "      <td>Monday</td>\n",
       "      <td>0</td>\n",
       "    </tr>\n",
       "    <tr>\n",
       "      <th>1</th>\n",
       "      <td>CA-2019-129847</td>\n",
       "      <td>2019-09-04</td>\n",
       "      <td>Express</td>\n",
       "      <td>2019-09-04</td>\n",
       "      <td>2019-09-04</td>\n",
       "      <td>Wednesday</td>\n",
       "      <td>0</td>\n",
       "    </tr>\n",
       "    <tr>\n",
       "      <th>100</th>\n",
       "      <td>CA-2020-134915</td>\n",
       "      <td>2020-11-13</td>\n",
       "      <td>Express</td>\n",
       "      <td>2020-11-12</td>\n",
       "      <td>2020-11-13</td>\n",
       "      <td>Friday</td>\n",
       "      <td>1</td>\n",
       "    </tr>\n",
       "    <tr>\n",
       "      <th>81</th>\n",
       "      <td>CA-2020-162096</td>\n",
       "      <td>2020-11-12</td>\n",
       "      <td>Express</td>\n",
       "      <td>2020-11-10</td>\n",
       "      <td>2020-11-12</td>\n",
       "      <td>Thursday</td>\n",
       "      <td>2</td>\n",
       "    </tr>\n",
       "    <tr>\n",
       "      <th>154</th>\n",
       "      <td>CA-2020-137505</td>\n",
       "      <td>2020-11-25</td>\n",
       "      <td>Express</td>\n",
       "      <td>2020-11-24</td>\n",
       "      <td>2020-11-25</td>\n",
       "      <td>Wednesday</td>\n",
       "      <td>1</td>\n",
       "    </tr>\n",
       "  </tbody>\n",
       "</table>\n",
       "</div>"
      ],
      "text/plain": [
       "           order_id on_truck_scan_date ship_mode ready_to_ship_date  \\\n",
       "98   US-2020-116491         2020-11-13   Express         2020-11-13   \n",
       "68   US-2020-105998         2020-11-06   Express         2020-11-05   \n",
       "0    CA-2019-116540         2019-09-03   Express         2019-09-02   \n",
       "109  CA-2020-136308         2020-11-16   Express         2020-11-16   \n",
       "64   US-2020-168116         2020-11-04   Express         2020-11-04   \n",
       "41   CA-2019-158610         2019-09-23   Express         2019-09-23   \n",
       "1    CA-2019-129847         2019-09-04   Express         2019-09-04   \n",
       "100  CA-2020-134915         2020-11-13   Express         2020-11-12   \n",
       "81   CA-2020-162096         2020-11-12   Express         2020-11-10   \n",
       "154  CA-2020-137505         2020-11-25   Express         2020-11-24   \n",
       "\n",
       "    pickup_date    weekday  ship_to_truck  \n",
       "98   2020-11-13     Friday              0  \n",
       "68   2020-11-06     Friday              1  \n",
       "0    2019-09-03    Tuesday              1  \n",
       "109  2020-11-16     Monday              0  \n",
       "64   2020-11-04  Wednesday              0  \n",
       "41   2019-09-23     Monday              0  \n",
       "1    2019-09-04  Wednesday              0  \n",
       "100  2020-11-13     Friday              1  \n",
       "81   2020-11-12   Thursday              2  \n",
       "154  2020-11-25  Wednesday              1  "
      ]
     },
     "execution_count": 42,
     "metadata": {},
     "output_type": "execute_result"
    }
   ],
   "source": [
    "express_readytoship_truck_df = readytoship_truck_df[readytoship_truck_df['ship_mode'] == 'Express']\n",
    "\n",
    "express_readytoship_truck_df.sample(10)"
   ]
  },
  {
   "cell_type": "markdown",
   "metadata": {},
   "source": [
    "Calculate the mean Preparation Duration for Express Processing."
   ]
  },
  {
   "cell_type": "code",
   "execution_count": 43,
   "metadata": {},
   "outputs": [
    {
     "data": {
      "text/plain": [
       "0.39622641509433965"
      ]
     },
     "execution_count": 43,
     "metadata": {},
     "output_type": "execute_result"
    }
   ],
   "source": [
    "mean_express_days = express_readytoship_truck_df['ship_to_truck'].mean()\n",
    "\n",
    "mean_express_days"
   ]
  },
  {
   "cell_type": "markdown",
   "metadata": {},
   "source": [
    "**=> ca. 10 hours**  \n",
    "Less than the claimed 1 day!"
   ]
  },
  {
   "cell_type": "markdown",
   "metadata": {},
   "source": [
    "---"
   ]
  },
  {
   "cell_type": "markdown",
   "metadata": {},
   "source": [
    "### 4. **Order Delivery**: From \"On Truck Scan\" to \"Arrival Scan Date\":\n",
    "merge campaign_data_df and order_process_data_df"
   ]
  },
  {
   "cell_type": "code",
   "execution_count": 44,
   "metadata": {},
   "outputs": [],
   "source": [
    "order_delivery_df = pd.merge(campaign_data_df, order_process_data_df,\n",
    "                             on = 'order_id',\n",
    "                             how = 'inner')"
   ]
  },
  {
   "cell_type": "code",
   "execution_count": 45,
   "metadata": {},
   "outputs": [
    {
     "data": {
      "text/plain": [
       "Index(['order_id', 'arrival_scan_date', 'on_truck_scan_date', 'ship_mode'], dtype='object')"
      ]
     },
     "execution_count": 45,
     "metadata": {},
     "output_type": "execute_result"
    }
   ],
   "source": [
    "order_delivery_df.columns"
   ]
  },
  {
   "cell_type": "markdown",
   "metadata": {},
   "source": [
    "No columns to delete."
   ]
  },
  {
   "cell_type": "code",
   "execution_count": null,
   "metadata": {},
   "outputs": [],
   "source": []
  },
  {
   "cell_type": "markdown",
   "metadata": {},
   "source": [
    "### 5. **Order Delivery 2**: From \"Pickup Date\" to \"Arrival Scan Date\":\n",
    "merge campaign_data_df and interndata_study_df"
   ]
  },
  {
   "cell_type": "code",
   "execution_count": null,
   "metadata": {},
   "outputs": [],
   "source": []
  },
  {
   "cell_type": "markdown",
   "metadata": {},
   "source": [
    "### 6. **Order Delivery total**: Get an image of the whole delivery process duration, from 'Order Date' to 'Arrival Scan Date':\n",
    "merge orders_df and order_process_data_df"
   ]
  },
  {
   "cell_type": "code",
   "execution_count": null,
   "metadata": {},
   "outputs": [],
   "source": []
  }
 ],
 "metadata": {
  "kernelspec": {
   "display_name": "nf_base",
   "language": "python",
   "name": "python3"
  },
  "language_info": {
   "codemirror_mode": {
    "name": "ipython",
    "version": 3
   },
   "file_extension": ".py",
   "mimetype": "text/x-python",
   "name": "python",
   "nbconvert_exporter": "python",
   "pygments_lexer": "ipython3",
   "version": "3.9.19"
  }
 },
 "nbformat": 4,
 "nbformat_minor": 2
}
