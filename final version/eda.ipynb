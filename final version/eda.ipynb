{
 "cells": [
  {
   "cell_type": "code",
   "execution_count": 1,
   "metadata": {},
   "outputs": [],
   "source": [
    "import pandas as pd\n",
    "import matplotlib.pyplot as plt\n",
    "import seaborn as sns\n",
    "from functools import reduce"
   ]
  },
  {
   "cell_type": "markdown",
   "metadata": {},
   "source": [
    "Read all the worksheets from the data excel file"
   ]
  },
  {
   "cell_type": "code",
   "execution_count": 2,
   "metadata": {},
   "outputs": [],
   "source": [
    "orders_df = pd.read_excel('../data/Muesli Project raw data - group 3.xlsx', header=1, sheet_name=0)\n",
    "campaign_data_df = pd.read_excel('../data/Muesli Project raw data - group 3.xlsx', sheet_name=1)\n",
    "order_process_data_df = pd.read_excel('../data/Muesli Project raw data - group 3.xlsx', sheet_name=2)\n",
    "interndata_study_df = pd.read_excel('../data/Muesli Project raw data - group 3.xlsx', sheet_name=3)"
   ]
  },
  {
   "cell_type": "markdown",
   "metadata": {},
   "source": [
    "Check the headers of the DataFrames"
   ]
  },
  {
   "cell_type": "code",
   "execution_count": 3,
   "metadata": {},
   "outputs": [
    {
     "name": "stdout",
     "output_type": "stream",
     "text": [
      "Index(['Index', 'Order ID', 'Order Date', 'Ship Mode', 'Customer ID',\n",
      "       'Customer Name', 'Origin Channel', 'Country/Region', 'City', 'State',\n",
      "       'Postal Code', 'Region', 'Category', 'Sub-Category', 'Product ID',\n",
      "       'Sales', 'Quantity', 'Discount', 'Profit'],\n",
      "      dtype='object')\n",
      "------------------------------\n",
      "Index(['Order ID', 'Arrival Scan Date', 'Customer Name'], dtype='object')\n",
      "------------------------------\n",
      "Index(['Row ID', 'Order ID', 'Order Date', 'On Truck Scan Date', 'Ship Mode'], dtype='object')\n",
      "------------------------------\n",
      "Index(['Order ID', 'Ready to Ship Date', 'Pickup Date'], dtype='object')\n",
      "------------------------------\n"
     ]
    }
   ],
   "source": [
    "dataframes = [orders_df,\n",
    "              campaign_data_df,\n",
    "              order_process_data_df,\n",
    "              interndata_study_df\n",
    "              ]\n",
    "\n",
    "for df in dataframes:\n",
    "    print(df.columns)\n",
    "    print('-' * 30)"
   ]
  },
  {
   "cell_type": "markdown",
   "metadata": {},
   "source": [
    "Change column names to lower case and snake case."
   ]
  },
  {
   "cell_type": "code",
   "execution_count": 4,
   "metadata": {},
   "outputs": [
    {
     "name": "stdout",
     "output_type": "stream",
     "text": [
      "Index(['index', 'order_id', 'order_date', 'ship_mode', 'customer_id',\n",
      "       'customer_name', 'origin_channel', 'country/region', 'city', 'state',\n",
      "       'postal_code', 'region', 'category', 'sub-category', 'product_id',\n",
      "       'sales', 'quantity', 'discount', 'profit'],\n",
      "      dtype='object')\n",
      "------------------------------\n",
      "Index(['order_id', 'arrival_scan_date', 'customer_name'], dtype='object')\n",
      "------------------------------\n",
      "Index(['row_id', 'order_id', 'order_date', 'on_truck_scan_date', 'ship_mode'], dtype='object')\n",
      "------------------------------\n",
      "Index(['order_id', 'ready_to_ship_date', 'pickup_date'], dtype='object')\n",
      "------------------------------\n"
     ]
    }
   ],
   "source": [
    "dataframes = [orders_df,\n",
    "              campaign_data_df,\n",
    "              order_process_data_df,\n",
    "              interndata_study_df\n",
    "              ]\n",
    "\n",
    "for df in dataframes:\n",
    "    df.columns = df.columns.str.lower()\n",
    "    df.columns = df.columns.str.replace(' ', '_')\n",
    "    print(df.columns)\n",
    "    print('-' * 30)"
   ]
  },
  {
   "cell_type": "markdown",
   "metadata": {},
   "source": [
    "Delete unneeded columns."
   ]
  },
  {
   "cell_type": "code",
   "execution_count": 5,
   "metadata": {},
   "outputs": [],
   "source": [
    "orders_df = orders_df.drop(\n",
    "                    ['index', 'origin_channel', 'category', 'sub-category'],\n",
    "                    axis=1)\n",
    "\n",
    "campaign_data_df = campaign_data_df.drop(\n",
    "                    ['customer_name'],\n",
    "                    axis=1)\n",
    "\n",
    "order_process_data_df = order_process_data_df.drop(\n",
    "                    ['row_id', 'order_date'],\n",
    "                    axis=1)"
   ]
  },
  {
   "cell_type": "code",
   "execution_count": 6,
   "metadata": {},
   "outputs": [
    {
     "name": "stdout",
     "output_type": "stream",
     "text": [
      "Index(['order_id', 'order_date', 'ship_mode', 'customer_id', 'customer_name',\n",
      "       'country/region', 'city', 'state', 'postal_code', 'region',\n",
      "       'product_id', 'sales', 'quantity', 'discount', 'profit'],\n",
      "      dtype='object')\n",
      "------------------------------\n",
      "Index(['order_id', 'arrival_scan_date'], dtype='object')\n",
      "------------------------------\n",
      "Index(['order_id', 'on_truck_scan_date', 'ship_mode'], dtype='object')\n",
      "------------------------------\n",
      "Index(['order_id', 'ready_to_ship_date', 'pickup_date'], dtype='object')\n",
      "------------------------------\n"
     ]
    }
   ],
   "source": [
    "dataframes = [orders_df,\n",
    "              campaign_data_df,\n",
    "              order_process_data_df,\n",
    "              interndata_study_df\n",
    "              ]\n",
    "\n",
    "for df in dataframes:\n",
    "    print(df.columns)\n",
    "    print('-' * 30)"
   ]
  },
  {
   "cell_type": "markdown",
   "metadata": {},
   "source": [
    "Check the number of rows and columns."
   ]
  },
  {
   "cell_type": "code",
   "execution_count": 7,
   "metadata": {},
   "outputs": [
    {
     "name": "stdout",
     "output_type": "stream",
     "text": [
      "(9994, 15)\n",
      "(333, 2)\n",
      "(5899, 3)\n",
      "(290, 3)\n"
     ]
    }
   ],
   "source": [
    "dataframes = [orders_df,\n",
    "              campaign_data_df,\n",
    "              order_process_data_df,\n",
    "              interndata_study_df\n",
    "              ]\n",
    "\n",
    "for df in dataframes:\n",
    "    print(df.shape)"
   ]
  },
  {
   "cell_type": "markdown",
   "metadata": {},
   "source": [
    "Check for duplicates."
   ]
  },
  {
   "cell_type": "code",
   "execution_count": 8,
   "metadata": {},
   "outputs": [
    {
     "name": "stdout",
     "output_type": "stream",
     "text": [
      "False    9993\n",
      "True        1\n",
      "Name: count, dtype: int64\n",
      "---\n",
      "(9994, 15)\n",
      "------------------------------\n",
      "False    333\n",
      "Name: count, dtype: int64\n",
      "---\n",
      "(333, 2)\n",
      "------------------------------\n",
      "False    3003\n",
      "True     2896\n",
      "Name: count, dtype: int64\n",
      "---\n",
      "(5899, 3)\n",
      "------------------------------\n",
      "False    204\n",
      "True      86\n",
      "Name: count, dtype: int64\n",
      "---\n",
      "(290, 3)\n",
      "------------------------------\n"
     ]
    }
   ],
   "source": [
    "dataframes = [orders_df,\n",
    "              campaign_data_df,\n",
    "              order_process_data_df,\n",
    "              interndata_study_df\n",
    "              ]\n",
    "\n",
    "for df in dataframes:\n",
    "    print(df.duplicated().value_counts())\n",
    "    print('---')\n",
    "    print(df.shape)\n",
    "    print('-' * 30)"
   ]
  },
  {
   "cell_type": "markdown",
   "metadata": {},
   "source": [
    "Drop the duplicates."
   ]
  },
  {
   "cell_type": "code",
   "execution_count": 9,
   "metadata": {},
   "outputs": [],
   "source": [
    "dataframes = [orders_df,\n",
    "              campaign_data_df,\n",
    "              order_process_data_df,\n",
    "              interndata_study_df\n",
    "              ]\n",
    "\n",
    "for df in dataframes:\n",
    "    df.drop_duplicates(inplace=True)"
   ]
  },
  {
   "cell_type": "markdown",
   "metadata": {},
   "source": [
    "Doublecheck, if duplicates are dropped.\n",
    "And print column-names to decide on which columns to merge."
   ]
  },
  {
   "cell_type": "code",
   "execution_count": 10,
   "metadata": {},
   "outputs": [
    {
     "name": "stdout",
     "output_type": "stream",
     "text": [
      "False    9993\n",
      "Name: count, dtype: int64\n",
      "---\n",
      "(9993, 15)\n",
      "---\n",
      "Index(['order_id', 'order_date', 'ship_mode', 'customer_id', 'customer_name',\n",
      "       'country/region', 'city', 'state', 'postal_code', 'region',\n",
      "       'product_id', 'sales', 'quantity', 'discount', 'profit'],\n",
      "      dtype='object')\n",
      "------------------------------\n",
      "False    333\n",
      "Name: count, dtype: int64\n",
      "---\n",
      "(333, 2)\n",
      "---\n",
      "Index(['order_id', 'arrival_scan_date'], dtype='object')\n",
      "------------------------------\n",
      "False    3003\n",
      "Name: count, dtype: int64\n",
      "---\n",
      "(3003, 3)\n",
      "---\n",
      "Index(['order_id', 'on_truck_scan_date', 'ship_mode'], dtype='object')\n",
      "------------------------------\n",
      "False    204\n",
      "Name: count, dtype: int64\n",
      "---\n",
      "(204, 3)\n",
      "---\n",
      "Index(['order_id', 'ready_to_ship_date', 'pickup_date'], dtype='object')\n",
      "------------------------------\n"
     ]
    }
   ],
   "source": [
    "dataframes = [orders_df,\n",
    "              campaign_data_df,\n",
    "              order_process_data_df,\n",
    "              interndata_study_df\n",
    "              ]\n",
    "\n",
    "for df in dataframes:\n",
    "    print(df.duplicated().value_counts())\n",
    "    print('---')\n",
    "    print(df.shape)\n",
    "    print('---')\n",
    "    print(df.columns)\n",
    "    print('-' * 30)"
   ]
  },
  {
   "cell_type": "markdown",
   "metadata": {},
   "source": [
    "---\n",
    "---"
   ]
  },
  {
   "cell_type": "markdown",
   "metadata": {},
   "source": [
    "We have to calculate and validate the company assumptions:\n",
    "1. **Preparation**: Preparation process duration from order recieve to shipping (2 days): \"Order Date\" - \"Ready to Ship Day\": merge 'orders_df' and 'interndata_study_df'\n",
    "2. **Ready to Ship to on Truck**: Duration of process from \"Ready to Ship\" to \"on Truck\" (1 day for normal, 0 days for express): merge 'order_process_data_df' and 'interndata_study_df'\n",
    "3. **Ready to Ship to on Truck Express**: Efficacy of \"Express Processing\"; the order ought to be on the truck on the ready to ship day\n",
    "4. **Order Delivery**: From \"On Truck Scan\" to \"Arrival Scan Date\": merge campaign_data_df and order_process_data_df\n",
    "5. **Order Delivery 2**: From \"Pickup Date\" to \"Arrival Scan Date\": merge campaign_data_df and interndata_study_df\n",
    "6. **Order Delivery total**: Get an image of the whole delivery process duration, from 'Order Date' to 'Arrival Scan Date': merge orders_df and order_process_data_df"
   ]
  },
  {
   "cell_type": "markdown",
   "metadata": {},
   "source": [
    "---"
   ]
  },
  {
   "cell_type": "markdown",
   "metadata": {},
   "source": [
    "### 1. **Preparation**: Preparation process duration from order recieve to shipping (2 days): \"Order Date\" - \"Ready to Ship Day\":\n",
    "merge 'orders_df' and 'interndata_study_df'"
   ]
  },
  {
   "cell_type": "code",
   "execution_count": 11,
   "metadata": {},
   "outputs": [],
   "source": [
    "preparation_df = pd.merge(orders_df, interndata_study_df,\n",
    "                          on = 'order_id',\n",
    "                          how = 'inner')"
   ]
  },
  {
   "cell_type": "code",
   "execution_count": 12,
   "metadata": {},
   "outputs": [
    {
     "data": {
      "text/plain": [
       "Index(['order_id', 'order_date', 'ship_mode', 'customer_id', 'customer_name',\n",
       "       'country/region', 'city', 'state', 'postal_code', 'region',\n",
       "       'product_id', 'sales', 'quantity', 'discount', 'profit',\n",
       "       'ready_to_ship_date', 'pickup_date'],\n",
       "      dtype='object')"
      ]
     },
     "execution_count": 12,
     "metadata": {},
     "output_type": "execute_result"
    }
   ],
   "source": [
    "preparation_df.columns"
   ]
  },
  {
   "cell_type": "markdown",
   "metadata": {},
   "source": [
    "Delete unneeded columns."
   ]
  },
  {
   "cell_type": "code",
   "execution_count": 13,
   "metadata": {},
   "outputs": [],
   "source": [
    "preparation_df = preparation_df.drop(['ship_mode',\n",
    "                                      'country/region',\n",
    "                                      'city',\n",
    "                                      'state',\n",
    "                                      'postal_code',\n",
    "                                      'region',\n",
    "                                      'product_id',\n",
    "                                      'sales',\n",
    "                                      'quantity',\n",
    "                                      'discount',\n",
    "                                      'profit'], axis=1)"
   ]
  },
  {
   "cell_type": "code",
   "execution_count": 14,
   "metadata": {},
   "outputs": [
    {
     "data": {
      "text/html": [
       "<div>\n",
       "<style scoped>\n",
       "    .dataframe tbody tr th:only-of-type {\n",
       "        vertical-align: middle;\n",
       "    }\n",
       "\n",
       "    .dataframe tbody tr th {\n",
       "        vertical-align: top;\n",
       "    }\n",
       "\n",
       "    .dataframe thead th {\n",
       "        text-align: right;\n",
       "    }\n",
       "</style>\n",
       "<table border=\"1\" class=\"dataframe\">\n",
       "  <thead>\n",
       "    <tr style=\"text-align: right;\">\n",
       "      <th></th>\n",
       "      <th>order_id</th>\n",
       "      <th>order_date</th>\n",
       "      <th>customer_id</th>\n",
       "      <th>customer_name</th>\n",
       "      <th>ready_to_ship_date</th>\n",
       "      <th>pickup_date</th>\n",
       "    </tr>\n",
       "  </thead>\n",
       "  <tbody>\n",
       "    <tr>\n",
       "      <th>265</th>\n",
       "      <td>CA-2020-105130</td>\n",
       "      <td>2020-11-21</td>\n",
       "      <td>PJ-18835</td>\n",
       "      <td>Patrick Jones</td>\n",
       "      <td>2020-11-27</td>\n",
       "      <td>2020-11-30</td>\n",
       "    </tr>\n",
       "    <tr>\n",
       "      <th>128</th>\n",
       "      <td>CA-2020-156622</td>\n",
       "      <td>2020-11-23</td>\n",
       "      <td>JP-15460</td>\n",
       "      <td>Jennifer Patt</td>\n",
       "      <td>2020-11-26</td>\n",
       "      <td>2020-11-27</td>\n",
       "    </tr>\n",
       "    <tr>\n",
       "      <th>405</th>\n",
       "      <td>CA-2020-122490</td>\n",
       "      <td>2020-11-13</td>\n",
       "      <td>TT-21070</td>\n",
       "      <td>Ted Trevino</td>\n",
       "      <td>2020-11-18</td>\n",
       "      <td>2020-11-20</td>\n",
       "    </tr>\n",
       "    <tr>\n",
       "      <th>214</th>\n",
       "      <td>CA-2020-105333</td>\n",
       "      <td>2020-11-30</td>\n",
       "      <td>VP-21730</td>\n",
       "      <td>Victor Preis</td>\n",
       "      <td>2020-12-04</td>\n",
       "      <td>2020-12-07</td>\n",
       "    </tr>\n",
       "    <tr>\n",
       "      <th>153</th>\n",
       "      <td>CA-2019-123932</td>\n",
       "      <td>2019-09-06</td>\n",
       "      <td>YC-21895</td>\n",
       "      <td>Yoseph Carroll</td>\n",
       "      <td>2019-09-12</td>\n",
       "      <td>2019-09-13</td>\n",
       "    </tr>\n",
       "    <tr>\n",
       "      <th>195</th>\n",
       "      <td>CA-2019-155187</td>\n",
       "      <td>2019-09-24</td>\n",
       "      <td>LA-16780</td>\n",
       "      <td>Laura Armstrong</td>\n",
       "      <td>2019-09-26</td>\n",
       "      <td>2019-09-27</td>\n",
       "    </tr>\n",
       "    <tr>\n",
       "      <th>225</th>\n",
       "      <td>CA-2020-121160</td>\n",
       "      <td>2020-11-04</td>\n",
       "      <td>FM-14290</td>\n",
       "      <td>Frank Merwin</td>\n",
       "      <td>2020-11-04</td>\n",
       "      <td>2020-11-04</td>\n",
       "    </tr>\n",
       "    <tr>\n",
       "      <th>316</th>\n",
       "      <td>CA-2020-103352</td>\n",
       "      <td>2020-11-27</td>\n",
       "      <td>RP-19390</td>\n",
       "      <td>Resi Pölking</td>\n",
       "      <td>2020-11-30</td>\n",
       "      <td>2020-12-02</td>\n",
       "    </tr>\n",
       "    <tr>\n",
       "      <th>96</th>\n",
       "      <td>CA-2020-125290</td>\n",
       "      <td>2020-11-06</td>\n",
       "      <td>CC-12430</td>\n",
       "      <td>Chuck Clark</td>\n",
       "      <td>2020-11-10</td>\n",
       "      <td>2020-11-12</td>\n",
       "    </tr>\n",
       "    <tr>\n",
       "      <th>179</th>\n",
       "      <td>CA-2020-143567</td>\n",
       "      <td>2020-11-02</td>\n",
       "      <td>TB-21175</td>\n",
       "      <td>Thomas Boland</td>\n",
       "      <td>2020-11-05</td>\n",
       "      <td>2020-11-06</td>\n",
       "    </tr>\n",
       "  </tbody>\n",
       "</table>\n",
       "</div>"
      ],
      "text/plain": [
       "           order_id order_date customer_id    customer_name  \\\n",
       "265  CA-2020-105130 2020-11-21    PJ-18835    Patrick Jones   \n",
       "128  CA-2020-156622 2020-11-23    JP-15460    Jennifer Patt   \n",
       "405  CA-2020-122490 2020-11-13    TT-21070      Ted Trevino   \n",
       "214  CA-2020-105333 2020-11-30    VP-21730     Victor Preis   \n",
       "153  CA-2019-123932 2019-09-06    YC-21895   Yoseph Carroll   \n",
       "195  CA-2019-155187 2019-09-24    LA-16780  Laura Armstrong   \n",
       "225  CA-2020-121160 2020-11-04    FM-14290     Frank Merwin   \n",
       "316  CA-2020-103352 2020-11-27    RP-19390     Resi Pölking   \n",
       "96   CA-2020-125290 2020-11-06    CC-12430      Chuck Clark   \n",
       "179  CA-2020-143567 2020-11-02    TB-21175    Thomas Boland   \n",
       "\n",
       "    ready_to_ship_date pickup_date  \n",
       "265         2020-11-27  2020-11-30  \n",
       "128         2020-11-26  2020-11-27  \n",
       "405         2020-11-18  2020-11-20  \n",
       "214         2020-12-04  2020-12-07  \n",
       "153         2019-09-12  2019-09-13  \n",
       "195         2019-09-26  2019-09-27  \n",
       "225         2020-11-04  2020-11-04  \n",
       "316         2020-11-30  2020-12-02  \n",
       "96          2020-11-10  2020-11-12  \n",
       "179         2020-11-05  2020-11-06  "
      ]
     },
     "execution_count": 14,
     "metadata": {},
     "output_type": "execute_result"
    }
   ],
   "source": [
    "preparation_df.sample(10)"
   ]
  },
  {
   "cell_type": "markdown",
   "metadata": {},
   "source": [
    "Extract the weekday from the date column."
   ]
  },
  {
   "cell_type": "code",
   "execution_count": 15,
   "metadata": {},
   "outputs": [
    {
     "data": {
      "text/html": [
       "<div>\n",
       "<style scoped>\n",
       "    .dataframe tbody tr th:only-of-type {\n",
       "        vertical-align: middle;\n",
       "    }\n",
       "\n",
       "    .dataframe tbody tr th {\n",
       "        vertical-align: top;\n",
       "    }\n",
       "\n",
       "    .dataframe thead th {\n",
       "        text-align: right;\n",
       "    }\n",
       "</style>\n",
       "<table border=\"1\" class=\"dataframe\">\n",
       "  <thead>\n",
       "    <tr style=\"text-align: right;\">\n",
       "      <th></th>\n",
       "      <th>order_id</th>\n",
       "      <th>order_date</th>\n",
       "      <th>customer_id</th>\n",
       "      <th>customer_name</th>\n",
       "      <th>ready_to_ship_date</th>\n",
       "      <th>pickup_date</th>\n",
       "      <th>weekday</th>\n",
       "    </tr>\n",
       "  </thead>\n",
       "  <tbody>\n",
       "    <tr>\n",
       "      <th>209</th>\n",
       "      <td>CA-2020-122490</td>\n",
       "      <td>2020-11-13</td>\n",
       "      <td>TT-21070</td>\n",
       "      <td>Ted Trevino</td>\n",
       "      <td>2020-11-18</td>\n",
       "      <td>2020-11-20</td>\n",
       "      <td>Friday</td>\n",
       "    </tr>\n",
       "    <tr>\n",
       "      <th>264</th>\n",
       "      <td>CA-2019-150007</td>\n",
       "      <td>2019-09-11</td>\n",
       "      <td>AS-10090</td>\n",
       "      <td>Adam Shillingsburg</td>\n",
       "      <td>2019-09-16</td>\n",
       "      <td>2019-09-18</td>\n",
       "      <td>Wednesday</td>\n",
       "    </tr>\n",
       "    <tr>\n",
       "      <th>301</th>\n",
       "      <td>CA-2019-100244</td>\n",
       "      <td>2019-09-20</td>\n",
       "      <td>GM-14695</td>\n",
       "      <td>Greg Maxwell</td>\n",
       "      <td>2019-09-24</td>\n",
       "      <td>2019-09-25</td>\n",
       "      <td>Friday</td>\n",
       "    </tr>\n",
       "    <tr>\n",
       "      <th>45</th>\n",
       "      <td>CA-2020-103380</td>\n",
       "      <td>2020-11-21</td>\n",
       "      <td>BF-11005</td>\n",
       "      <td>Barry Franz</td>\n",
       "      <td>2020-11-27</td>\n",
       "      <td>2020-11-30</td>\n",
       "      <td>Saturday</td>\n",
       "    </tr>\n",
       "    <tr>\n",
       "      <th>102</th>\n",
       "      <td>CA-2020-111556</td>\n",
       "      <td>2020-11-20</td>\n",
       "      <td>CD-11920</td>\n",
       "      <td>Carlos Daly</td>\n",
       "      <td>2020-11-23</td>\n",
       "      <td>2020-11-23</td>\n",
       "      <td>Friday</td>\n",
       "    </tr>\n",
       "    <tr>\n",
       "      <th>58</th>\n",
       "      <td>CA-2019-149783</td>\n",
       "      <td>2019-09-04</td>\n",
       "      <td>DL-13315</td>\n",
       "      <td>Delfina Latchford</td>\n",
       "      <td>2019-09-09</td>\n",
       "      <td>2019-09-11</td>\n",
       "      <td>Wednesday</td>\n",
       "    </tr>\n",
       "    <tr>\n",
       "      <th>254</th>\n",
       "      <td>CA-2020-122490</td>\n",
       "      <td>2020-11-13</td>\n",
       "      <td>TT-21070</td>\n",
       "      <td>Ted Trevino</td>\n",
       "      <td>2020-11-18</td>\n",
       "      <td>2020-11-20</td>\n",
       "      <td>Friday</td>\n",
       "    </tr>\n",
       "    <tr>\n",
       "      <th>44</th>\n",
       "      <td>US-2020-132444</td>\n",
       "      <td>2020-11-18</td>\n",
       "      <td>CD-12280</td>\n",
       "      <td>Christina DeMoss</td>\n",
       "      <td>2020-11-23</td>\n",
       "      <td>2020-11-23</td>\n",
       "      <td>Wednesday</td>\n",
       "    </tr>\n",
       "    <tr>\n",
       "      <th>252</th>\n",
       "      <td>US-2019-114888</td>\n",
       "      <td>2019-09-19</td>\n",
       "      <td>CC-12430</td>\n",
       "      <td>Chuck Clark</td>\n",
       "      <td>2019-09-24</td>\n",
       "      <td>2019-09-25</td>\n",
       "      <td>Thursday</td>\n",
       "    </tr>\n",
       "    <tr>\n",
       "      <th>369</th>\n",
       "      <td>CA-2020-108112</td>\n",
       "      <td>2020-11-15</td>\n",
       "      <td>DK-12895</td>\n",
       "      <td>Dana Kaydos</td>\n",
       "      <td>2020-11-23</td>\n",
       "      <td>2020-11-25</td>\n",
       "      <td>Sunday</td>\n",
       "    </tr>\n",
       "  </tbody>\n",
       "</table>\n",
       "</div>"
      ],
      "text/plain": [
       "           order_id order_date customer_id       customer_name  \\\n",
       "209  CA-2020-122490 2020-11-13    TT-21070         Ted Trevino   \n",
       "264  CA-2019-150007 2019-09-11    AS-10090  Adam Shillingsburg   \n",
       "301  CA-2019-100244 2019-09-20    GM-14695        Greg Maxwell   \n",
       "45   CA-2020-103380 2020-11-21    BF-11005         Barry Franz   \n",
       "102  CA-2020-111556 2020-11-20    CD-11920         Carlos Daly   \n",
       "58   CA-2019-149783 2019-09-04    DL-13315   Delfina Latchford   \n",
       "254  CA-2020-122490 2020-11-13    TT-21070         Ted Trevino   \n",
       "44   US-2020-132444 2020-11-18    CD-12280    Christina DeMoss   \n",
       "252  US-2019-114888 2019-09-19    CC-12430         Chuck Clark   \n",
       "369  CA-2020-108112 2020-11-15    DK-12895         Dana Kaydos   \n",
       "\n",
       "    ready_to_ship_date pickup_date    weekday  \n",
       "209         2020-11-18  2020-11-20     Friday  \n",
       "264         2019-09-16  2019-09-18  Wednesday  \n",
       "301         2019-09-24  2019-09-25     Friday  \n",
       "45          2020-11-27  2020-11-30   Saturday  \n",
       "102         2020-11-23  2020-11-23     Friday  \n",
       "58          2019-09-09  2019-09-11  Wednesday  \n",
       "254         2020-11-18  2020-11-20     Friday  \n",
       "44          2020-11-23  2020-11-23  Wednesday  \n",
       "252         2019-09-24  2019-09-25   Thursday  \n",
       "369         2020-11-23  2020-11-25     Sunday  "
      ]
     },
     "execution_count": 15,
     "metadata": {},
     "output_type": "execute_result"
    }
   ],
   "source": [
    "preparation_df['weekday'] = preparation_df['order_date'].dt.day_name()\n",
    "\n",
    "preparation_df.sample(10)"
   ]
  },
  {
   "cell_type": "markdown",
   "metadata": {},
   "source": [
    "Convert the date columns to datetime format."
   ]
  },
  {
   "cell_type": "code",
   "execution_count": 16,
   "metadata": {},
   "outputs": [
    {
     "name": "stdout",
     "output_type": "stream",
     "text": [
      "<class 'pandas.core.frame.DataFrame'>\n",
      "RangeIndex: 418 entries, 0 to 417\n",
      "Data columns (total 7 columns):\n",
      " #   Column              Non-Null Count  Dtype         \n",
      "---  ------              --------------  -----         \n",
      " 0   order_id            418 non-null    object        \n",
      " 1   order_date          418 non-null    datetime64[ns]\n",
      " 2   customer_id         418 non-null    object        \n",
      " 3   customer_name       418 non-null    object        \n",
      " 4   ready_to_ship_date  418 non-null    datetime64[ns]\n",
      " 5   pickup_date         418 non-null    datetime64[ns]\n",
      " 6   weekday             418 non-null    object        \n",
      "dtypes: datetime64[ns](3), object(4)\n",
      "memory usage: 23.0+ KB\n"
     ]
    }
   ],
   "source": [
    "preparation_df['order_date'] = pd.to_datetime(preparation_df['order_date'])\n",
    "preparation_df['ready_to_ship_date'] = pd.to_datetime(preparation_df['ready_to_ship_date'])\n",
    "preparation_df['pickup_date'] = pd.to_datetime(preparation_df['pickup_date'])\n",
    "\n",
    "preparation_df.info()"
   ]
  },
  {
   "cell_type": "markdown",
   "metadata": {},
   "source": [
    "Check the type of data in the columns."
   ]
  },
  {
   "cell_type": "code",
   "execution_count": 17,
   "metadata": {},
   "outputs": [
    {
     "data": {
      "text/plain": [
       "order_id                      object\n",
       "order_date            datetime64[ns]\n",
       "customer_id                   object\n",
       "customer_name                 object\n",
       "ready_to_ship_date    datetime64[ns]\n",
       "pickup_date           datetime64[ns]\n",
       "weekday                       object\n",
       "dtype: object"
      ]
     },
     "execution_count": 17,
     "metadata": {},
     "output_type": "execute_result"
    }
   ],
   "source": [
    "preparation_df.dtypes"
   ]
  },
  {
   "cell_type": "markdown",
   "metadata": {},
   "source": [
    "Calculate the preparation duration for each order and print it in a new column."
   ]
  },
  {
   "cell_type": "code",
   "execution_count": 18,
   "metadata": {},
   "outputs": [
    {
     "data": {
      "text/html": [
       "<div>\n",
       "<style scoped>\n",
       "    .dataframe tbody tr th:only-of-type {\n",
       "        vertical-align: middle;\n",
       "    }\n",
       "\n",
       "    .dataframe tbody tr th {\n",
       "        vertical-align: top;\n",
       "    }\n",
       "\n",
       "    .dataframe thead th {\n",
       "        text-align: right;\n",
       "    }\n",
       "</style>\n",
       "<table border=\"1\" class=\"dataframe\">\n",
       "  <thead>\n",
       "    <tr style=\"text-align: right;\">\n",
       "      <th></th>\n",
       "      <th>order_id</th>\n",
       "      <th>order_date</th>\n",
       "      <th>customer_id</th>\n",
       "      <th>customer_name</th>\n",
       "      <th>ready_to_ship_date</th>\n",
       "      <th>pickup_date</th>\n",
       "      <th>weekday</th>\n",
       "      <th>preparation_duration</th>\n",
       "    </tr>\n",
       "  </thead>\n",
       "  <tbody>\n",
       "    <tr>\n",
       "      <th>125</th>\n",
       "      <td>CA-2020-104136</td>\n",
       "      <td>2020-11-01</td>\n",
       "      <td>SF-20065</td>\n",
       "      <td>Sandra Flanagan</td>\n",
       "      <td>2020-11-05</td>\n",
       "      <td>2020-11-06</td>\n",
       "      <td>Sunday</td>\n",
       "      <td>4</td>\n",
       "    </tr>\n",
       "    <tr>\n",
       "      <th>38</th>\n",
       "      <td>US-2020-155425</td>\n",
       "      <td>2020-11-10</td>\n",
       "      <td>AB-10600</td>\n",
       "      <td>Ann Blume</td>\n",
       "      <td>2020-11-11</td>\n",
       "      <td>2020-11-12</td>\n",
       "      <td>Tuesday</td>\n",
       "      <td>1</td>\n",
       "    </tr>\n",
       "    <tr>\n",
       "      <th>197</th>\n",
       "      <td>CA-2019-163986</td>\n",
       "      <td>2019-09-03</td>\n",
       "      <td>JJ-15445</td>\n",
       "      <td>Jennifer Jackson</td>\n",
       "      <td>2019-09-10</td>\n",
       "      <td>2019-09-11</td>\n",
       "      <td>Tuesday</td>\n",
       "      <td>7</td>\n",
       "    </tr>\n",
       "    <tr>\n",
       "      <th>123</th>\n",
       "      <td>US-2020-155866</td>\n",
       "      <td>2020-11-17</td>\n",
       "      <td>CC-12370</td>\n",
       "      <td>Christopher Conant</td>\n",
       "      <td>2020-11-23</td>\n",
       "      <td>2020-11-25</td>\n",
       "      <td>Tuesday</td>\n",
       "      <td>6</td>\n",
       "    </tr>\n",
       "    <tr>\n",
       "      <th>50</th>\n",
       "      <td>US-2020-168116</td>\n",
       "      <td>2020-11-04</td>\n",
       "      <td>GT-14635</td>\n",
       "      <td>Grant Thornton</td>\n",
       "      <td>2020-11-04</td>\n",
       "      <td>2020-11-04</td>\n",
       "      <td>Wednesday</td>\n",
       "      <td>0</td>\n",
       "    </tr>\n",
       "    <tr>\n",
       "      <th>210</th>\n",
       "      <td>CA-2020-143567</td>\n",
       "      <td>2020-11-02</td>\n",
       "      <td>TB-21175</td>\n",
       "      <td>Thomas Boland</td>\n",
       "      <td>2020-11-05</td>\n",
       "      <td>2020-11-06</td>\n",
       "      <td>Monday</td>\n",
       "      <td>3</td>\n",
       "    </tr>\n",
       "    <tr>\n",
       "      <th>258</th>\n",
       "      <td>CA-2019-123120</td>\n",
       "      <td>2019-09-04</td>\n",
       "      <td>CV-12295</td>\n",
       "      <td>Christina VanderZanden</td>\n",
       "      <td>2019-09-09</td>\n",
       "      <td>2019-09-11</td>\n",
       "      <td>Wednesday</td>\n",
       "      <td>5</td>\n",
       "    </tr>\n",
       "    <tr>\n",
       "      <th>227</th>\n",
       "      <td>US-2020-122672</td>\n",
       "      <td>2020-11-04</td>\n",
       "      <td>HG-14965</td>\n",
       "      <td>Henry Goldwyn</td>\n",
       "      <td>2020-11-09</td>\n",
       "      <td>2020-11-12</td>\n",
       "      <td>Wednesday</td>\n",
       "      <td>5</td>\n",
       "    </tr>\n",
       "    <tr>\n",
       "      <th>25</th>\n",
       "      <td>US-2020-102904</td>\n",
       "      <td>2020-11-13</td>\n",
       "      <td>CB-12025</td>\n",
       "      <td>Cassandra Brandow</td>\n",
       "      <td>2020-11-20</td>\n",
       "      <td>2020-11-23</td>\n",
       "      <td>Friday</td>\n",
       "      <td>7</td>\n",
       "    </tr>\n",
       "    <tr>\n",
       "      <th>2</th>\n",
       "      <td>CA-2020-135307</td>\n",
       "      <td>2020-11-26</td>\n",
       "      <td>LS-17245</td>\n",
       "      <td>Lynn Smith</td>\n",
       "      <td>2020-11-27</td>\n",
       "      <td>2020-11-27</td>\n",
       "      <td>Thursday</td>\n",
       "      <td>1</td>\n",
       "    </tr>\n",
       "  </tbody>\n",
       "</table>\n",
       "</div>"
      ],
      "text/plain": [
       "           order_id order_date customer_id           customer_name  \\\n",
       "125  CA-2020-104136 2020-11-01    SF-20065         Sandra Flanagan   \n",
       "38   US-2020-155425 2020-11-10    AB-10600               Ann Blume   \n",
       "197  CA-2019-163986 2019-09-03    JJ-15445        Jennifer Jackson   \n",
       "123  US-2020-155866 2020-11-17    CC-12370      Christopher Conant   \n",
       "50   US-2020-168116 2020-11-04    GT-14635          Grant Thornton   \n",
       "210  CA-2020-143567 2020-11-02    TB-21175           Thomas Boland   \n",
       "258  CA-2019-123120 2019-09-04    CV-12295  Christina VanderZanden   \n",
       "227  US-2020-122672 2020-11-04    HG-14965           Henry Goldwyn   \n",
       "25   US-2020-102904 2020-11-13    CB-12025       Cassandra Brandow   \n",
       "2    CA-2020-135307 2020-11-26    LS-17245              Lynn Smith   \n",
       "\n",
       "    ready_to_ship_date pickup_date    weekday  preparation_duration  \n",
       "125         2020-11-05  2020-11-06     Sunday                     4  \n",
       "38          2020-11-11  2020-11-12    Tuesday                     1  \n",
       "197         2019-09-10  2019-09-11    Tuesday                     7  \n",
       "123         2020-11-23  2020-11-25    Tuesday                     6  \n",
       "50          2020-11-04  2020-11-04  Wednesday                     0  \n",
       "210         2020-11-05  2020-11-06     Monday                     3  \n",
       "258         2019-09-09  2019-09-11  Wednesday                     5  \n",
       "227         2020-11-09  2020-11-12  Wednesday                     5  \n",
       "25          2020-11-20  2020-11-23     Friday                     7  \n",
       "2           2020-11-27  2020-11-27   Thursday                     1  "
      ]
     },
     "execution_count": 18,
     "metadata": {},
     "output_type": "execute_result"
    }
   ],
   "source": [
    "preparation_df['preparation_duration'] = (preparation_df['ready_to_ship_date']\n",
    "                                            - preparation_df['order_date']\n",
    "                                            ).dt.days\n",
    "\n",
    "preparation_df.sample(10)"
   ]
  },
  {
   "cell_type": "code",
   "execution_count": 19,
   "metadata": {},
   "outputs": [
    {
     "data": {
      "text/plain": [
       "array([7, 6, 1, 3, 5, 2, 0, 4, 8])"
      ]
     },
     "execution_count": 19,
     "metadata": {},
     "output_type": "execute_result"
    }
   ],
   "source": [
    "preparation_df['preparation_duration'].unique()"
   ]
  },
  {
   "cell_type": "markdown",
   "metadata": {},
   "source": [
    "Setting up seaborn and plotting the data as boxplots."
   ]
  },
  {
   "cell_type": "code",
   "execution_count": 20,
   "metadata": {},
   "outputs": [
    {
     "data": {
      "image/png": "[encoded data removed]",
      "text/plain": [
       "<Figure size 1000x600 with 1 Axes>"
      ]
     },
     "metadata": {},
     "output_type": "display_data"
    }
   ],
   "source": [
    "sns.set_style('whitegrid')\n",
    "custom_order = ['Monday', 'Tuesday', 'Wednesday', 'Thursday', 'Friday', 'Saturday', 'Sunday']\n",
    "\n",
    "plt.figure(figsize=(10, 6))\n",
    "sns.boxplot(x = 'weekday',\n",
    "            y = 'preparation_duration',\n",
    "            data = preparation_df,\n",
    "            order = custom_order,\n",
    "            color = 'skyblue',\n",
    "            medianprops = dict(color = 'red'))\n",
    "plt.title('Distribition of Preparation Duration by Order Day')\n",
    "plt.xlabel('Order Day of Week')\n",
    "plt.ylabel('Preparation Duration (Days)')\n",
    "#plt.xticks(rotation = 45)\n",
    "plt.tight_layout()\n",
    "plt.show()"
   ]
  },
  {
   "cell_type": "markdown",
   "metadata": {},
   "source": [
    "Calculate the mean Preparation Duration."
   ]
  },
  {
   "cell_type": "code",
   "execution_count": 21,
   "metadata": {},
   "outputs": [
    {
     "data": {
      "text/plain": [
       "4.157894736842105"
      ]
     },
     "execution_count": 21,
     "metadata": {},
     "output_type": "execute_result"
    }
   ],
   "source": [
    "mean_preparation_days = preparation_df['preparation_duration'].mean()\n",
    "\n",
    "mean_preparation_days"
   ]
  },
  {
   "cell_type": "markdown",
   "metadata": {},
   "source": [
    "**=> 4 days and ca. 4 hours**  \n",
    "That's way more than the claimed 2 days preparation duration!"
   ]
  },
  {
   "cell_type": "markdown",
   "metadata": {},
   "source": [
    "---"
   ]
  },
  {
   "cell_type": "markdown",
   "metadata": {},
   "source": [
    "### 2. **Ready to Ship to on Truck**: Duration of process from \"Ready to Ship\" to \"on Truck\" (1 day for normal, 0 days for express):\n",
    "merge 'order_process_data_df' and 'interndata_study_df'"
   ]
  },
  {
   "cell_type": "code",
   "execution_count": 22,
   "metadata": {},
   "outputs": [],
   "source": [
    "readytoship_truck_df = pd.merge(order_process_data_df, interndata_study_df,\n",
    "                                on = 'order_id',\n",
    "                                how = 'inner')"
   ]
  },
  {
   "cell_type": "code",
   "execution_count": 23,
   "metadata": {},
   "outputs": [
    {
     "data": {
      "text/plain": [
       "Index(['order_id', 'on_truck_scan_date', 'ship_mode', 'ready_to_ship_date',\n",
       "       'pickup_date'],\n",
       "      dtype='object')"
      ]
     },
     "execution_count": 23,
     "metadata": {},
     "output_type": "execute_result"
    }
   ],
   "source": [
    "readytoship_truck_df.columns"
   ]
  },
  {
   "cell_type": "markdown",
   "metadata": {},
   "source": [
    "No columns to delete."
   ]
  },
  {
   "cell_type": "code",
   "execution_count": 24,
   "metadata": {},
   "outputs": [
    {
     "data": {
      "text/html": [
       "<div>\n",
       "<style scoped>\n",
       "    .dataframe tbody tr th:only-of-type {\n",
       "        vertical-align: middle;\n",
       "    }\n",
       "\n",
       "    .dataframe tbody tr th {\n",
       "        vertical-align: top;\n",
       "    }\n",
       "\n",
       "    .dataframe thead th {\n",
       "        text-align: right;\n",
       "    }\n",
       "</style>\n",
       "<table border=\"1\" class=\"dataframe\">\n",
       "  <thead>\n",
       "    <tr style=\"text-align: right;\">\n",
       "      <th></th>\n",
       "      <th>order_id</th>\n",
       "      <th>on_truck_scan_date</th>\n",
       "      <th>ship_mode</th>\n",
       "      <th>ready_to_ship_date</th>\n",
       "      <th>pickup_date</th>\n",
       "    </tr>\n",
       "  </thead>\n",
       "  <tbody>\n",
       "    <tr>\n",
       "      <th>129</th>\n",
       "      <td>CA-2020-164364</td>\n",
       "      <td>2020-11-18</td>\n",
       "      <td>Standard Processing</td>\n",
       "      <td>2020-11-16</td>\n",
       "      <td>2020-11-18</td>\n",
       "    </tr>\n",
       "    <tr>\n",
       "      <th>66</th>\n",
       "      <td>US-2020-145597</td>\n",
       "      <td>2020-11-06</td>\n",
       "      <td>Express</td>\n",
       "      <td>2020-11-05</td>\n",
       "      <td>2020-11-06</td>\n",
       "    </tr>\n",
       "    <tr>\n",
       "      <th>9</th>\n",
       "      <td>CA-2019-106950</td>\n",
       "      <td>2019-09-09</td>\n",
       "      <td>Standard Processing</td>\n",
       "      <td>2019-09-06</td>\n",
       "      <td>2019-09-09</td>\n",
       "    </tr>\n",
       "    <tr>\n",
       "      <th>122</th>\n",
       "      <td>US-2020-141852</td>\n",
       "      <td>2020-11-18</td>\n",
       "      <td>Standard Processing</td>\n",
       "      <td>2020-11-16</td>\n",
       "      <td>2020-11-18</td>\n",
       "    </tr>\n",
       "    <tr>\n",
       "      <th>34</th>\n",
       "      <td>CA-2019-112277</td>\n",
       "      <td>2019-09-18</td>\n",
       "      <td>Standard Processing</td>\n",
       "      <td>2019-09-16</td>\n",
       "      <td>2019-09-18</td>\n",
       "    </tr>\n",
       "    <tr>\n",
       "      <th>82</th>\n",
       "      <td>CA-2020-114258</td>\n",
       "      <td>2020-11-12</td>\n",
       "      <td>Standard Processing</td>\n",
       "      <td>2020-11-10</td>\n",
       "      <td>2020-11-12</td>\n",
       "    </tr>\n",
       "    <tr>\n",
       "      <th>63</th>\n",
       "      <td>CA-2019-106243</td>\n",
       "      <td>2019-10-07</td>\n",
       "      <td>Standard Processing</td>\n",
       "      <td>2019-10-04</td>\n",
       "      <td>2019-10-07</td>\n",
       "    </tr>\n",
       "    <tr>\n",
       "      <th>141</th>\n",
       "      <td>CA-2020-113873</td>\n",
       "      <td>2020-11-20</td>\n",
       "      <td>Standard Processing</td>\n",
       "      <td>2020-11-19</td>\n",
       "      <td>2020-11-20</td>\n",
       "    </tr>\n",
       "    <tr>\n",
       "      <th>164</th>\n",
       "      <td>CA-2020-160122</td>\n",
       "      <td>2020-11-25</td>\n",
       "      <td>Standard Processing</td>\n",
       "      <td>2020-11-23</td>\n",
       "      <td>2020-11-25</td>\n",
       "    </tr>\n",
       "    <tr>\n",
       "      <th>7</th>\n",
       "      <td>CA-2019-145240</td>\n",
       "      <td>2019-09-09</td>\n",
       "      <td>Express</td>\n",
       "      <td>2019-09-09</td>\n",
       "      <td>2019-09-09</td>\n",
       "    </tr>\n",
       "  </tbody>\n",
       "</table>\n",
       "</div>"
      ],
      "text/plain": [
       "           order_id on_truck_scan_date            ship_mode  \\\n",
       "129  CA-2020-164364         2020-11-18  Standard Processing   \n",
       "66   US-2020-145597         2020-11-06              Express   \n",
       "9    CA-2019-106950         2019-09-09  Standard Processing   \n",
       "122  US-2020-141852         2020-11-18  Standard Processing   \n",
       "34   CA-2019-112277         2019-09-18  Standard Processing   \n",
       "82   CA-2020-114258         2020-11-12  Standard Processing   \n",
       "63   CA-2019-106243         2019-10-07  Standard Processing   \n",
       "141  CA-2020-113873         2020-11-20  Standard Processing   \n",
       "164  CA-2020-160122         2020-11-25  Standard Processing   \n",
       "7    CA-2019-145240         2019-09-09              Express   \n",
       "\n",
       "    ready_to_ship_date pickup_date  \n",
       "129         2020-11-16  2020-11-18  \n",
       "66          2020-11-05  2020-11-06  \n",
       "9           2019-09-06  2019-09-09  \n",
       "122         2020-11-16  2020-11-18  \n",
       "34          2019-09-16  2019-09-18  \n",
       "82          2020-11-10  2020-11-12  \n",
       "63          2019-10-04  2019-10-07  \n",
       "141         2020-11-19  2020-11-20  \n",
       "164         2020-11-23  2020-11-25  \n",
       "7           2019-09-09  2019-09-09  "
      ]
     },
     "execution_count": 24,
     "metadata": {},
     "output_type": "execute_result"
    }
   ],
   "source": [
    "readytoship_truck_df.sample(10)"
   ]
  },
  {
   "cell_type": "markdown",
   "metadata": {},
   "source": [
    "Extract the weekday name from the date column."
   ]
  },
  {
   "cell_type": "code",
   "execution_count": 25,
   "metadata": {},
   "outputs": [
    {
     "data": {
      "text/html": [
       "<div>\n",
       "<style scoped>\n",
       "    .dataframe tbody tr th:only-of-type {\n",
       "        vertical-align: middle;\n",
       "    }\n",
       "\n",
       "    .dataframe tbody tr th {\n",
       "        vertical-align: top;\n",
       "    }\n",
       "\n",
       "    .dataframe thead th {\n",
       "        text-align: right;\n",
       "    }\n",
       "</style>\n",
       "<table border=\"1\" class=\"dataframe\">\n",
       "  <thead>\n",
       "    <tr style=\"text-align: right;\">\n",
       "      <th></th>\n",
       "      <th>order_id</th>\n",
       "      <th>on_truck_scan_date</th>\n",
       "      <th>ship_mode</th>\n",
       "      <th>ready_to_ship_date</th>\n",
       "      <th>pickup_date</th>\n",
       "      <th>weekday</th>\n",
       "    </tr>\n",
       "  </thead>\n",
       "  <tbody>\n",
       "    <tr>\n",
       "      <th>10</th>\n",
       "      <td>CA-2019-126732</td>\n",
       "      <td>2019-09-09</td>\n",
       "      <td>Standard Processing</td>\n",
       "      <td>2019-09-06</td>\n",
       "      <td>2019-09-09</td>\n",
       "      <td>Monday</td>\n",
       "    </tr>\n",
       "    <tr>\n",
       "      <th>20</th>\n",
       "      <td>CA-2019-131205</td>\n",
       "      <td>2019-09-11</td>\n",
       "      <td>Standard Processing</td>\n",
       "      <td>2019-09-09</td>\n",
       "      <td>2019-09-11</td>\n",
       "      <td>Wednesday</td>\n",
       "    </tr>\n",
       "    <tr>\n",
       "      <th>193</th>\n",
       "      <td>CA-2020-165029</td>\n",
       "      <td>2020-12-02</td>\n",
       "      <td>Standard Processing</td>\n",
       "      <td>2020-11-30</td>\n",
       "      <td>2020-12-02</td>\n",
       "      <td>Wednesday</td>\n",
       "    </tr>\n",
       "    <tr>\n",
       "      <th>97</th>\n",
       "      <td>CA-2020-150959</td>\n",
       "      <td>2020-11-13</td>\n",
       "      <td>Express</td>\n",
       "      <td>2020-11-13</td>\n",
       "      <td>2020-11-13</td>\n",
       "      <td>Friday</td>\n",
       "    </tr>\n",
       "    <tr>\n",
       "      <th>64</th>\n",
       "      <td>US-2020-168116</td>\n",
       "      <td>2020-11-04</td>\n",
       "      <td>Express</td>\n",
       "      <td>2020-11-04</td>\n",
       "      <td>2020-11-04</td>\n",
       "      <td>Wednesday</td>\n",
       "    </tr>\n",
       "    <tr>\n",
       "      <th>170</th>\n",
       "      <td>CA-2020-135307</td>\n",
       "      <td>2020-11-27</td>\n",
       "      <td>Express</td>\n",
       "      <td>2020-11-27</td>\n",
       "      <td>2020-11-27</td>\n",
       "      <td>Friday</td>\n",
       "    </tr>\n",
       "    <tr>\n",
       "      <th>141</th>\n",
       "      <td>CA-2020-113873</td>\n",
       "      <td>2020-11-20</td>\n",
       "      <td>Standard Processing</td>\n",
       "      <td>2020-11-19</td>\n",
       "      <td>2020-11-20</td>\n",
       "      <td>Friday</td>\n",
       "    </tr>\n",
       "    <tr>\n",
       "      <th>11</th>\n",
       "      <td>CA-2019-110023</td>\n",
       "      <td>2019-09-11</td>\n",
       "      <td>Express</td>\n",
       "      <td>2019-09-11</td>\n",
       "      <td>2019-09-11</td>\n",
       "      <td>Wednesday</td>\n",
       "    </tr>\n",
       "    <tr>\n",
       "      <th>51</th>\n",
       "      <td>CA-2019-166772</td>\n",
       "      <td>2019-09-25</td>\n",
       "      <td>Standard Processing</td>\n",
       "      <td>2019-09-24</td>\n",
       "      <td>2019-09-25</td>\n",
       "      <td>Wednesday</td>\n",
       "    </tr>\n",
       "    <tr>\n",
       "      <th>175</th>\n",
       "      <td>CA-2020-107874</td>\n",
       "      <td>2020-11-30</td>\n",
       "      <td>Standard Processing</td>\n",
       "      <td>2020-11-27</td>\n",
       "      <td>2020-11-30</td>\n",
       "      <td>Monday</td>\n",
       "    </tr>\n",
       "  </tbody>\n",
       "</table>\n",
       "</div>"
      ],
      "text/plain": [
       "           order_id on_truck_scan_date            ship_mode  \\\n",
       "10   CA-2019-126732         2019-09-09  Standard Processing   \n",
       "20   CA-2019-131205         2019-09-11  Standard Processing   \n",
       "193  CA-2020-165029         2020-12-02  Standard Processing   \n",
       "97   CA-2020-150959         2020-11-13              Express   \n",
       "64   US-2020-168116         2020-11-04              Express   \n",
       "170  CA-2020-135307         2020-11-27              Express   \n",
       "141  CA-2020-113873         2020-11-20  Standard Processing   \n",
       "11   CA-2019-110023         2019-09-11              Express   \n",
       "51   CA-2019-166772         2019-09-25  Standard Processing   \n",
       "175  CA-2020-107874         2020-11-30  Standard Processing   \n",
       "\n",
       "    ready_to_ship_date pickup_date    weekday  \n",
       "10          2019-09-06  2019-09-09     Monday  \n",
       "20          2019-09-09  2019-09-11  Wednesday  \n",
       "193         2020-11-30  2020-12-02  Wednesday  \n",
       "97          2020-11-13  2020-11-13     Friday  \n",
       "64          2020-11-04  2020-11-04  Wednesday  \n",
       "170         2020-11-27  2020-11-27     Friday  \n",
       "141         2020-11-19  2020-11-20     Friday  \n",
       "11          2019-09-11  2019-09-11  Wednesday  \n",
       "51          2019-09-24  2019-09-25  Wednesday  \n",
       "175         2020-11-27  2020-11-30     Monday  "
      ]
     },
     "execution_count": 25,
     "metadata": {},
     "output_type": "execute_result"
    }
   ],
   "source": [
    "readytoship_truck_df['weekday'] = readytoship_truck_df['on_truck_scan_date'].dt.day_name()\n",
    "\n",
    "readytoship_truck_df.sample(10)"
   ]
  },
  {
   "cell_type": "markdown",
   "metadata": {},
   "source": [
    "No convertion to datetime needed (see below)."
   ]
  },
  {
   "cell_type": "code",
   "execution_count": 26,
   "metadata": {},
   "outputs": [
    {
     "name": "stdout",
     "output_type": "stream",
     "text": [
      "<class 'pandas.core.frame.DataFrame'>\n",
      "RangeIndex: 204 entries, 0 to 203\n",
      "Data columns (total 6 columns):\n",
      " #   Column              Non-Null Count  Dtype         \n",
      "---  ------              --------------  -----         \n",
      " 0   order_id            204 non-null    object        \n",
      " 1   on_truck_scan_date  204 non-null    datetime64[ns]\n",
      " 2   ship_mode           204 non-null    object        \n",
      " 3   ready_to_ship_date  204 non-null    datetime64[ns]\n",
      " 4   pickup_date         204 non-null    datetime64[ns]\n",
      " 5   weekday             204 non-null    object        \n",
      "dtypes: datetime64[ns](3), object(3)\n",
      "memory usage: 9.7+ KB\n"
     ]
    }
   ],
   "source": [
    "readytoship_truck_df.info()"
   ]
  },
  {
   "cell_type": "markdown",
   "metadata": {},
   "source": [
    "Calculate the duration of the process from 'Ready to Ship' to 'on Truck' and print it in a new column."
   ]
  },
  {
   "cell_type": "code",
   "execution_count": 27,
   "metadata": {},
   "outputs": [
    {
     "data": {
      "text/html": [
       "<div>\n",
       "<style scoped>\n",
       "    .dataframe tbody tr th:only-of-type {\n",
       "        vertical-align: middle;\n",
       "    }\n",
       "\n",
       "    .dataframe tbody tr th {\n",
       "        vertical-align: top;\n",
       "    }\n",
       "\n",
       "    .dataframe thead th {\n",
       "        text-align: right;\n",
       "    }\n",
       "</style>\n",
       "<table border=\"1\" class=\"dataframe\">\n",
       "  <thead>\n",
       "    <tr style=\"text-align: right;\">\n",
       "      <th></th>\n",
       "      <th>order_id</th>\n",
       "      <th>on_truck_scan_date</th>\n",
       "      <th>ship_mode</th>\n",
       "      <th>ready_to_ship_date</th>\n",
       "      <th>pickup_date</th>\n",
       "      <th>weekday</th>\n",
       "      <th>ship_to_truck</th>\n",
       "    </tr>\n",
       "  </thead>\n",
       "  <tbody>\n",
       "    <tr>\n",
       "      <th>4</th>\n",
       "      <td>CA-2019-132143</td>\n",
       "      <td>2019-09-06</td>\n",
       "      <td>Express</td>\n",
       "      <td>2019-09-05</td>\n",
       "      <td>2019-09-06</td>\n",
       "      <td>Friday</td>\n",
       "      <td>1</td>\n",
       "    </tr>\n",
       "    <tr>\n",
       "      <th>159</th>\n",
       "      <td>US-2020-114657</td>\n",
       "      <td>2020-11-25</td>\n",
       "      <td>Standard Processing</td>\n",
       "      <td>2020-11-23</td>\n",
       "      <td>2020-11-25</td>\n",
       "      <td>Wednesday</td>\n",
       "      <td>2</td>\n",
       "    </tr>\n",
       "    <tr>\n",
       "      <th>181</th>\n",
       "      <td>CA-2020-155159</td>\n",
       "      <td>2020-12-02</td>\n",
       "      <td>Standard Processing</td>\n",
       "      <td>2020-11-30</td>\n",
       "      <td>2020-12-02</td>\n",
       "      <td>Wednesday</td>\n",
       "      <td>2</td>\n",
       "    </tr>\n",
       "    <tr>\n",
       "      <th>133</th>\n",
       "      <td>CA-2020-138163</td>\n",
       "      <td>2020-11-20</td>\n",
       "      <td>Express</td>\n",
       "      <td>2020-11-20</td>\n",
       "      <td>2020-11-20</td>\n",
       "      <td>Friday</td>\n",
       "      <td>0</td>\n",
       "    </tr>\n",
       "    <tr>\n",
       "      <th>24</th>\n",
       "      <td>CA-2019-164350</td>\n",
       "      <td>2019-09-13</td>\n",
       "      <td>Standard Processing</td>\n",
       "      <td>2019-09-12</td>\n",
       "      <td>2019-09-13</td>\n",
       "      <td>Friday</td>\n",
       "      <td>1</td>\n",
       "    </tr>\n",
       "    <tr>\n",
       "      <th>158</th>\n",
       "      <td>CA-2020-137022</td>\n",
       "      <td>2020-11-25</td>\n",
       "      <td>Standard Processing</td>\n",
       "      <td>2020-11-23</td>\n",
       "      <td>2020-11-25</td>\n",
       "      <td>Wednesday</td>\n",
       "      <td>2</td>\n",
       "    </tr>\n",
       "    <tr>\n",
       "      <th>43</th>\n",
       "      <td>CA-2019-102932</td>\n",
       "      <td>2019-09-25</td>\n",
       "      <td>Standard Processing</td>\n",
       "      <td>2019-09-23</td>\n",
       "      <td>2019-09-25</td>\n",
       "      <td>Wednesday</td>\n",
       "      <td>2</td>\n",
       "    </tr>\n",
       "    <tr>\n",
       "      <th>59</th>\n",
       "      <td>CA-2019-154235</td>\n",
       "      <td>2019-10-02</td>\n",
       "      <td>Standard Processing</td>\n",
       "      <td>2019-09-30</td>\n",
       "      <td>2019-10-02</td>\n",
       "      <td>Wednesday</td>\n",
       "      <td>2</td>\n",
       "    </tr>\n",
       "    <tr>\n",
       "      <th>70</th>\n",
       "      <td>US-2020-153948</td>\n",
       "      <td>2020-11-06</td>\n",
       "      <td>Express</td>\n",
       "      <td>2020-11-06</td>\n",
       "      <td>2020-11-06</td>\n",
       "      <td>Friday</td>\n",
       "      <td>0</td>\n",
       "    </tr>\n",
       "    <tr>\n",
       "      <th>164</th>\n",
       "      <td>CA-2020-160122</td>\n",
       "      <td>2020-11-25</td>\n",
       "      <td>Standard Processing</td>\n",
       "      <td>2020-11-23</td>\n",
       "      <td>2020-11-25</td>\n",
       "      <td>Wednesday</td>\n",
       "      <td>2</td>\n",
       "    </tr>\n",
       "  </tbody>\n",
       "</table>\n",
       "</div>"
      ],
      "text/plain": [
       "           order_id on_truck_scan_date            ship_mode  \\\n",
       "4    CA-2019-132143         2019-09-06              Express   \n",
       "159  US-2020-114657         2020-11-25  Standard Processing   \n",
       "181  CA-2020-155159         2020-12-02  Standard Processing   \n",
       "133  CA-2020-138163         2020-11-20              Express   \n",
       "24   CA-2019-164350         2019-09-13  Standard Processing   \n",
       "158  CA-2020-137022         2020-11-25  Standard Processing   \n",
       "43   CA-2019-102932         2019-09-25  Standard Processing   \n",
       "59   CA-2019-154235         2019-10-02  Standard Processing   \n",
       "70   US-2020-153948         2020-11-06              Express   \n",
       "164  CA-2020-160122         2020-11-25  Standard Processing   \n",
       "\n",
       "    ready_to_ship_date pickup_date    weekday  ship_to_truck  \n",
       "4           2019-09-05  2019-09-06     Friday              1  \n",
       "159         2020-11-23  2020-11-25  Wednesday              2  \n",
       "181         2020-11-30  2020-12-02  Wednesday              2  \n",
       "133         2020-11-20  2020-11-20     Friday              0  \n",
       "24          2019-09-12  2019-09-13     Friday              1  \n",
       "158         2020-11-23  2020-11-25  Wednesday              2  \n",
       "43          2019-09-23  2019-09-25  Wednesday              2  \n",
       "59          2019-09-30  2019-10-02  Wednesday              2  \n",
       "70          2020-11-06  2020-11-06     Friday              0  \n",
       "164         2020-11-23  2020-11-25  Wednesday              2  "
      ]
     },
     "execution_count": 27,
     "metadata": {},
     "output_type": "execute_result"
    }
   ],
   "source": [
    "readytoship_truck_df['ship_to_truck'] = (readytoship_truck_df['on_truck_scan_date']\n",
    "                                            - readytoship_truck_df['ready_to_ship_date']\n",
    "                                            ).dt.days\n",
    "\n",
    "readytoship_truck_df.sample(10)"
   ]
  },
  {
   "cell_type": "code",
   "execution_count": 28,
   "metadata": {},
   "outputs": [
    {
     "data": {
      "text/plain": [
       "array([1, 0, 3, 2])"
      ]
     },
     "execution_count": 28,
     "metadata": {},
     "output_type": "execute_result"
    }
   ],
   "source": [
    "readytoship_truck_df['ship_to_truck'].unique()"
   ]
  },
  {
   "cell_type": "markdown",
   "metadata": {},
   "source": [
    "Filter for standard processing."
   ]
  },
  {
   "cell_type": "code",
   "execution_count": 29,
   "metadata": {},
   "outputs": [
    {
     "data": {
      "text/html": [
       "<div>\n",
       "<style scoped>\n",
       "    .dataframe tbody tr th:only-of-type {\n",
       "        vertical-align: middle;\n",
       "    }\n",
       "\n",
       "    .dataframe tbody tr th {\n",
       "        vertical-align: top;\n",
       "    }\n",
       "\n",
       "    .dataframe thead th {\n",
       "        text-align: right;\n",
       "    }\n",
       "</style>\n",
       "<table border=\"1\" class=\"dataframe\">\n",
       "  <thead>\n",
       "    <tr style=\"text-align: right;\">\n",
       "      <th></th>\n",
       "      <th>order_id</th>\n",
       "      <th>on_truck_scan_date</th>\n",
       "      <th>ship_mode</th>\n",
       "      <th>ready_to_ship_date</th>\n",
       "      <th>pickup_date</th>\n",
       "      <th>weekday</th>\n",
       "      <th>ship_to_truck</th>\n",
       "    </tr>\n",
       "  </thead>\n",
       "  <tbody>\n",
       "    <tr>\n",
       "      <th>175</th>\n",
       "      <td>CA-2020-107874</td>\n",
       "      <td>2020-11-30</td>\n",
       "      <td>Standard Processing</td>\n",
       "      <td>2020-11-27</td>\n",
       "      <td>2020-11-30</td>\n",
       "      <td>Monday</td>\n",
       "      <td>3</td>\n",
       "    </tr>\n",
       "    <tr>\n",
       "      <th>34</th>\n",
       "      <td>CA-2019-112277</td>\n",
       "      <td>2019-09-18</td>\n",
       "      <td>Standard Processing</td>\n",
       "      <td>2019-09-16</td>\n",
       "      <td>2019-09-18</td>\n",
       "      <td>Wednesday</td>\n",
       "      <td>2</td>\n",
       "    </tr>\n",
       "    <tr>\n",
       "      <th>47</th>\n",
       "      <td>CA-2019-168557</td>\n",
       "      <td>2019-09-25</td>\n",
       "      <td>Standard Processing</td>\n",
       "      <td>2019-09-23</td>\n",
       "      <td>2019-09-25</td>\n",
       "      <td>Wednesday</td>\n",
       "      <td>2</td>\n",
       "    </tr>\n",
       "    <tr>\n",
       "      <th>33</th>\n",
       "      <td>CA-2019-146206</td>\n",
       "      <td>2019-09-18</td>\n",
       "      <td>Standard Processing</td>\n",
       "      <td>2019-09-16</td>\n",
       "      <td>2019-09-18</td>\n",
       "      <td>Wednesday</td>\n",
       "      <td>2</td>\n",
       "    </tr>\n",
       "    <tr>\n",
       "      <th>78</th>\n",
       "      <td>CA-2020-130834</td>\n",
       "      <td>2020-11-09</td>\n",
       "      <td>Standard Processing</td>\n",
       "      <td>2020-11-06</td>\n",
       "      <td>2020-11-09</td>\n",
       "      <td>Monday</td>\n",
       "      <td>3</td>\n",
       "    </tr>\n",
       "    <tr>\n",
       "      <th>177</th>\n",
       "      <td>CA-2020-105130</td>\n",
       "      <td>2020-11-30</td>\n",
       "      <td>Standard Processing</td>\n",
       "      <td>2020-11-27</td>\n",
       "      <td>2020-11-30</td>\n",
       "      <td>Monday</td>\n",
       "      <td>3</td>\n",
       "    </tr>\n",
       "    <tr>\n",
       "      <th>37</th>\n",
       "      <td>CA-2019-164154</td>\n",
       "      <td>2019-09-18</td>\n",
       "      <td>Standard Processing</td>\n",
       "      <td>2019-09-17</td>\n",
       "      <td>2019-09-18</td>\n",
       "      <td>Wednesday</td>\n",
       "      <td>1</td>\n",
       "    </tr>\n",
       "    <tr>\n",
       "      <th>36</th>\n",
       "      <td>CA-2019-145625</td>\n",
       "      <td>2019-09-18</td>\n",
       "      <td>Standard Processing</td>\n",
       "      <td>2019-09-17</td>\n",
       "      <td>2019-09-18</td>\n",
       "      <td>Wednesday</td>\n",
       "      <td>1</td>\n",
       "    </tr>\n",
       "    <tr>\n",
       "      <th>31</th>\n",
       "      <td>CA-2019-137176</td>\n",
       "      <td>2019-09-18</td>\n",
       "      <td>Standard Processing</td>\n",
       "      <td>2019-09-16</td>\n",
       "      <td>2019-09-18</td>\n",
       "      <td>Wednesday</td>\n",
       "      <td>2</td>\n",
       "    </tr>\n",
       "    <tr>\n",
       "      <th>112</th>\n",
       "      <td>CA-2020-107174</td>\n",
       "      <td>2020-11-16</td>\n",
       "      <td>Standard Processing</td>\n",
       "      <td>2020-11-13</td>\n",
       "      <td>2020-11-16</td>\n",
       "      <td>Monday</td>\n",
       "      <td>3</td>\n",
       "    </tr>\n",
       "  </tbody>\n",
       "</table>\n",
       "</div>"
      ],
      "text/plain": [
       "           order_id on_truck_scan_date            ship_mode  \\\n",
       "175  CA-2020-107874         2020-11-30  Standard Processing   \n",
       "34   CA-2019-112277         2019-09-18  Standard Processing   \n",
       "47   CA-2019-168557         2019-09-25  Standard Processing   \n",
       "33   CA-2019-146206         2019-09-18  Standard Processing   \n",
       "78   CA-2020-130834         2020-11-09  Standard Processing   \n",
       "177  CA-2020-105130         2020-11-30  Standard Processing   \n",
       "37   CA-2019-164154         2019-09-18  Standard Processing   \n",
       "36   CA-2019-145625         2019-09-18  Standard Processing   \n",
       "31   CA-2019-137176         2019-09-18  Standard Processing   \n",
       "112  CA-2020-107174         2020-11-16  Standard Processing   \n",
       "\n",
       "    ready_to_ship_date pickup_date    weekday  ship_to_truck  \n",
       "175         2020-11-27  2020-11-30     Monday              3  \n",
       "34          2019-09-16  2019-09-18  Wednesday              2  \n",
       "47          2019-09-23  2019-09-25  Wednesday              2  \n",
       "33          2019-09-16  2019-09-18  Wednesday              2  \n",
       "78          2020-11-06  2020-11-09     Monday              3  \n",
       "177         2020-11-27  2020-11-30     Monday              3  \n",
       "37          2019-09-17  2019-09-18  Wednesday              1  \n",
       "36          2019-09-17  2019-09-18  Wednesday              1  \n",
       "31          2019-09-16  2019-09-18  Wednesday              2  \n",
       "112         2020-11-13  2020-11-16     Monday              3  "
      ]
     },
     "execution_count": 29,
     "metadata": {},
     "output_type": "execute_result"
    }
   ],
   "source": [
    "standard_readytoship_truck_df = readytoship_truck_df[readytoship_truck_df['ship_mode'] == 'Standard Processing']\n",
    "\n",
    "standard_readytoship_truck_df.sample(10)"
   ]
  },
  {
   "cell_type": "markdown",
   "metadata": {},
   "source": [
    "Calculate the mean Preparation Duration for Standard Processing."
   ]
  },
  {
   "cell_type": "code",
   "execution_count": 34,
   "metadata": {},
   "outputs": [
    {
     "data": {
      "text/plain": [
       "1.9867549668874172"
      ]
     },
     "execution_count": 34,
     "metadata": {},
     "output_type": "execute_result"
    }
   ],
   "source": [
    "mean_standard_days = standard_readytoship_truck_df['ship_to_truck'].mean()\n",
    "\n",
    "mean_standard_days"
   ]
  },
  {
   "cell_type": "markdown",
   "metadata": {},
   "source": [
    "**=> ca. 2 days**  \n",
    "That's more than the claimed 1 day."
   ]
  },
  {
   "cell_type": "markdown",
   "metadata": {},
   "source": [
    "---"
   ]
  },
  {
   "cell_type": "markdown",
   "metadata": {},
   "source": [
    "### 3. **Ready to Ship to on Truck Express**: Efficacy of \"Express Processing\"; the order ought to be on the truck on the ready to ship day"
   ]
  },
  {
   "cell_type": "code",
   "execution_count": 35,
   "metadata": {},
   "outputs": [
    {
     "data": {
      "text/html": [
       "<div>\n",
       "<style scoped>\n",
       "    .dataframe tbody tr th:only-of-type {\n",
       "        vertical-align: middle;\n",
       "    }\n",
       "\n",
       "    .dataframe tbody tr th {\n",
       "        vertical-align: top;\n",
       "    }\n",
       "\n",
       "    .dataframe thead th {\n",
       "        text-align: right;\n",
       "    }\n",
       "</style>\n",
       "<table border=\"1\" class=\"dataframe\">\n",
       "  <thead>\n",
       "    <tr style=\"text-align: right;\">\n",
       "      <th></th>\n",
       "      <th>order_id</th>\n",
       "      <th>on_truck_scan_date</th>\n",
       "      <th>ship_mode</th>\n",
       "      <th>ready_to_ship_date</th>\n",
       "      <th>pickup_date</th>\n",
       "      <th>weekday</th>\n",
       "      <th>ship_to_truck</th>\n",
       "    </tr>\n",
       "  </thead>\n",
       "  <tbody>\n",
       "    <tr>\n",
       "      <th>148</th>\n",
       "      <td>CA-2020-111556</td>\n",
       "      <td>2020-11-23</td>\n",
       "      <td>Express</td>\n",
       "      <td>2020-11-23</td>\n",
       "      <td>2020-11-23</td>\n",
       "      <td>Monday</td>\n",
       "      <td>0</td>\n",
       "    </tr>\n",
       "    <tr>\n",
       "      <th>99</th>\n",
       "      <td>US-2020-116659</td>\n",
       "      <td>2020-11-13</td>\n",
       "      <td>Express</td>\n",
       "      <td>2020-11-12</td>\n",
       "      <td>2020-11-13</td>\n",
       "      <td>Friday</td>\n",
       "      <td>1</td>\n",
       "    </tr>\n",
       "    <tr>\n",
       "      <th>170</th>\n",
       "      <td>CA-2020-135307</td>\n",
       "      <td>2020-11-27</td>\n",
       "      <td>Express</td>\n",
       "      <td>2020-11-27</td>\n",
       "      <td>2020-11-27</td>\n",
       "      <td>Friday</td>\n",
       "      <td>0</td>\n",
       "    </tr>\n",
       "    <tr>\n",
       "      <th>0</th>\n",
       "      <td>CA-2019-116540</td>\n",
       "      <td>2019-09-03</td>\n",
       "      <td>Express</td>\n",
       "      <td>2019-09-02</td>\n",
       "      <td>2019-09-03</td>\n",
       "      <td>Tuesday</td>\n",
       "      <td>1</td>\n",
       "    </tr>\n",
       "    <tr>\n",
       "      <th>197</th>\n",
       "      <td>US-2020-165456</td>\n",
       "      <td>2020-12-04</td>\n",
       "      <td>Express</td>\n",
       "      <td>2020-12-03</td>\n",
       "      <td>2020-12-04</td>\n",
       "      <td>Friday</td>\n",
       "      <td>1</td>\n",
       "    </tr>\n",
       "    <tr>\n",
       "      <th>149</th>\n",
       "      <td>CA-2020-157420</td>\n",
       "      <td>2020-11-23</td>\n",
       "      <td>Express</td>\n",
       "      <td>2020-11-23</td>\n",
       "      <td>2020-11-23</td>\n",
       "      <td>Monday</td>\n",
       "      <td>0</td>\n",
       "    </tr>\n",
       "    <tr>\n",
       "      <th>154</th>\n",
       "      <td>CA-2020-137505</td>\n",
       "      <td>2020-11-25</td>\n",
       "      <td>Express</td>\n",
       "      <td>2020-11-24</td>\n",
       "      <td>2020-11-25</td>\n",
       "      <td>Wednesday</td>\n",
       "      <td>1</td>\n",
       "    </tr>\n",
       "    <tr>\n",
       "      <th>107</th>\n",
       "      <td>US-2020-165344</td>\n",
       "      <td>2020-11-16</td>\n",
       "      <td>Express</td>\n",
       "      <td>2020-11-16</td>\n",
       "      <td>2020-11-16</td>\n",
       "      <td>Monday</td>\n",
       "      <td>0</td>\n",
       "    </tr>\n",
       "    <tr>\n",
       "      <th>97</th>\n",
       "      <td>CA-2020-150959</td>\n",
       "      <td>2020-11-13</td>\n",
       "      <td>Express</td>\n",
       "      <td>2020-11-13</td>\n",
       "      <td>2020-11-13</td>\n",
       "      <td>Friday</td>\n",
       "      <td>0</td>\n",
       "    </tr>\n",
       "    <tr>\n",
       "      <th>7</th>\n",
       "      <td>CA-2019-145240</td>\n",
       "      <td>2019-09-09</td>\n",
       "      <td>Express</td>\n",
       "      <td>2019-09-09</td>\n",
       "      <td>2019-09-09</td>\n",
       "      <td>Monday</td>\n",
       "      <td>0</td>\n",
       "    </tr>\n",
       "  </tbody>\n",
       "</table>\n",
       "</div>"
      ],
      "text/plain": [
       "           order_id on_truck_scan_date ship_mode ready_to_ship_date  \\\n",
       "148  CA-2020-111556         2020-11-23   Express         2020-11-23   \n",
       "99   US-2020-116659         2020-11-13   Express         2020-11-12   \n",
       "170  CA-2020-135307         2020-11-27   Express         2020-11-27   \n",
       "0    CA-2019-116540         2019-09-03   Express         2019-09-02   \n",
       "197  US-2020-165456         2020-12-04   Express         2020-12-03   \n",
       "149  CA-2020-157420         2020-11-23   Express         2020-11-23   \n",
       "154  CA-2020-137505         2020-11-25   Express         2020-11-24   \n",
       "107  US-2020-165344         2020-11-16   Express         2020-11-16   \n",
       "97   CA-2020-150959         2020-11-13   Express         2020-11-13   \n",
       "7    CA-2019-145240         2019-09-09   Express         2019-09-09   \n",
       "\n",
       "    pickup_date    weekday  ship_to_truck  \n",
       "148  2020-11-23     Monday              0  \n",
       "99   2020-11-13     Friday              1  \n",
       "170  2020-11-27     Friday              0  \n",
       "0    2019-09-03    Tuesday              1  \n",
       "197  2020-12-04     Friday              1  \n",
       "149  2020-11-23     Monday              0  \n",
       "154  2020-11-25  Wednesday              1  \n",
       "107  2020-11-16     Monday              0  \n",
       "97   2020-11-13     Friday              0  \n",
       "7    2019-09-09     Monday              0  "
      ]
     },
     "execution_count": 35,
     "metadata": {},
     "output_type": "execute_result"
    }
   ],
   "source": [
    "express_readytoship_truck_df = readytoship_truck_df[readytoship_truck_df['ship_mode'] == 'Express']\n",
    "\n",
    "express_readytoship_truck_df.sample(10)"
   ]
  },
  {
   "cell_type": "markdown",
   "metadata": {},
   "source": [
    "Calculate the mean Preparation Duration for Express Processing."
   ]
  },
  {
   "cell_type": "code",
   "execution_count": 38,
   "metadata": {},
   "outputs": [
    {
     "data": {
      "text/plain": [
       "0.39622641509433965"
      ]
     },
     "execution_count": 38,
     "metadata": {},
     "output_type": "execute_result"
    }
   ],
   "source": [
    "mean_express_days = express_readytoship_truck_df['ship_to_truck'].mean()\n",
    "\n",
    "mean_express_days"
   ]
  },
  {
   "cell_type": "markdown",
   "metadata": {},
   "source": [
    "**=> ca. 10 hours**  \n",
    "Less than the claimed 1 day!"
   ]
  },
  {
   "cell_type": "markdown",
   "metadata": {},
   "source": [
    "---"
   ]
  },
  {
   "cell_type": "markdown",
   "metadata": {},
   "source": [
    "### 4. **Order Delivery**: From \"On Truck Scan\" to \"Arrival Scan Date\":\n",
    "merge campaign_data_df and order_process_data_df"
   ]
  },
  {
   "cell_type": "code",
   "execution_count": 39,
   "metadata": {},
   "outputs": [],
   "source": [
    "order_delivery_df = pd.merge(campaign_data_df, order_process_data_df,\n",
    "                             on = 'order_id',\n",
    "                             how = 'inner')"
   ]
  },
  {
   "cell_type": "code",
   "execution_count": 40,
   "metadata": {},
   "outputs": [
    {
     "data": {
      "text/plain": [
       "Index(['order_id', 'arrival_scan_date', 'on_truck_scan_date', 'ship_mode'], dtype='object')"
      ]
     },
     "execution_count": 40,
     "metadata": {},
     "output_type": "execute_result"
    }
   ],
   "source": [
    "order_delivery_df.columns"
   ]
  },
  {
   "cell_type": "markdown",
   "metadata": {},
   "source": [
    "No columns to delete."
   ]
  },
  {
   "cell_type": "code",
   "execution_count": null,
   "metadata": {},
   "outputs": [],
   "source": []
  },
  {
   "cell_type": "markdown",
   "metadata": {},
   "source": [
    "### 5. **Order Delivery 2**: From \"Pickup Date\" to \"Arrival Scan Date\":\n",
    "merge campaign_data_df and interndata_study_df"
   ]
  },
  {
   "cell_type": "code",
   "execution_count": null,
   "metadata": {},
   "outputs": [],
   "source": []
  },
  {
   "cell_type": "markdown",
   "metadata": {},
   "source": [
    "### 6. **Order Delivery total**: Get an image of the whole delivery process duration, from 'Order Date' to 'Arrival Scan Date':\n",
    "merge orders_df and order_process_data_df"
   ]
  },
  {
   "cell_type": "code",
   "execution_count": null,
   "metadata": {},
   "outputs": [],
   "source": []
  }
 ],
 "metadata": {
  "kernelspec": {
   "display_name": "nf_base",
   "language": "python",
   "name": "python3"
  },
  "language_info": {
   "codemirror_mode": {
    "name": "ipython",
    "version": 3
   },
   "file_extension": ".py",
   "mimetype": "text/x-python",
   "name": "python",
   "nbconvert_exporter": "python",
   "pygments_lexer": "ipython3",
   "version": "3.9.19"
  }
 },
 "nbformat": 4,
 "nbformat_minor": 2
}
