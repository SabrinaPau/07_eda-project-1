{
 "cells": [
  {
   "cell_type": "code",
   "execution_count": null,
   "metadata": {},
   "outputs": [],
   "source": [
    "import pandas as pd\n",
    "orders_df = pd.read_excel('data/Muesli Project raw data.xlsx', header=1, sheet_name=0)\n",
    "campaign_data_df = pd.read_excel('data/Muesli Project raw data.xlsx', sheet_name=1)\n",
    "order_process_data_df = pd.read_excel('data/Muesli Project raw data.xlsx', sheet_name=2)\n",
    "interndata_study_df = pd.read_excel('data/Muesli Project raw data.xlsx', sheet_name=3)"
   ]
  },
  {
   "cell_type": "code",
   "execution_count": null,
   "metadata": {},
   "outputs": [],
   "source": [
    "print('-----Orders-----')\n",
    "print(orders_df.shape)\n",
    "display(orders_df.sample(5))\n",
    "\n",
    "print('-----Campaign Data-----')\n",
    "print(campaign_data_df.shape)\n",
    "display(campaign_data_df.sample(5))\n",
    "\n",
    "print('-----Order Process Data-----')\n",
    "print(order_process_data_df.shape)\n",
    "display(order_process_data_df.sample(5))\n",
    "\n",
    "print('-----InternData Study-----')\n",
    "print(interndata_study_df.shape)\n",
    "display(interndata_study_df.sample(5))"
   ]
  },
  {
   "cell_type": "code",
   "execution_count": null,
   "metadata": {},
   "outputs": [],
   "source": []
  }
 ],
 "metadata": {
  "kernelspec": {
   "display_name": "nf_base",
   "language": "python",
   "name": "python3"
  },
  "language_info": {
   "codemirror_mode": {
    "name": "ipython",
    "version": 3
   },
   "file_extension": ".py",
   "mimetype": "text/x-python",
   "name": "python",
   "nbconvert_exporter": "python",
   "pygments_lexer": "ipython3",
   "version": "3.9.19"
  }
 },
 "nbformat": 4,
 "nbformat_minor": 2
}
