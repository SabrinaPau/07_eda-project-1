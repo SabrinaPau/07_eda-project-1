{
 "cells": [
  {
   "cell_type": "code",
   "execution_count": 158,
   "metadata": {},
   "outputs": [],
   "source": [
    "import pandas as pd\n",
    "import matplotlib.pyplot as plt\n",
    "import seaborn as sns\n",
    "from functools import reduce\n"
   ]
  },
  {
   "cell_type": "code",
   "execution_count": 230,
   "metadata": {},
   "outputs": [],
   "source": [
    "# read all the worksheets form the data excel file\n",
    "df = pd.read_excel('data/Muesli Project raw data - group 3.xlsx', header=1)\n",
    "df1 = pd.read_excel('data/Muesli Project raw data - group 3.xlsx',sheet_name=1)\n",
    "df2 = pd.read_excel('data/Muesli Project raw data - group 3.xlsx',sheet_name=2)\n",
    "df3 = pd.read_excel('data/Muesli Project raw data - group 3.xlsx',sheet_name=3)"
   ]
  },
  {
   "cell_type": "code",
   "execution_count": 209,
   "metadata": {},
   "outputs": [
    {
     "name": "stdout",
     "output_type": "stream",
     "text": [
      "Index(['Index', 'Order ID', 'Order Date', 'Ship Mode', 'Customer ID',\n",
      "       'Customer Name', 'Origin Channel', 'Country/Region', 'City', 'State',\n",
      "       'Postal Code', 'Region', 'Category', 'Sub-Category', 'Product ID',\n",
      "       'Sales', 'Quantity', 'Discount', 'Profit'],\n",
      "      dtype='object')\n",
      "Index(['Order ID', 'Arrival Scan Date', 'Customer Name'], dtype='object')\n",
      "Index(['Row ID', 'Order ID', 'Order Date', 'On Truck Scan Date', 'Ship Mode'], dtype='object')\n",
      "Index(['Order ID', 'Ready to Ship Date', 'Pickup Date'], dtype='object')\n"
     ]
    }
   ],
   "source": [
    "# check the df headers\n",
    "print(df.columns)\n",
    "print(df1.columns)\n",
    "print(df2.columns)\n",
    "print(df3.columns)"
   ]
  },
  {
   "cell_type": "code",
   "execution_count": 231,
   "metadata": {},
   "outputs": [],
   "source": [
    "# delete unneeded columns\n",
    "df = df.drop(['Index','Origin Channel', 'Category', 'Sub-Category'], axis=1)\n",
    "df1 = df1.drop(['Customer Name'], axis=1)\n",
    "df2 = df2.drop(['Row ID', 'Order Date'], axis=1)"
   ]
  },
  {
   "cell_type": "code",
   "execution_count": 248,
   "metadata": {},
   "outputs": [
    {
     "name": "stdout",
     "output_type": "stream",
     "text": [
      "df= (9994, 15)\n",
      "df1= (333, 2)\n",
      "df2= (5899, 3)\n",
      "df3= (290, 3)\n"
     ]
    }
   ],
   "source": [
    "# check the number of rows and columns\n",
    "print('df=',df.shape)\n",
    "print('df1=',df1.shape)\n",
    "print('df2=',df2.shape)\n",
    "print('df3=',df3.shape)"
   ]
  },
  {
   "cell_type": "code",
   "execution_count": 242,
   "metadata": {},
   "outputs": [
    {
     "name": "stdout",
     "output_type": "stream",
     "text": [
      "df= False    9993\n",
      "True        1\n",
      "Name: count, dtype: int64\n",
      "------------------------------\n",
      "df1= False    333\n",
      "Name: count, dtype: int64\n",
      "------------------------------\n",
      "df2= False    3003\n",
      "True     2896\n",
      "Name: count, dtype: int64\n",
      "------------------------------\n",
      "df3= False    204\n",
      "True      86\n",
      "Name: count, dtype: int64\n"
     ]
    }
   ],
   "source": [
    "# check for duplicates\n",
    "print('df=',df.duplicated().value_counts())\n",
    "print('-' * 30)\n",
    "print('df1=',df1.duplicated().value_counts())\n",
    "print('-' * 30)\n",
    "print('df2=',df2.duplicated().value_counts())\n",
    "print('-' * 30)\n",
    "print('df3=',df3.duplicated().value_counts())"
   ]
  },
  {
   "cell_type": "code",
   "execution_count": 244,
   "metadata": {},
   "outputs": [],
   "source": [
    "# drop the duplicates\n",
    "df_no_dups = df.drop_duplicates()\n",
    "df2_no_dups = df2.drop_duplicates()\n",
    "df3_no_dups = df3.drop_duplicates()"
   ]
  },
  {
   "cell_type": "code",
   "execution_count": 254,
   "metadata": {},
   "outputs": [
    {
     "name": "stdout",
     "output_type": "stream",
     "text": [
      "df_no_dups= (9993, 15)\n",
      "df1= (333, 2)\n",
      "df2_no_dups= (3003, 3)\n",
      "df3_no_dups= (204, 3)\n"
     ]
    }
   ],
   "source": [
    "# check the number of rows and columns\n",
    "print('df_no_dups=', df_no_dups.shape)\n",
    "print('df1=', df1.shape)\n",
    "print('df2_no_dups=', df2_no_dups.shape)\n",
    "print('df3_no_dups=', df3_no_dups.shape)"
   ]
  },
  {
   "cell_type": "code",
   "execution_count": 259,
   "metadata": {},
   "outputs": [
    {
     "name": "stdout",
     "output_type": "stream",
     "text": [
      "Index(['Order ID', 'Order Date', 'Ship Mode', 'Customer ID', 'Customer Name',\n",
      "       'Country/Region', 'City', 'State', 'Postal Code', 'Region',\n",
      "       'Product ID', 'Sales', 'Quantity', 'Discount', 'Profit'],\n",
      "      dtype='object')\n",
      "Index(['Order ID', 'Arrival Scan Date'], dtype='object')\n",
      "Index(['Order ID', 'On Truck Scan Date', 'Ship Mode'], dtype='object')\n",
      "Index(['Order ID', 'Ready to Ship Date', 'Pickup Date'], dtype='object')\n"
     ]
    }
   ],
   "source": [
    "# check the df headers and decide what to merge with what\n",
    "print(df_no_dups.columns)\n",
    "print(df1.columns)\n",
    "print(df2_no_dups.columns)\n",
    "print(df3_no_dups.columns)"
   ]
  },
  {
   "cell_type": "markdown",
   "metadata": {},
   "source": [
    "We have to calculate and validate the company assumptions:\n",
    "1. Preparation process duration from order reception to shipping (2 days): 'Order Date' - 'Ready to Ship Day' (merge df and df3)\n",
    "2. Duration of process from \"Ready to Ship\" to \"on Truck\" (1 day for normal, 0 days for express): merge df2 and df3\n",
    "3. Efficacy of \"Express Processing\": the order ought to be on the truck on the ready to ship day\n",
    "4. From \"Delivery\" to \"Order Delivered\"\n",
    "\n",
    "...and get image of the whole delivery process duration: from 'Order Date' to 'Arrival Scan Date' (merge df and df2)\n",
    "\n"
   ]
  },
  {
   "cell_type": "markdown",
   "metadata": {},
   "source": [
    "1. preparation process duration verification"
   ]
  },
  {
   "cell_type": "code",
   "execution_count": 313,
   "metadata": {},
   "outputs": [],
   "source": [
    "# merge df and df3\n",
    "\n",
    "df_prep_dur_ver = pd.merge(df_no_dups, df3_no_dups, on='Order ID', how='inner')"
   ]
  },
  {
   "cell_type": "code",
   "execution_count": 314,
   "metadata": {},
   "outputs": [
    {
     "data": {
      "text/plain": [
       "Index(['Order ID', 'Order Date', 'Ship Mode', 'Customer ID', 'Customer Name',\n",
       "       'Country/Region', 'City', 'State', 'Postal Code', 'Region',\n",
       "       'Product ID', 'Sales', 'Quantity', 'Discount', 'Profit',\n",
       "       'Ready to Ship Date', 'Pickup Date'],\n",
       "      dtype='object')"
      ]
     },
     "execution_count": 314,
     "metadata": {},
     "output_type": "execute_result"
    }
   ],
   "source": [
    "# verify the headers of the merged dataframe\n",
    "\n",
    "df_prep_dur_ver.columns"
   ]
  },
  {
   "cell_type": "code",
   "execution_count": 315,
   "metadata": {},
   "outputs": [],
   "source": [
    "# delete unneeded columns\n",
    "\n",
    "df_prep_dur_ver = df_prep_dur_ver.drop(['Country/Region', 'City', 'State', \n",
    "                                        'Postal Code', 'Region', 'Product ID', \n",
    "                                        'Sales', 'Quantity', 'Discount', 'Profit'], axis=1)"
   ]
  },
  {
   "cell_type": "code",
   "execution_count": 316,
   "metadata": {},
   "outputs": [
    {
     "data": {
      "text/html": [
       "<div>\n",
       "<style scoped>\n",
       "    .dataframe tbody tr th:only-of-type {\n",
       "        vertical-align: middle;\n",
       "    }\n",
       "\n",
       "    .dataframe tbody tr th {\n",
       "        vertical-align: top;\n",
       "    }\n",
       "\n",
       "    .dataframe thead th {\n",
       "        text-align: right;\n",
       "    }\n",
       "</style>\n",
       "<table border=\"1\" class=\"dataframe\">\n",
       "  <thead>\n",
       "    <tr style=\"text-align: right;\">\n",
       "      <th></th>\n",
       "      <th>Order ID</th>\n",
       "      <th>Order Date</th>\n",
       "      <th>Ship Mode</th>\n",
       "      <th>Customer ID</th>\n",
       "      <th>Customer Name</th>\n",
       "      <th>Ready to Ship Date</th>\n",
       "      <th>Pickup Date</th>\n",
       "    </tr>\n",
       "  </thead>\n",
       "  <tbody>\n",
       "    <tr>\n",
       "      <th>330</th>\n",
       "      <td>CA-2020-142090</td>\n",
       "      <td>2020-11-30</td>\n",
       "      <td>Standard Class</td>\n",
       "      <td>SC-20380</td>\n",
       "      <td>Shahid Collister</td>\n",
       "      <td>2020-12-07</td>\n",
       "      <td>2020-12-09</td>\n",
       "    </tr>\n",
       "    <tr>\n",
       "      <th>28</th>\n",
       "      <td>CA-2020-102610</td>\n",
       "      <td>2020-11-04</td>\n",
       "      <td>Standard Class</td>\n",
       "      <td>CA-12265</td>\n",
       "      <td>Christina Anderson</td>\n",
       "      <td>2020-11-09</td>\n",
       "      <td>2020-11-12</td>\n",
       "    </tr>\n",
       "    <tr>\n",
       "      <th>261</th>\n",
       "      <td>CA-2019-163202</td>\n",
       "      <td>2019-09-27</td>\n",
       "      <td>Standard Class</td>\n",
       "      <td>BM-11650</td>\n",
       "      <td>Brian Moss</td>\n",
       "      <td>2019-10-02</td>\n",
       "      <td>2019-10-04</td>\n",
       "    </tr>\n",
       "    <tr>\n",
       "      <th>139</th>\n",
       "      <td>CA-2020-122700</td>\n",
       "      <td>2020-11-26</td>\n",
       "      <td>Standard Class</td>\n",
       "      <td>LT-17110</td>\n",
       "      <td>Liz Thompson</td>\n",
       "      <td>2020-11-30</td>\n",
       "      <td>2020-12-02</td>\n",
       "    </tr>\n",
       "    <tr>\n",
       "      <th>396</th>\n",
       "      <td>CA-2019-129630</td>\n",
       "      <td>2019-09-04</td>\n",
       "      <td>First Class</td>\n",
       "      <td>IM-15055</td>\n",
       "      <td>Ionia McGrath</td>\n",
       "      <td>2019-09-04</td>\n",
       "      <td>2019-09-04</td>\n",
       "    </tr>\n",
       "    <tr>\n",
       "      <th>65</th>\n",
       "      <td>CA-2020-150959</td>\n",
       "      <td>2020-11-11</td>\n",
       "      <td>First Class</td>\n",
       "      <td>TD-20995</td>\n",
       "      <td>Tamara Dahlen</td>\n",
       "      <td>2020-11-13</td>\n",
       "      <td>2020-11-13</td>\n",
       "    </tr>\n",
       "    <tr>\n",
       "      <th>340</th>\n",
       "      <td>CA-2019-102981</td>\n",
       "      <td>2019-09-06</td>\n",
       "      <td>Second Class</td>\n",
       "      <td>MO-17500</td>\n",
       "      <td>Mary O'Rourke</td>\n",
       "      <td>2019-09-09</td>\n",
       "      <td>2019-09-11</td>\n",
       "    </tr>\n",
       "    <tr>\n",
       "      <th>310</th>\n",
       "      <td>CA-2020-123701</td>\n",
       "      <td>2020-11-24</td>\n",
       "      <td>First Class</td>\n",
       "      <td>PG-18820</td>\n",
       "      <td>Patrick Gardner</td>\n",
       "      <td>2020-11-27</td>\n",
       "      <td>2020-11-27</td>\n",
       "    </tr>\n",
       "    <tr>\n",
       "      <th>60</th>\n",
       "      <td>CA-2019-106950</td>\n",
       "      <td>2019-09-02</td>\n",
       "      <td>Standard Class</td>\n",
       "      <td>JE-15715</td>\n",
       "      <td>Joe Elijah</td>\n",
       "      <td>2019-09-06</td>\n",
       "      <td>2019-09-09</td>\n",
       "    </tr>\n",
       "    <tr>\n",
       "      <th>162</th>\n",
       "      <td>US-2020-118598</td>\n",
       "      <td>2020-11-16</td>\n",
       "      <td>First Class</td>\n",
       "      <td>CM-12190</td>\n",
       "      <td>Charlotte Melton</td>\n",
       "      <td>2020-11-16</td>\n",
       "      <td>2020-11-16</td>\n",
       "    </tr>\n",
       "  </tbody>\n",
       "</table>\n",
       "</div>"
      ],
      "text/plain": [
       "           Order ID Order Date       Ship Mode Customer ID  \\\n",
       "330  CA-2020-142090 2020-11-30  Standard Class    SC-20380   \n",
       "28   CA-2020-102610 2020-11-04  Standard Class    CA-12265   \n",
       "261  CA-2019-163202 2019-09-27  Standard Class    BM-11650   \n",
       "139  CA-2020-122700 2020-11-26  Standard Class    LT-17110   \n",
       "396  CA-2019-129630 2019-09-04     First Class    IM-15055   \n",
       "65   CA-2020-150959 2020-11-11     First Class    TD-20995   \n",
       "340  CA-2019-102981 2019-09-06    Second Class    MO-17500   \n",
       "310  CA-2020-123701 2020-11-24     First Class    PG-18820   \n",
       "60   CA-2019-106950 2019-09-02  Standard Class    JE-15715   \n",
       "162  US-2020-118598 2020-11-16     First Class    CM-12190   \n",
       "\n",
       "          Customer Name Ready to Ship Date Pickup Date  \n",
       "330    Shahid Collister         2020-12-07  2020-12-09  \n",
       "28   Christina Anderson         2020-11-09  2020-11-12  \n",
       "261          Brian Moss         2019-10-02  2019-10-04  \n",
       "139        Liz Thompson         2020-11-30  2020-12-02  \n",
       "396       Ionia McGrath         2019-09-04  2019-09-04  \n",
       "65        Tamara Dahlen         2020-11-13  2020-11-13  \n",
       "340       Mary O'Rourke         2019-09-09  2019-09-11  \n",
       "310     Patrick Gardner         2020-11-27  2020-11-27  \n",
       "60           Joe Elijah         2019-09-06  2019-09-09  \n",
       "162    Charlotte Melton         2020-11-16  2020-11-16  "
      ]
     },
     "execution_count": 316,
     "metadata": {},
     "output_type": "execute_result"
    }
   ],
   "source": [
    "# verify\n",
    "\n",
    "df_prep_dur_ver.sample(10)"
   ]
  },
  {
   "cell_type": "code",
   "execution_count": 317,
   "metadata": {},
   "outputs": [
    {
     "data": {
      "text/plain": [
       "Order ID                      object\n",
       "Order Date            datetime64[ns]\n",
       "Ship Mode                     object\n",
       "Customer ID                   object\n",
       "Customer Name                 object\n",
       "Ready to Ship Date    datetime64[ns]\n",
       "Pickup Date           datetime64[ns]\n",
       "dtype: object"
      ]
     },
     "execution_count": 317,
     "metadata": {},
     "output_type": "execute_result"
    }
   ],
   "source": [
    "# check the type of data in the columns\n",
    "\n",
    "df_prep_dur_ver.dtypes"
   ]
  },
  {
   "cell_type": "code",
   "execution_count": 318,
   "metadata": {},
   "outputs": [],
   "source": [
    "# calculate the preparation duration and print it in a new column\n",
    "\n",
    "df_prep_dur_ver['prep duration'] = df_prep_dur_ver['Ready to Ship Date']-df_prep_dur_ver['Order Date']"
   ]
  },
  {
   "cell_type": "code",
   "execution_count": 319,
   "metadata": {},
   "outputs": [
    {
     "data": {
      "text/html": [
       "<div>\n",
       "<style scoped>\n",
       "    .dataframe tbody tr th:only-of-type {\n",
       "        vertical-align: middle;\n",
       "    }\n",
       "\n",
       "    .dataframe tbody tr th {\n",
       "        vertical-align: top;\n",
       "    }\n",
       "\n",
       "    .dataframe thead th {\n",
       "        text-align: right;\n",
       "    }\n",
       "</style>\n",
       "<table border=\"1\" class=\"dataframe\">\n",
       "  <thead>\n",
       "    <tr style=\"text-align: right;\">\n",
       "      <th></th>\n",
       "      <th>Order ID</th>\n",
       "      <th>Order Date</th>\n",
       "      <th>Ship Mode</th>\n",
       "      <th>Customer ID</th>\n",
       "      <th>Customer Name</th>\n",
       "      <th>Ready to Ship Date</th>\n",
       "      <th>Pickup Date</th>\n",
       "      <th>prep duration</th>\n",
       "    </tr>\n",
       "  </thead>\n",
       "  <tbody>\n",
       "    <tr>\n",
       "      <th>58</th>\n",
       "      <td>CA-2019-149783</td>\n",
       "      <td>2019-09-04</td>\n",
       "      <td>Second Class</td>\n",
       "      <td>DL-13315</td>\n",
       "      <td>Delfina Latchford</td>\n",
       "      <td>2019-09-09</td>\n",
       "      <td>2019-09-11</td>\n",
       "      <td>5 days</td>\n",
       "    </tr>\n",
       "    <tr>\n",
       "      <th>289</th>\n",
       "      <td>CA-2020-102925</td>\n",
       "      <td>2020-11-05</td>\n",
       "      <td>Second Class</td>\n",
       "      <td>CD-12280</td>\n",
       "      <td>Christina DeMoss</td>\n",
       "      <td>2020-11-10</td>\n",
       "      <td>2020-11-12</td>\n",
       "      <td>5 days</td>\n",
       "    </tr>\n",
       "    <tr>\n",
       "      <th>250</th>\n",
       "      <td>CA-2020-153654</td>\n",
       "      <td>2020-11-24</td>\n",
       "      <td>Second Class</td>\n",
       "      <td>MD-17860</td>\n",
       "      <td>Michael Dominguez</td>\n",
       "      <td>2020-11-26</td>\n",
       "      <td>2020-11-27</td>\n",
       "      <td>2 days</td>\n",
       "    </tr>\n",
       "    <tr>\n",
       "      <th>149</th>\n",
       "      <td>CA-2020-114258</td>\n",
       "      <td>2020-11-05</td>\n",
       "      <td>Second Class</td>\n",
       "      <td>EM-13825</td>\n",
       "      <td>Elizabeth Moffitt</td>\n",
       "      <td>2020-11-10</td>\n",
       "      <td>2020-11-12</td>\n",
       "      <td>5 days</td>\n",
       "    </tr>\n",
       "    <tr>\n",
       "      <th>292</th>\n",
       "      <td>CA-2020-121818</td>\n",
       "      <td>2020-11-20</td>\n",
       "      <td>First Class</td>\n",
       "      <td>JH-15430</td>\n",
       "      <td>Jennifer Halladay</td>\n",
       "      <td>2020-11-23</td>\n",
       "      <td>2020-11-23</td>\n",
       "      <td>3 days</td>\n",
       "    </tr>\n",
       "    <tr>\n",
       "      <th>356</th>\n",
       "      <td>US-2020-110576</td>\n",
       "      <td>2020-11-28</td>\n",
       "      <td>Standard Class</td>\n",
       "      <td>RB-19795</td>\n",
       "      <td>Ross Baird</td>\n",
       "      <td>2020-12-04</td>\n",
       "      <td>2020-12-07</td>\n",
       "      <td>6 days</td>\n",
       "    </tr>\n",
       "    <tr>\n",
       "      <th>253</th>\n",
       "      <td>US-2020-136707</td>\n",
       "      <td>2020-11-12</td>\n",
       "      <td>First Class</td>\n",
       "      <td>JE-15610</td>\n",
       "      <td>Jim Epp</td>\n",
       "      <td>2020-11-16</td>\n",
       "      <td>2020-11-16</td>\n",
       "      <td>4 days</td>\n",
       "    </tr>\n",
       "    <tr>\n",
       "      <th>354</th>\n",
       "      <td>CA-2020-135307</td>\n",
       "      <td>2020-11-26</td>\n",
       "      <td>First Class</td>\n",
       "      <td>LS-17245</td>\n",
       "      <td>Lynn Smith</td>\n",
       "      <td>2020-11-27</td>\n",
       "      <td>2020-11-27</td>\n",
       "      <td>1 days</td>\n",
       "    </tr>\n",
       "    <tr>\n",
       "      <th>321</th>\n",
       "      <td>US-2020-145597</td>\n",
       "      <td>2020-11-02</td>\n",
       "      <td>First Class</td>\n",
       "      <td>GG-14650</td>\n",
       "      <td>Greg Guthrie</td>\n",
       "      <td>2020-11-05</td>\n",
       "      <td>2020-11-06</td>\n",
       "      <td>3 days</td>\n",
       "    </tr>\n",
       "    <tr>\n",
       "      <th>247</th>\n",
       "      <td>CA-2019-116540</td>\n",
       "      <td>2019-09-02</td>\n",
       "      <td>First Class</td>\n",
       "      <td>SS-20590</td>\n",
       "      <td>Sonia Sunley</td>\n",
       "      <td>2019-09-02</td>\n",
       "      <td>2019-09-03</td>\n",
       "      <td>0 days</td>\n",
       "    </tr>\n",
       "  </tbody>\n",
       "</table>\n",
       "</div>"
      ],
      "text/plain": [
       "           Order ID Order Date       Ship Mode Customer ID      Customer Name  \\\n",
       "58   CA-2019-149783 2019-09-04    Second Class    DL-13315  Delfina Latchford   \n",
       "289  CA-2020-102925 2020-11-05    Second Class    CD-12280   Christina DeMoss   \n",
       "250  CA-2020-153654 2020-11-24    Second Class    MD-17860  Michael Dominguez   \n",
       "149  CA-2020-114258 2020-11-05    Second Class    EM-13825  Elizabeth Moffitt   \n",
       "292  CA-2020-121818 2020-11-20     First Class    JH-15430  Jennifer Halladay   \n",
       "356  US-2020-110576 2020-11-28  Standard Class    RB-19795         Ross Baird   \n",
       "253  US-2020-136707 2020-11-12     First Class    JE-15610            Jim Epp   \n",
       "354  CA-2020-135307 2020-11-26     First Class    LS-17245         Lynn Smith   \n",
       "321  US-2020-145597 2020-11-02     First Class    GG-14650       Greg Guthrie   \n",
       "247  CA-2019-116540 2019-09-02     First Class    SS-20590       Sonia Sunley   \n",
       "\n",
       "    Ready to Ship Date Pickup Date prep duration  \n",
       "58          2019-09-09  2019-09-11        5 days  \n",
       "289         2020-11-10  2020-11-12        5 days  \n",
       "250         2020-11-26  2020-11-27        2 days  \n",
       "149         2020-11-10  2020-11-12        5 days  \n",
       "292         2020-11-23  2020-11-23        3 days  \n",
       "356         2020-12-04  2020-12-07        6 days  \n",
       "253         2020-11-16  2020-11-16        4 days  \n",
       "354         2020-11-27  2020-11-27        1 days  \n",
       "321         2020-11-05  2020-11-06        3 days  \n",
       "247         2019-09-02  2019-09-03        0 days  "
      ]
     },
     "execution_count": 319,
     "metadata": {},
     "output_type": "execute_result"
    }
   ],
   "source": [
    "# verify\n",
    "\n",
    "df_prep_dur_ver.sample(10)"
   ]
  },
  {
   "cell_type": "code",
   "execution_count": 320,
   "metadata": {},
   "outputs": [
    {
     "data": {
      "text/plain": [
       "dtype('<m8[ns]')"
      ]
     },
     "execution_count": 320,
     "metadata": {},
     "output_type": "execute_result"
    }
   ],
   "source": [
    "# check thet data type\n",
    "\n",
    "df_prep_dur_ver['prep duration'].dtype"
   ]
  },
  {
   "cell_type": "markdown",
   "metadata": {},
   "source": [
    "what?...\n",
    "\n",
    "dtype('<m8[ns]') indicates that the data type of the object is a datetime64, representing date and time information with nanosecond precision.\n",
    "\n",
    "ok, now I get it!"
   ]
  },
  {
   "cell_type": "code",
   "execution_count": 321,
   "metadata": {},
   "outputs": [
    {
     "name": "stdout",
     "output_type": "stream",
     "text": [
      "4 days 4 hours\n"
     ]
    }
   ],
   "source": [
    "# calculate the mean prep duration\n",
    "mean_duration_days = df_prep_dur_ver['prep duration'].mean()\n",
    "\n",
    "# Round the mean duration to the nearest days and hours\n",
    "rounded_duration = mean_duration_days.round('h')  # Round to the nearest hour\n",
    "\n",
    "# Convert the rounded duration to days and hours\n",
    "rounded_days = rounded_duration.days\n",
    "rounded_hours = rounded_duration.seconds // 3600  # Convert seconds to hours\n",
    "\n",
    "print(f\"{rounded_days} days {rounded_hours} hours\")"
   ]
  },
  {
   "cell_type": "markdown",
   "metadata": {},
   "source": [
    "that's way more than the claimed preparation duration!"
   ]
  },
  {
   "cell_type": "code",
   "execution_count": null,
   "metadata": {},
   "outputs": [],
   "source": []
  },
  {
   "cell_type": "markdown",
   "metadata": {},
   "source": [
    "2. Duration of process from \"Ready to Ship\" to \"on Truck\" (1 day for normal, 0 days for express): merge df2 and df3\n"
   ]
  },
  {
   "cell_type": "code",
   "execution_count": 323,
   "metadata": {},
   "outputs": [],
   "source": [
    "# merge df2 and df3\n",
    "\n",
    "df_dur_readytoship_truck = pd.merge(df2_no_dups, df3_no_dups, on='Order ID', how='inner')"
   ]
  },
  {
   "cell_type": "code",
   "execution_count": 309,
   "metadata": {},
   "outputs": [
    {
     "data": {
      "text/html": [
       "<div>\n",
       "<style scoped>\n",
       "    .dataframe tbody tr th:only-of-type {\n",
       "        vertical-align: middle;\n",
       "    }\n",
       "\n",
       "    .dataframe tbody tr th {\n",
       "        vertical-align: top;\n",
       "    }\n",
       "\n",
       "    .dataframe thead th {\n",
       "        text-align: right;\n",
       "    }\n",
       "</style>\n",
       "<table border=\"1\" class=\"dataframe\">\n",
       "  <thead>\n",
       "    <tr style=\"text-align: right;\">\n",
       "      <th></th>\n",
       "      <th>Order ID</th>\n",
       "      <th>On Truck Scan Date</th>\n",
       "      <th>Ship Mode</th>\n",
       "      <th>Ready to Ship Date</th>\n",
       "      <th>Pickup Date</th>\n",
       "    </tr>\n",
       "  </thead>\n",
       "  <tbody>\n",
       "    <tr>\n",
       "      <th>47</th>\n",
       "      <td>CA-2019-168557</td>\n",
       "      <td>2019-09-25</td>\n",
       "      <td>Standard Processing</td>\n",
       "      <td>2019-09-23</td>\n",
       "      <td>2019-09-25</td>\n",
       "    </tr>\n",
       "    <tr>\n",
       "      <th>128</th>\n",
       "      <td>CA-2020-122644</td>\n",
       "      <td>2020-11-18</td>\n",
       "      <td>Standard Processing</td>\n",
       "      <td>2020-11-17</td>\n",
       "      <td>2020-11-18</td>\n",
       "    </tr>\n",
       "    <tr>\n",
       "      <th>123</th>\n",
       "      <td>CA-2020-104640</td>\n",
       "      <td>2020-11-18</td>\n",
       "      <td>Standard Processing</td>\n",
       "      <td>2020-11-16</td>\n",
       "      <td>2020-11-18</td>\n",
       "    </tr>\n",
       "    <tr>\n",
       "      <th>181</th>\n",
       "      <td>CA-2020-155159</td>\n",
       "      <td>2020-12-02</td>\n",
       "      <td>Standard Processing</td>\n",
       "      <td>2020-11-30</td>\n",
       "      <td>2020-12-02</td>\n",
       "    </tr>\n",
       "    <tr>\n",
       "      <th>74</th>\n",
       "      <td>CA-2020-153339</td>\n",
       "      <td>2020-11-06</td>\n",
       "      <td>Standard Processing</td>\n",
       "      <td>2020-11-05</td>\n",
       "      <td>2020-11-06</td>\n",
       "    </tr>\n",
       "    <tr>\n",
       "      <th>72</th>\n",
       "      <td>US-2020-163790</td>\n",
       "      <td>2020-11-06</td>\n",
       "      <td>Standard Processing</td>\n",
       "      <td>2020-11-04</td>\n",
       "      <td>2020-11-06</td>\n",
       "    </tr>\n",
       "    <tr>\n",
       "      <th>120</th>\n",
       "      <td>CA-2020-155621</td>\n",
       "      <td>2020-11-18</td>\n",
       "      <td>Standard Processing</td>\n",
       "      <td>2020-11-16</td>\n",
       "      <td>2020-11-18</td>\n",
       "    </tr>\n",
       "    <tr>\n",
       "      <th>9</th>\n",
       "      <td>CA-2019-106950</td>\n",
       "      <td>2019-09-09</td>\n",
       "      <td>Standard Processing</td>\n",
       "      <td>2019-09-06</td>\n",
       "      <td>2019-09-09</td>\n",
       "    </tr>\n",
       "    <tr>\n",
       "      <th>151</th>\n",
       "      <td>CA-2020-157448</td>\n",
       "      <td>2020-11-23</td>\n",
       "      <td>Standard Processing</td>\n",
       "      <td>2020-11-20</td>\n",
       "      <td>2020-11-23</td>\n",
       "    </tr>\n",
       "    <tr>\n",
       "      <th>179</th>\n",
       "      <td>CA-2020-119746</td>\n",
       "      <td>2020-11-30</td>\n",
       "      <td>Standard Processing</td>\n",
       "      <td>2020-11-27</td>\n",
       "      <td>2020-11-30</td>\n",
       "    </tr>\n",
       "  </tbody>\n",
       "</table>\n",
       "</div>"
      ],
      "text/plain": [
       "           Order ID On Truck Scan Date            Ship Mode  \\\n",
       "47   CA-2019-168557         2019-09-25  Standard Processing   \n",
       "128  CA-2020-122644         2020-11-18  Standard Processing   \n",
       "123  CA-2020-104640         2020-11-18  Standard Processing   \n",
       "181  CA-2020-155159         2020-12-02  Standard Processing   \n",
       "74   CA-2020-153339         2020-11-06  Standard Processing   \n",
       "72   US-2020-163790         2020-11-06  Standard Processing   \n",
       "120  CA-2020-155621         2020-11-18  Standard Processing   \n",
       "9    CA-2019-106950         2019-09-09  Standard Processing   \n",
       "151  CA-2020-157448         2020-11-23  Standard Processing   \n",
       "179  CA-2020-119746         2020-11-30  Standard Processing   \n",
       "\n",
       "    Ready to Ship Date Pickup Date  \n",
       "47          2019-09-23  2019-09-25  \n",
       "128         2020-11-17  2020-11-18  \n",
       "123         2020-11-16  2020-11-18  \n",
       "181         2020-11-30  2020-12-02  \n",
       "74          2020-11-05  2020-11-06  \n",
       "72          2020-11-04  2020-11-06  \n",
       "120         2020-11-16  2020-11-18  \n",
       "9           2019-09-06  2019-09-09  \n",
       "151         2020-11-20  2020-11-23  \n",
       "179         2020-11-27  2020-11-30  "
      ]
     },
     "execution_count": 309,
     "metadata": {},
     "output_type": "execute_result"
    }
   ],
   "source": [
    "# verify the merged dataframe\n",
    "\n",
    "df_dur_readytoship_truck.sample(10)"
   ]
  },
  {
   "cell_type": "code",
   "execution_count": 325,
   "metadata": {},
   "outputs": [],
   "source": [
    "# calculate the duration of the process from \"Ready to Ship\" to \"on Truck\"  and print it in a new column\n",
    "\n",
    "df_dur_readytoship_truck['ship to truck'] = df_dur_readytoship_truck['On Truck Scan Date']-df_dur_readytoship_truck['Ready to Ship Date']"
   ]
  },
  {
   "cell_type": "code",
   "execution_count": 327,
   "metadata": {},
   "outputs": [
    {
     "data": {
      "text/html": [
       "<div>\n",
       "<style scoped>\n",
       "    .dataframe tbody tr th:only-of-type {\n",
       "        vertical-align: middle;\n",
       "    }\n",
       "\n",
       "    .dataframe tbody tr th {\n",
       "        vertical-align: top;\n",
       "    }\n",
       "\n",
       "    .dataframe thead th {\n",
       "        text-align: right;\n",
       "    }\n",
       "</style>\n",
       "<table border=\"1\" class=\"dataframe\">\n",
       "  <thead>\n",
       "    <tr style=\"text-align: right;\">\n",
       "      <th></th>\n",
       "      <th>Order ID</th>\n",
       "      <th>On Truck Scan Date</th>\n",
       "      <th>Ship Mode</th>\n",
       "      <th>Ready to Ship Date</th>\n",
       "      <th>Pickup Date</th>\n",
       "      <th>ship to truck</th>\n",
       "    </tr>\n",
       "  </thead>\n",
       "  <tbody>\n",
       "    <tr>\n",
       "      <th>30</th>\n",
       "      <td>CA-2019-121223</td>\n",
       "      <td>2019-09-16</td>\n",
       "      <td>Standard Processing</td>\n",
       "      <td>2019-09-13</td>\n",
       "      <td>2019-09-16</td>\n",
       "      <td>3 days</td>\n",
       "    </tr>\n",
       "    <tr>\n",
       "      <th>25</th>\n",
       "      <td>CA-2019-149223</td>\n",
       "      <td>2019-09-13</td>\n",
       "      <td>Standard Processing</td>\n",
       "      <td>2019-09-11</td>\n",
       "      <td>2019-09-13</td>\n",
       "      <td>2 days</td>\n",
       "    </tr>\n",
       "    <tr>\n",
       "      <th>41</th>\n",
       "      <td>CA-2019-158610</td>\n",
       "      <td>2019-09-23</td>\n",
       "      <td>Express</td>\n",
       "      <td>2019-09-23</td>\n",
       "      <td>2019-09-23</td>\n",
       "      <td>0 days</td>\n",
       "    </tr>\n",
       "    <tr>\n",
       "      <th>6</th>\n",
       "      <td>CA-2019-106278</td>\n",
       "      <td>2019-09-06</td>\n",
       "      <td>Standard Processing</td>\n",
       "      <td>2019-09-05</td>\n",
       "      <td>2019-09-06</td>\n",
       "      <td>1 days</td>\n",
       "    </tr>\n",
       "    <tr>\n",
       "      <th>155</th>\n",
       "      <td>CA-2020-104864</td>\n",
       "      <td>2020-11-25</td>\n",
       "      <td>Standard Processing</td>\n",
       "      <td>2020-11-23</td>\n",
       "      <td>2020-11-25</td>\n",
       "      <td>2 days</td>\n",
       "    </tr>\n",
       "    <tr>\n",
       "      <th>77</th>\n",
       "      <td>CA-2020-163188</td>\n",
       "      <td>2020-11-09</td>\n",
       "      <td>Express</td>\n",
       "      <td>2020-11-09</td>\n",
       "      <td>2020-11-09</td>\n",
       "      <td>0 days</td>\n",
       "    </tr>\n",
       "    <tr>\n",
       "      <th>110</th>\n",
       "      <td>US-2020-118598</td>\n",
       "      <td>2020-11-16</td>\n",
       "      <td>Express</td>\n",
       "      <td>2020-11-16</td>\n",
       "      <td>2020-11-16</td>\n",
       "      <td>0 days</td>\n",
       "    </tr>\n",
       "    <tr>\n",
       "      <th>65</th>\n",
       "      <td>CA-2020-121160</td>\n",
       "      <td>2020-11-04</td>\n",
       "      <td>Express</td>\n",
       "      <td>2020-11-04</td>\n",
       "      <td>2020-11-04</td>\n",
       "      <td>0 days</td>\n",
       "    </tr>\n",
       "    <tr>\n",
       "      <th>63</th>\n",
       "      <td>CA-2019-106243</td>\n",
       "      <td>2019-10-07</td>\n",
       "      <td>Standard Processing</td>\n",
       "      <td>2019-10-04</td>\n",
       "      <td>2019-10-07</td>\n",
       "      <td>3 days</td>\n",
       "    </tr>\n",
       "    <tr>\n",
       "      <th>162</th>\n",
       "      <td>CA-2020-118122</td>\n",
       "      <td>2020-11-25</td>\n",
       "      <td>Standard Processing</td>\n",
       "      <td>2020-11-24</td>\n",
       "      <td>2020-11-25</td>\n",
       "      <td>1 days</td>\n",
       "    </tr>\n",
       "  </tbody>\n",
       "</table>\n",
       "</div>"
      ],
      "text/plain": [
       "           Order ID On Truck Scan Date            Ship Mode  \\\n",
       "30   CA-2019-121223         2019-09-16  Standard Processing   \n",
       "25   CA-2019-149223         2019-09-13  Standard Processing   \n",
       "41   CA-2019-158610         2019-09-23              Express   \n",
       "6    CA-2019-106278         2019-09-06  Standard Processing   \n",
       "155  CA-2020-104864         2020-11-25  Standard Processing   \n",
       "77   CA-2020-163188         2020-11-09              Express   \n",
       "110  US-2020-118598         2020-11-16              Express   \n",
       "65   CA-2020-121160         2020-11-04              Express   \n",
       "63   CA-2019-106243         2019-10-07  Standard Processing   \n",
       "162  CA-2020-118122         2020-11-25  Standard Processing   \n",
       "\n",
       "    Ready to Ship Date Pickup Date ship to truck  \n",
       "30          2019-09-13  2019-09-16        3 days  \n",
       "25          2019-09-11  2019-09-13        2 days  \n",
       "41          2019-09-23  2019-09-23        0 days  \n",
       "6           2019-09-05  2019-09-06        1 days  \n",
       "155         2020-11-23  2020-11-25        2 days  \n",
       "77          2020-11-09  2020-11-09        0 days  \n",
       "110         2020-11-16  2020-11-16        0 days  \n",
       "65          2020-11-04  2020-11-04        0 days  \n",
       "63          2019-10-04  2019-10-07        3 days  \n",
       "162         2020-11-24  2020-11-25        1 days  "
      ]
     },
     "execution_count": 327,
     "metadata": {},
     "output_type": "execute_result"
    }
   ],
   "source": [
    "# verify\n",
    "\n",
    "df_dur_readytoship_truck.sample(10)"
   ]
  },
  {
   "cell_type": "code",
   "execution_count": 328,
   "metadata": {},
   "outputs": [
    {
     "data": {
      "text/plain": [
       "Order ID                       object\n",
       "On Truck Scan Date     datetime64[ns]\n",
       "Ship Mode                      object\n",
       "Ready to Ship Date     datetime64[ns]\n",
       "Pickup Date            datetime64[ns]\n",
       "ship to truck         timedelta64[ns]\n",
       "dtype: object"
      ]
     },
     "execution_count": 328,
     "metadata": {},
     "output_type": "execute_result"
    }
   ],
   "source": [
    "# check the type of data in the columns\n",
    "\n",
    "df_dur_readytoship_truck.dtypes"
   ]
  },
  {
   "cell_type": "code",
   "execution_count": 340,
   "metadata": {},
   "outputs": [],
   "source": [
    "# filter for the standard processing\n",
    "\n",
    "df_dur_readytoship_truck_standard = df_dur_readytoship_truck[df_dur_readytoship_truck['Ship Mode']== 'Standard Processing']"
   ]
  },
  {
   "cell_type": "code",
   "execution_count": 341,
   "metadata": {},
   "outputs": [
    {
     "data": {
      "text/html": [
       "<div>\n",
       "<style scoped>\n",
       "    .dataframe tbody tr th:only-of-type {\n",
       "        vertical-align: middle;\n",
       "    }\n",
       "\n",
       "    .dataframe tbody tr th {\n",
       "        vertical-align: top;\n",
       "    }\n",
       "\n",
       "    .dataframe thead th {\n",
       "        text-align: right;\n",
       "    }\n",
       "</style>\n",
       "<table border=\"1\" class=\"dataframe\">\n",
       "  <thead>\n",
       "    <tr style=\"text-align: right;\">\n",
       "      <th></th>\n",
       "      <th>Order ID</th>\n",
       "      <th>On Truck Scan Date</th>\n",
       "      <th>Ship Mode</th>\n",
       "      <th>Ready to Ship Date</th>\n",
       "      <th>Pickup Date</th>\n",
       "      <th>ship to truck</th>\n",
       "    </tr>\n",
       "  </thead>\n",
       "  <tbody>\n",
       "    <tr>\n",
       "      <th>49</th>\n",
       "      <td>CA-2019-145611</td>\n",
       "      <td>2019-09-25</td>\n",
       "      <td>Standard Processing</td>\n",
       "      <td>2019-09-24</td>\n",
       "      <td>2019-09-25</td>\n",
       "      <td>1 days</td>\n",
       "    </tr>\n",
       "    <tr>\n",
       "      <th>94</th>\n",
       "      <td>CA-2020-159135</td>\n",
       "      <td>2020-11-12</td>\n",
       "      <td>Standard Processing</td>\n",
       "      <td>2020-11-09</td>\n",
       "      <td>2020-11-12</td>\n",
       "      <td>3 days</td>\n",
       "    </tr>\n",
       "    <tr>\n",
       "      <th>138</th>\n",
       "      <td>CA-2020-130386</td>\n",
       "      <td>2020-11-20</td>\n",
       "      <td>Standard Processing</td>\n",
       "      <td>2020-11-18</td>\n",
       "      <td>2020-11-20</td>\n",
       "      <td>2 days</td>\n",
       "    </tr>\n",
       "    <tr>\n",
       "      <th>95</th>\n",
       "      <td>CA-2020-157196</td>\n",
       "      <td>2020-11-12</td>\n",
       "      <td>Standard Processing</td>\n",
       "      <td>2020-11-09</td>\n",
       "      <td>2020-11-12</td>\n",
       "      <td>3 days</td>\n",
       "    </tr>\n",
       "    <tr>\n",
       "      <th>12</th>\n",
       "      <td>US-2019-147711</td>\n",
       "      <td>2019-09-11</td>\n",
       "      <td>Standard Processing</td>\n",
       "      <td>2019-09-09</td>\n",
       "      <td>2019-09-11</td>\n",
       "      <td>2 days</td>\n",
       "    </tr>\n",
       "    <tr>\n",
       "      <th>50</th>\n",
       "      <td>CA-2019-126284</td>\n",
       "      <td>2019-09-25</td>\n",
       "      <td>Standard Processing</td>\n",
       "      <td>2019-09-24</td>\n",
       "      <td>2019-09-25</td>\n",
       "      <td>1 days</td>\n",
       "    </tr>\n",
       "    <tr>\n",
       "      <th>29</th>\n",
       "      <td>CA-2019-112893</td>\n",
       "      <td>2019-09-16</td>\n",
       "      <td>Standard Processing</td>\n",
       "      <td>2019-09-13</td>\n",
       "      <td>2019-09-16</td>\n",
       "      <td>3 days</td>\n",
       "    </tr>\n",
       "    <tr>\n",
       "      <th>93</th>\n",
       "      <td>US-2020-122672</td>\n",
       "      <td>2020-11-12</td>\n",
       "      <td>Standard Processing</td>\n",
       "      <td>2020-11-09</td>\n",
       "      <td>2020-11-12</td>\n",
       "      <td>3 days</td>\n",
       "    </tr>\n",
       "    <tr>\n",
       "      <th>184</th>\n",
       "      <td>CA-2020-119004</td>\n",
       "      <td>2020-12-02</td>\n",
       "      <td>Standard Processing</td>\n",
       "      <td>2020-11-30</td>\n",
       "      <td>2020-12-02</td>\n",
       "      <td>2 days</td>\n",
       "    </tr>\n",
       "    <tr>\n",
       "      <th>20</th>\n",
       "      <td>CA-2019-131205</td>\n",
       "      <td>2019-09-11</td>\n",
       "      <td>Standard Processing</td>\n",
       "      <td>2019-09-09</td>\n",
       "      <td>2019-09-11</td>\n",
       "      <td>2 days</td>\n",
       "    </tr>\n",
       "  </tbody>\n",
       "</table>\n",
       "</div>"
      ],
      "text/plain": [
       "           Order ID On Truck Scan Date            Ship Mode  \\\n",
       "49   CA-2019-145611         2019-09-25  Standard Processing   \n",
       "94   CA-2020-159135         2020-11-12  Standard Processing   \n",
       "138  CA-2020-130386         2020-11-20  Standard Processing   \n",
       "95   CA-2020-157196         2020-11-12  Standard Processing   \n",
       "12   US-2019-147711         2019-09-11  Standard Processing   \n",
       "50   CA-2019-126284         2019-09-25  Standard Processing   \n",
       "29   CA-2019-112893         2019-09-16  Standard Processing   \n",
       "93   US-2020-122672         2020-11-12  Standard Processing   \n",
       "184  CA-2020-119004         2020-12-02  Standard Processing   \n",
       "20   CA-2019-131205         2019-09-11  Standard Processing   \n",
       "\n",
       "    Ready to Ship Date Pickup Date ship to truck  \n",
       "49          2019-09-24  2019-09-25        1 days  \n",
       "94          2020-11-09  2020-11-12        3 days  \n",
       "138         2020-11-18  2020-11-20        2 days  \n",
       "95          2020-11-09  2020-11-12        3 days  \n",
       "12          2019-09-09  2019-09-11        2 days  \n",
       "50          2019-09-24  2019-09-25        1 days  \n",
       "29          2019-09-13  2019-09-16        3 days  \n",
       "93          2020-11-09  2020-11-12        3 days  \n",
       "184         2020-11-30  2020-12-02        2 days  \n",
       "20          2019-09-09  2019-09-11        2 days  "
      ]
     },
     "execution_count": 341,
     "metadata": {},
     "output_type": "execute_result"
    }
   ],
   "source": [
    "# verify\n",
    "\n",
    "df_dur_readytoship_truck_standard.sample(10)"
   ]
  },
  {
   "cell_type": "code",
   "execution_count": 343,
   "metadata": {},
   "outputs": [
    {
     "name": "stdout",
     "output_type": "stream",
     "text": [
      "2 days 0 hours\n"
     ]
    }
   ],
   "source": [
    "# calculate the mean prep duration for the standard processing\n",
    "mean_to_truck_days_standard = df_dur_readytoship_truck_standard['ship to truck'].mean()\n",
    "\n",
    "# Round the mean duration to the nearest days and hours\n",
    "rounded_to_truck_dur_standard = mean_to_truck_days_standard.round('h')  # Round to the nearest hour\n",
    "\n",
    "# Convert the rounded duration to days and hours\n",
    "rounded_to_truck_days_standard = rounded_to_truck_dur_standard.days\n",
    "rounded_to_truck_hours_standard = rounded_to_truck_dur_standard.seconds // 3600  # Convert seconds to hours\n",
    "\n",
    "print(f\"{rounded_to_truck_days_standard} days {rounded_to_truck_hours_standard} hours\")"
   ]
  },
  {
   "cell_type": "markdown",
   "metadata": {},
   "source": [
    "...that's more than the claimed one day"
   ]
  },
  {
   "cell_type": "code",
   "execution_count": null,
   "metadata": {},
   "outputs": [],
   "source": []
  },
  {
   "cell_type": "markdown",
   "metadata": {},
   "source": [
    "3. Efficacy of \"Express Processing\": the order ought to be on the truck on the ready to ship day\n"
   ]
  },
  {
   "cell_type": "code",
   "execution_count": 345,
   "metadata": {},
   "outputs": [],
   "source": [
    "# filter for the express processing\n",
    "\n",
    "df_dur_readytoship_truck_xpress = df_dur_readytoship_truck[df_dur_readytoship_truck['Ship Mode']== 'Express']"
   ]
  },
  {
   "cell_type": "code",
   "execution_count": 346,
   "metadata": {},
   "outputs": [
    {
     "data": {
      "text/html": [
       "<div>\n",
       "<style scoped>\n",
       "    .dataframe tbody tr th:only-of-type {\n",
       "        vertical-align: middle;\n",
       "    }\n",
       "\n",
       "    .dataframe tbody tr th {\n",
       "        vertical-align: top;\n",
       "    }\n",
       "\n",
       "    .dataframe thead th {\n",
       "        text-align: right;\n",
       "    }\n",
       "</style>\n",
       "<table border=\"1\" class=\"dataframe\">\n",
       "  <thead>\n",
       "    <tr style=\"text-align: right;\">\n",
       "      <th></th>\n",
       "      <th>Order ID</th>\n",
       "      <th>On Truck Scan Date</th>\n",
       "      <th>Ship Mode</th>\n",
       "      <th>Ready to Ship Date</th>\n",
       "      <th>Pickup Date</th>\n",
       "      <th>ship to truck</th>\n",
       "    </tr>\n",
       "  </thead>\n",
       "  <tbody>\n",
       "    <tr>\n",
       "      <th>149</th>\n",
       "      <td>CA-2020-157420</td>\n",
       "      <td>2020-11-23</td>\n",
       "      <td>Express</td>\n",
       "      <td>2020-11-23</td>\n",
       "      <td>2020-11-23</td>\n",
       "      <td>0 days</td>\n",
       "    </tr>\n",
       "    <tr>\n",
       "      <th>110</th>\n",
       "      <td>US-2020-118598</td>\n",
       "      <td>2020-11-16</td>\n",
       "      <td>Express</td>\n",
       "      <td>2020-11-16</td>\n",
       "      <td>2020-11-16</td>\n",
       "      <td>0 days</td>\n",
       "    </tr>\n",
       "    <tr>\n",
       "      <th>3</th>\n",
       "      <td>CA-2019-158099</td>\n",
       "      <td>2019-09-06</td>\n",
       "      <td>Express</td>\n",
       "      <td>2019-09-05</td>\n",
       "      <td>2019-09-06</td>\n",
       "      <td>1 days</td>\n",
       "    </tr>\n",
       "    <tr>\n",
       "      <th>5</th>\n",
       "      <td>US-2019-101616</td>\n",
       "      <td>2019-09-06</td>\n",
       "      <td>Express</td>\n",
       "      <td>2019-09-06</td>\n",
       "      <td>2019-09-06</td>\n",
       "      <td>0 days</td>\n",
       "    </tr>\n",
       "    <tr>\n",
       "      <th>77</th>\n",
       "      <td>CA-2020-163188</td>\n",
       "      <td>2020-11-09</td>\n",
       "      <td>Express</td>\n",
       "      <td>2020-11-09</td>\n",
       "      <td>2020-11-09</td>\n",
       "      <td>0 days</td>\n",
       "    </tr>\n",
       "    <tr>\n",
       "      <th>23</th>\n",
       "      <td>CA-2019-143476</td>\n",
       "      <td>2019-09-13</td>\n",
       "      <td>Express</td>\n",
       "      <td>2019-09-13</td>\n",
       "      <td>2019-09-13</td>\n",
       "      <td>0 days</td>\n",
       "    </tr>\n",
       "    <tr>\n",
       "      <th>28</th>\n",
       "      <td>CA-2019-153157</td>\n",
       "      <td>2019-09-16</td>\n",
       "      <td>Express</td>\n",
       "      <td>2019-09-16</td>\n",
       "      <td>2019-09-16</td>\n",
       "      <td>0 days</td>\n",
       "    </tr>\n",
       "    <tr>\n",
       "      <th>148</th>\n",
       "      <td>CA-2020-111556</td>\n",
       "      <td>2020-11-23</td>\n",
       "      <td>Express</td>\n",
       "      <td>2020-11-23</td>\n",
       "      <td>2020-11-23</td>\n",
       "      <td>0 days</td>\n",
       "    </tr>\n",
       "    <tr>\n",
       "      <th>98</th>\n",
       "      <td>US-2020-116491</td>\n",
       "      <td>2020-11-13</td>\n",
       "      <td>Express</td>\n",
       "      <td>2020-11-13</td>\n",
       "      <td>2020-11-13</td>\n",
       "      <td>0 days</td>\n",
       "    </tr>\n",
       "    <tr>\n",
       "      <th>70</th>\n",
       "      <td>US-2020-153948</td>\n",
       "      <td>2020-11-06</td>\n",
       "      <td>Express</td>\n",
       "      <td>2020-11-06</td>\n",
       "      <td>2020-11-06</td>\n",
       "      <td>0 days</td>\n",
       "    </tr>\n",
       "  </tbody>\n",
       "</table>\n",
       "</div>"
      ],
      "text/plain": [
       "           Order ID On Truck Scan Date Ship Mode Ready to Ship Date  \\\n",
       "149  CA-2020-157420         2020-11-23   Express         2020-11-23   \n",
       "110  US-2020-118598         2020-11-16   Express         2020-11-16   \n",
       "3    CA-2019-158099         2019-09-06   Express         2019-09-05   \n",
       "5    US-2019-101616         2019-09-06   Express         2019-09-06   \n",
       "77   CA-2020-163188         2020-11-09   Express         2020-11-09   \n",
       "23   CA-2019-143476         2019-09-13   Express         2019-09-13   \n",
       "28   CA-2019-153157         2019-09-16   Express         2019-09-16   \n",
       "148  CA-2020-111556         2020-11-23   Express         2020-11-23   \n",
       "98   US-2020-116491         2020-11-13   Express         2020-11-13   \n",
       "70   US-2020-153948         2020-11-06   Express         2020-11-06   \n",
       "\n",
       "    Pickup Date ship to truck  \n",
       "149  2020-11-23        0 days  \n",
       "110  2020-11-16        0 days  \n",
       "3    2019-09-06        1 days  \n",
       "5    2019-09-06        0 days  \n",
       "77   2020-11-09        0 days  \n",
       "23   2019-09-13        0 days  \n",
       "28   2019-09-16        0 days  \n",
       "148  2020-11-23        0 days  \n",
       "98   2020-11-13        0 days  \n",
       "70   2020-11-06        0 days  "
      ]
     },
     "execution_count": 346,
     "metadata": {},
     "output_type": "execute_result"
    }
   ],
   "source": [
    "# verify\n",
    "\n",
    "df_dur_readytoship_truck_xpress.sample(10)"
   ]
  },
  {
   "cell_type": "code",
   "execution_count": 347,
   "metadata": {},
   "outputs": [
    {
     "name": "stdout",
     "output_type": "stream",
     "text": [
      "0 days 10 hours\n"
     ]
    }
   ],
   "source": [
    "# calculate the mean prep duration for the express processing\n",
    "mean_to_truck_days_xpress = df_dur_readytoship_truck_xpress['ship to truck'].mean()\n",
    "\n",
    "# Round the mean duration to the nearest days and hours\n",
    "rounded_to_truck_dur_xpress = mean_to_truck_days_xpress.round('h')  # Round to the nearest hour\n",
    "\n",
    "# Convert the rounded duration to days and hours\n",
    "rounded_to_truck_days_xpress = rounded_to_truck_dur_xpress.days\n",
    "rounded_to_truck_hours_xpress = rounded_to_truck_dur_xpress.seconds // 3600  # Convert seconds to hours\n",
    "\n",
    "print(f\"{rounded_to_truck_days_xpress} days {rounded_to_truck_hours_xpress} hours\")"
   ]
  },
  {
   "cell_type": "markdown",
   "metadata": {},
   "source": [
    "no comments"
   ]
  },
  {
   "cell_type": "code",
   "execution_count": null,
   "metadata": {},
   "outputs": [],
   "source": []
  },
  {
   "cell_type": "markdown",
   "metadata": {},
   "source": [
    "4. From \"Delivery\" to \"Order Delivered\"\n"
   ]
  },
  {
   "cell_type": "code",
   "execution_count": null,
   "metadata": {},
   "outputs": [],
   "source": []
  },
  {
   "cell_type": "markdown",
   "metadata": {},
   "source": [
    "\n",
    "...and get image of the whole delivery process duration: from 'Order Date' to 'Arrival Scan Date' (merge df and df2)"
   ]
  },
  {
   "cell_type": "code",
   "execution_count": null,
   "metadata": {},
   "outputs": [],
   "source": []
  },
  {
   "cell_type": "code",
   "execution_count": null,
   "metadata": {},
   "outputs": [],
   "source": []
  },
  {
   "cell_type": "code",
   "execution_count": null,
   "metadata": {},
   "outputs": [],
   "source": []
  },
  {
   "cell_type": "code",
   "execution_count": 214,
   "metadata": {},
   "outputs": [],
   "source": [
    "#merge the dataframes\n",
    "merged_df = pd.merge(df, df1, on='Order ID', how='inner')\n",
    "merged_df1 = pd.merge(merged_df, df2_red_no_dups, on='Order ID', how='inner')\n",
    "merged_df2 = pd.merge(merged_df1, df3_no_dups, on='Order ID', how='inner')"
   ]
  },
  {
   "cell_type": "code",
   "execution_count": 219,
   "metadata": {},
   "outputs": [
    {
     "data": {
      "text/plain": [
       "(41, 26)"
      ]
     },
     "execution_count": 219,
     "metadata": {},
     "output_type": "execute_result"
    }
   ],
   "source": [
    "# merge the dataframes with the 'reduce' function\n",
    "dfs = [df, df1, df2_red_no_dups, df3_no_dups]\n",
    "\n",
    "merged_df_red = reduce(lambda left, right: pd.merge(left, right, on='Order ID', how='inner'), dfs)\n",
    "\n",
    "merged_df_red.shape"
   ]
  }
 ],
 "metadata": {
  "kernelspec": {
   "display_name": "nf_base",
   "language": "python",
   "name": "python3"
  },
  "language_info": {
   "codemirror_mode": {
    "name": "ipython",
    "version": 3
   },
   "file_extension": ".py",
   "mimetype": "text/x-python",
   "name": "python",
   "nbconvert_exporter": "python",
   "pygments_lexer": "ipython3",
   "version": "3.9.19"
  }
 },
 "nbformat": 4,
 "nbformat_minor": 2
}
