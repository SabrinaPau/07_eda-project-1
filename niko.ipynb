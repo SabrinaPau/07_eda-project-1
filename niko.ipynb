{
 "cells": [
  {
   "cell_type": "code",
   "execution_count": null,
   "metadata": {},
   "outputs": [],
   "source": [
    "import pandas as pd\n",
    "import matplotlib.pyplot as plt\n",
    "import seaborn as sns\n",
    "from functools import reduce\n"
   ]
  },
  {
   "cell_type": "code",
   "execution_count": null,
   "metadata": {},
   "outputs": [],
   "source": [
    "# read all the worksheets form the data excel file\n",
    "df = pd.read_excel('data/Muesli Project raw data - group 3.xlsx', header=1)\n",
    "df1 = pd.read_excel('data/Muesli Project raw data - group 3.xlsx',sheet_name=1)\n",
    "df2 = pd.read_excel('data/Muesli Project raw data - group 3.xlsx',sheet_name=2)\n",
    "df3 = pd.read_excel('data/Muesli Project raw data - group 3.xlsx',sheet_name=3)"
   ]
  },
  {
   "cell_type": "code",
   "execution_count": null,
   "metadata": {},
   "outputs": [
    {
     "name": "stdout",
     "output_type": "stream",
     "text": [
      "Index(['Index', 'Order ID', 'Order Date', 'Ship Mode', 'Customer ID',\n",
      "       'Customer Name', 'Origin Channel', 'Country/Region', 'City', 'State',\n",
      "       'Postal Code', 'Region', 'Category', 'Sub-Category', 'Product ID',\n",
      "       'Sales', 'Quantity', 'Discount', 'Profit'],\n",
      "      dtype='object')\n",
      "Index(['Order ID', 'Arrival Scan Date', 'Customer Name'], dtype='object')\n",
      "Index(['Row ID', 'Order ID', 'Order Date', 'On Truck Scan Date', 'Ship Mode'], dtype='object')\n",
      "Index(['Order ID', 'Ready to Ship Date', 'Pickup Date'], dtype='object')\n"
     ]
    }
   ],
   "source": [
    "# check the df headers\n",
    "print(df.columns)\n",
    "print(df1.columns)\n",
    "print(df2.columns)\n",
    "print(df3.columns)"
   ]
  },
  {
   "cell_type": "code",
   "execution_count": null,
   "metadata": {},
   "outputs": [],
   "source": [
    "# delete unneeded columns\n",
    "df = df.drop(['Index','Origin Channel', 'Category', 'Sub-Category'], axis=1)\n",
    "df1 = df1.drop(['Customer Name'], axis=1)\n",
    "df2 = df2.drop(['Row ID', 'Order Date'], axis=1)"
   ]
  },
  {
   "cell_type": "code",
   "execution_count": null,
   "metadata": {},
   "outputs": [
    {
     "name": "stdout",
     "output_type": "stream",
     "text": [
      "df= (9994, 15)\n",
      "df1= (333, 2)\n",
      "df2= (5899, 3)\n",
      "df3= (290, 3)\n"
     ]
    }
   ],
   "source": [
    "# check the number of rows and columns\n",
    "print('df=',df.shape)\n",
    "print('df1=',df1.shape)\n",
    "print('df2=',df2.shape)\n",
    "print('df3=',df3.shape)"
   ]
  },
  {
   "cell_type": "code",
   "execution_count": null,
   "metadata": {},
   "outputs": [
    {
     "name": "stdout",
     "output_type": "stream",
     "text": [
      "df= False    9993\n",
      "True        1\n",
      "Name: count, dtype: int64\n",
      "------------------------------\n",
      "df1= False    333\n",
      "Name: count, dtype: int64\n",
      "------------------------------\n",
      "df2= False    3003\n",
      "True     2896\n",
      "Name: count, dtype: int64\n",
      "------------------------------\n",
      "df3= False    204\n",
      "True      86\n",
      "Name: count, dtype: int64\n"
     ]
    }
   ],
   "source": [
    "# check for duplicates\n",
    "print('df=',df.duplicated().value_counts())\n",
    "print('-' * 30)\n",
    "print('df1=',df1.duplicated().value_counts())\n",
    "print('-' * 30)\n",
    "print('df2=',df2.duplicated().value_counts())\n",
    "print('-' * 30)\n",
    "print('df3=',df3.duplicated().value_counts())"
   ]
  },
  {
   "cell_type": "code",
   "execution_count": null,
   "metadata": {},
   "outputs": [],
   "source": [
    "# drop the duplicates\n",
    "df_no_dups = df.drop_duplicates()\n",
    "df2_no_dups = df2.drop_duplicates()\n",
    "df3_no_dups = df3.drop_duplicates()"
   ]
  },
  {
   "cell_type": "code",
   "execution_count": null,
   "metadata": {},
   "outputs": [
    {
     "name": "stdout",
     "output_type": "stream",
     "text": [
      "df_no_dups= (9993, 15)\n",
      "df1= (333, 2)\n",
      "df2_no_dups= (3003, 3)\n",
      "df3_no_dups= (204, 3)\n"
     ]
    }
   ],
   "source": [
    "# check the number of rows and columns\n",
    "print('df_no_dups=', df_no_dups.shape)\n",
    "print('df1=', df1.shape)\n",
    "print('df2_no_dups=', df2_no_dups.shape)\n",
    "print('df3_no_dups=', df3_no_dups.shape)"
   ]
  },
  {
   "cell_type": "code",
   "execution_count": null,
   "metadata": {},
   "outputs": [
    {
     "name": "stdout",
     "output_type": "stream",
     "text": [
      "Index(['Order ID', 'Order Date', 'Ship Mode', 'Customer ID', 'Customer Name',\n",
      "       'Country/Region', 'City', 'State', 'Postal Code', 'Region',\n",
      "       'Product ID', 'Sales', 'Quantity', 'Discount', 'Profit'],\n",
      "      dtype='object')\n",
      "Index(['Order ID', 'Arrival Scan Date'], dtype='object')\n",
      "Index(['Order ID', 'On Truck Scan Date', 'Ship Mode'], dtype='object')\n",
      "Index(['Order ID', 'Ready to Ship Date', 'Pickup Date'], dtype='object')\n"
     ]
    }
   ],
   "source": [
    "# check the df headers and decide what to merge with what\n",
    "print(df_no_dups.columns)\n",
    "print(df1.columns)\n",
    "print(df2_no_dups.columns)\n",
    "print(df3_no_dups.columns)"
   ]
  },
  {
   "cell_type": "markdown",
   "metadata": {},
   "source": [
    "We have to calculate and validate the company assumptions:\n",
    "1. Preparation process duration from order reception to shipping (2 days): 'Order Date' - 'Ready to Ship Day' (merge df and df3)\n",
    "2. Duration of process from \"Ready to Ship\" to \"on Truck\" (1 day for normal, 0 days for express): merge df2 and df3\n",
    "3. Efficacy of \"Express Processing\": the order ought to be on the truck on the ready to ship day\n",
    "4. From \"On Truck Scan\" to \"Arrival Scan Date\"\n",
    "\n",
    "...and get image of the whole delivery process duration: from 'Order Date' to 'Arrival Scan Date' (merge df and df2)\n",
    "\n"
   ]
  },
  {
   "cell_type": "markdown",
   "metadata": {},
   "source": [
    "1. preparation process duration verification"
   ]
  },
  {
   "cell_type": "code",
   "execution_count": null,
   "metadata": {},
   "outputs": [],
   "source": [
    "# merge df and df3\n",
    "\n",
    "df_prep_dur_ver = pd.merge(df_no_dups, df3_no_dups, on='Order ID', how='inner')"
   ]
  },
  {
   "cell_type": "code",
   "execution_count": null,
   "metadata": {},
   "outputs": [],
   "source": [
    "# verify the headers of the merged dataframe\n",
    "\n",
    "df_prep_dur_ver.columns"
   ]
  },
  {
   "cell_type": "code",
   "execution_count": null,
   "metadata": {},
   "outputs": [],
   "source": [
    "# delete unneeded columns\n",
    "\n",
    "df_prep_dur_ver = df_prep_dur_ver.drop(['Ship Mode', 'Country/Region', 'City', 'State', \n",
    "                                        'Postal Code', 'Region', 'Product ID', \n",
    "                                        'Sales', 'Quantity', 'Discount', 'Profit'], axis=1)"
   ]
  },
  {
   "cell_type": "code",
   "execution_count": null,
   "metadata": {},
   "outputs": [],
   "source": [
    "# verify\n",
    "\n",
    "df_prep_dur_ver.sample(10)"
   ]
  },
  {
   "cell_type": "code",
   "execution_count": null,
   "metadata": {},
   "outputs": [],
   "source": [
    "# check the type of data in the columns\n",
    "\n",
    "df_prep_dur_ver.dtypes"
   ]
  },
  {
   "cell_type": "code",
   "execution_count": null,
   "metadata": {},
   "outputs": [],
   "source": [
    "# calculate the preparation duration and print it in a new column\n",
    "\n",
    "df_prep_dur_ver['prep duration'] = df_prep_dur_ver['Ready to Ship Date']-df_prep_dur_ver['Order Date']"
   ]
  },
  {
   "cell_type": "code",
   "execution_count": null,
   "metadata": {},
   "outputs": [],
   "source": [
    "# verify\n",
    "\n",
    "df_prep_dur_ver.sample(10)"
   ]
  },
  {
   "cell_type": "code",
   "execution_count": null,
   "metadata": {},
   "outputs": [],
   "source": [
    "# check the data type\n",
    "\n",
    "df_prep_dur_ver['prep duration'].dtype"
   ]
  },
  {
   "cell_type": "markdown",
   "metadata": {},
   "source": [
    "what?...\n",
    "\n",
    "dtype('<m8[ns]') indicates that the data type of the object is a datetime64, representing date and time information with nanosecond precision.\n",
    "\n",
    "ok, now I get it!"
   ]
  },
  {
   "cell_type": "code",
   "execution_count": null,
   "metadata": {},
   "outputs": [
    {
     "name": "stdout",
     "output_type": "stream",
     "text": [
      "4 days 4 hours\n"
     ]
    }
   ],
   "source": [
    "# calculate the mean prep duration\n",
    "mean_duration_days = df_prep_dur_ver['prep duration'].mean()\n",
    "\n",
    "# Round the mean duration to the nearest days and hours\n",
    "rounded_duration = mean_duration_days.round('h')  # Round to the nearest hour\n",
    "\n",
    "# Convert the rounded duration to days and hours\n",
    "rounded_days = rounded_duration.days\n",
    "rounded_hours = rounded_duration.seconds // 3600  # Convert seconds to hours\n",
    "\n",
    "print(f\"{rounded_days} days {rounded_hours} hours\")"
   ]
  },
  {
   "cell_type": "markdown",
   "metadata": {},
   "source": [
    "that's way more than the 2 days claimed preparation duration!"
   ]
  },
  {
   "cell_type": "code",
   "execution_count": null,
   "metadata": {},
   "outputs": [],
   "source": []
  },
  {
   "cell_type": "markdown",
   "metadata": {},
   "source": [
    "2. Duration of process from \"Ready to Ship\" to \"on Truck\" (1 day for normal, 0 days for express): merge df2 and df3\n"
   ]
  },
  {
   "cell_type": "code",
   "execution_count": null,
   "metadata": {},
   "outputs": [],
   "source": [
    "# merge df2 and df3\n",
    "\n",
    "df_dur_readytoship_truck = pd.merge(df2_no_dups, df3_no_dups, on='Order ID', how='inner')"
   ]
  },
  {
   "cell_type": "code",
   "execution_count": null,
   "metadata": {},
   "outputs": [],
   "source": [
    "# verify the merged dataframe\n",
    "\n",
    "df_dur_readytoship_truck.sample(10)"
   ]
  },
  {
   "cell_type": "code",
   "execution_count": null,
   "metadata": {},
   "outputs": [],
   "source": [
    "# calculate the duration of the process from \"Ready to Ship\" to \"on Truck\"  and print it in a new column\n",
    "\n",
    "df_dur_readytoship_truck['ship to truck'] = df_dur_readytoship_truck['On Truck Scan Date']-df_dur_readytoship_truck['Ready to Ship Date']"
   ]
  },
  {
   "cell_type": "code",
   "execution_count": null,
   "metadata": {},
   "outputs": [],
   "source": [
    "# verify\n",
    "\n",
    "df_dur_readytoship_truck.sample(10)"
   ]
  },
  {
   "cell_type": "code",
   "execution_count": null,
   "metadata": {},
   "outputs": [],
   "source": [
    "df_dur_readytoship_truck['ship to truck'].unique()"
   ]
  },
  {
   "cell_type": "code",
   "execution_count": null,
   "metadata": {},
   "outputs": [],
   "source": [
    "# check the type of data in the columns\n",
    "\n",
    "df_dur_readytoship_truck.dtypes"
   ]
  },
  {
   "cell_type": "code",
   "execution_count": null,
   "metadata": {},
   "outputs": [],
   "source": [
    "# filter for the standard processing\n",
    "\n",
    "df_dur_readytoship_truck_standard = df_dur_readytoship_truck[df_dur_readytoship_truck['Ship Mode']== 'Standard Processing']"
   ]
  },
  {
   "cell_type": "code",
   "execution_count": null,
   "metadata": {},
   "outputs": [],
   "source": [
    "# verify\n",
    "\n",
    "df_dur_readytoship_truck_standard.sample(10)"
   ]
  },
  {
   "cell_type": "code",
   "execution_count": null,
   "metadata": {},
   "outputs": [
    {
     "name": "stdout",
     "output_type": "stream",
     "text": [
      "2 days 0 hours\n"
     ]
    }
   ],
   "source": [
    "# calculate the mean prep duration for the standard processing\n",
    "mean_to_truck_days_standard = df_dur_readytoship_truck_standard['ship to truck'].mean()\n",
    "\n",
    "# Round the mean duration to the nearest days and hours\n",
    "rounded_to_truck_dur_standard = mean_to_truck_days_standard.round('h')  # Round to the nearest hour\n",
    "\n",
    "# Convert the rounded duration to days and hours\n",
    "rounded_to_truck_days_standard = rounded_to_truck_dur_standard.days\n",
    "rounded_to_truck_hours_standard = rounded_to_truck_dur_standard.seconds // 3600  # Convert seconds to hours\n",
    "\n",
    "print(f\"{rounded_to_truck_days_standard} days {rounded_to_truck_hours_standard} hours\")"
   ]
  },
  {
   "cell_type": "markdown",
   "metadata": {},
   "source": [
    "...that's more than the claimed one day"
   ]
  },
  {
   "cell_type": "code",
   "execution_count": null,
   "metadata": {},
   "outputs": [],
   "source": []
  },
  {
   "cell_type": "markdown",
   "metadata": {},
   "source": [
    "3. Efficacy of \"Express Processing\": the order ought to be on the truck on the ready to ship day\n"
   ]
  },
  {
   "cell_type": "code",
   "execution_count": null,
   "metadata": {},
   "outputs": [],
   "source": [
    "# filter for the express processing\n",
    "\n",
    "df_dur_readytoship_truck_xpress = df_dur_readytoship_truck[df_dur_readytoship_truck['Ship Mode']== 'Express']"
   ]
  },
  {
   "cell_type": "code",
   "execution_count": null,
   "metadata": {},
   "outputs": [],
   "source": [
    "# verify\n",
    "\n",
    "df_dur_readytoship_truck_xpress.sample(10)"
   ]
  },
  {
   "cell_type": "code",
   "execution_count": null,
   "metadata": {},
   "outputs": [
    {
     "name": "stdout",
     "output_type": "stream",
     "text": [
      "0 days 10 hours\n"
     ]
    }
   ],
   "source": [
    "# calculate the mean prep duration for the express processing\n",
    "mean_to_truck_days_xpress = df_dur_readytoship_truck_xpress['ship to truck'].mean()\n",
    "\n",
    "# Round the mean duration to the nearest days and hours\n",
    "rounded_to_truck_dur_xpress = mean_to_truck_days_xpress.round('h')  # Round to the nearest hour\n",
    "\n",
    "# Convert the rounded duration to days and hours\n",
    "rounded_to_truck_days_xpress = rounded_to_truck_dur_xpress.days\n",
    "rounded_to_truck_hours_xpress = rounded_to_truck_dur_xpress.seconds // 3600  # Convert seconds to hours\n",
    "\n",
    "print(f\"{rounded_to_truck_days_xpress} days {rounded_to_truck_hours_xpress} hours\")"
   ]
  },
  {
   "cell_type": "markdown",
   "metadata": {},
   "source": [
    "no comments"
   ]
  },
  {
   "cell_type": "code",
   "execution_count": null,
   "metadata": {},
   "outputs": [],
   "source": []
  },
  {
   "cell_type": "markdown",
   "metadata": {},
   "source": [
    "4a. From \"On Truck Scan\" to \"Arrival Scan Date\"\n"
   ]
  },
  {
   "cell_type": "code",
   "execution_count": null,
   "metadata": {},
   "outputs": [],
   "source": [
    "# merge df1 and df2\n",
    "\n",
    "df_order_del_time = pd.merge(df2_no_dups, df1, on='Order ID', how='inner')"
   ]
  },
  {
   "cell_type": "code",
   "execution_count": null,
   "metadata": {},
   "outputs": [],
   "source": [
    "# verify\n",
    "\n",
    "df_order_del_time.sample(10)"
   ]
  },
  {
   "cell_type": "code",
   "execution_count": null,
   "metadata": {},
   "outputs": [],
   "source": [
    "df_order_del_time['delivery time']=df_order_del_time['Arrival Scan Date']- df_order_del_time['On Truck Scan Date']"
   ]
  },
  {
   "cell_type": "code",
   "execution_count": null,
   "metadata": {},
   "outputs": [],
   "source": [
    "# verify\n",
    "df_order_del_time.sample(10)"
   ]
  },
  {
   "cell_type": "code",
   "execution_count": null,
   "metadata": {},
   "outputs": [
    {
     "name": "stdout",
     "output_type": "stream",
     "text": [
      "4 days 14 hours\n"
     ]
    }
   ],
   "source": [
    "# calculate the mean prep duration for the standard processing\n",
    "mean_order_del_time = df_order_del_time['delivery time'].mean()\n",
    "\n",
    "# Round the mean duration to the nearest days and hours\n",
    "rounded_mean_del_time = mean_order_del_time.round('h')  # Round to the nearest hour\n",
    "\n",
    "# Convert the rounded duration to days and hours\n",
    "rounded_mean_del_days = rounded_mean_del_time.days\n",
    "rounded_mean_del_hours = rounded_mean_del_time.seconds // 3600  # Convert seconds to hours\n",
    "\n",
    "print(f\"{rounded_mean_del_days} days {rounded_mean_del_hours} hours\")"
   ]
  },
  {
   "cell_type": "markdown",
   "metadata": {},
   "source": [
    "the shipping company claim is three days, oups!"
   ]
  },
  {
   "cell_type": "code",
   "execution_count": null,
   "metadata": {},
   "outputs": [],
   "source": []
  },
  {
   "cell_type": "markdown",
   "metadata": {},
   "source": [
    "4b. From \"Pickup Date\" to \"Arrival Scan Date\""
   ]
  },
  {
   "cell_type": "code",
   "execution_count": null,
   "metadata": {},
   "outputs": [],
   "source": [
    "# merge df1 and df3\n",
    "\n",
    "df_order_del_time2 = pd.merge(df1, df3_no_dups, on='Order ID', how='inner')"
   ]
  },
  {
   "cell_type": "code",
   "execution_count": null,
   "metadata": {},
   "outputs": [],
   "source": [
    "# verify\n",
    "\n",
    "df_order_del_time2.sample(10)"
   ]
  },
  {
   "cell_type": "code",
   "execution_count": null,
   "metadata": {},
   "outputs": [],
   "source": [
    "df_order_del_time2['delivery time2']=df_order_del_time2['Arrival Scan Date']- df_order_del_time2['Pickup Date']"
   ]
  },
  {
   "cell_type": "code",
   "execution_count": null,
   "metadata": {},
   "outputs": [],
   "source": [
    "# verify\n",
    "\n",
    "df_order_del_time2.sample(10)"
   ]
  },
  {
   "cell_type": "code",
   "execution_count": null,
   "metadata": {},
   "outputs": [
    {
     "name": "stdout",
     "output_type": "stream",
     "text": [
      "4 days 16 hours\n"
     ]
    }
   ],
   "source": [
    "# calculate the mean prep duration for the standard processing\n",
    "mean_order_del_time2 = df_order_del_time2['delivery time2'].mean()\n",
    "\n",
    "# Round the mean duration to the nearest days and hours\n",
    "rounded_mean_del_time2 = mean_order_del_time2.round('h')  # Round to the nearest hour\n",
    "\n",
    "# Convert the rounded duration to days and hours\n",
    "rounded_mean_del2_days = rounded_mean_del_time2.days\n",
    "rounded_mean_del2_hours = rounded_mean_del_time2.seconds // 3600  # Convert seconds to hours\n",
    "\n",
    "print(f\"{rounded_mean_del2_days} days {rounded_mean_del2_hours} hours\")"
   ]
  },
  {
   "cell_type": "code",
   "execution_count": null,
   "metadata": {},
   "outputs": [],
   "source": []
  },
  {
   "cell_type": "markdown",
   "metadata": {},
   "source": [
    "\n",
    "...and get image of the whole delivery process duration: from 'Order Date' to 'Arrival Scan Date' (merge df and df2)"
   ]
  },
  {
   "cell_type": "code",
   "execution_count": null,
   "metadata": {},
   "outputs": [],
   "source": [
    "# merge df and df1\n",
    "\n",
    "df_order_del_total = pd.merge(df1, df_no_dups, on='Order ID', how='inner')"
   ]
  },
  {
   "cell_type": "code",
   "execution_count": null,
   "metadata": {},
   "outputs": [],
   "source": [
    "# verify\n",
    "\n",
    "df_order_del_total.sample(10)"
   ]
  },
  {
   "cell_type": "code",
   "execution_count": null,
   "metadata": {},
   "outputs": [],
   "source": [
    "df_order_del_total = df_order_del_total.drop(['Ship Mode', 'Country/Region', 'City', 'State', \n",
    "                                        'Postal Code', 'Region', 'Product ID', \n",
    "                                        'Sales', 'Quantity', 'Discount', 'Profit'], axis=1)"
   ]
  },
  {
   "cell_type": "code",
   "execution_count": null,
   "metadata": {},
   "outputs": [],
   "source": [
    "# verify\n",
    "\n",
    "df_order_del_total.sample(10)"
   ]
  },
  {
   "cell_type": "code",
   "execution_count": null,
   "metadata": {},
   "outputs": [],
   "source": [
    "df_order_del_total['total delivery time']=df_order_del_total['Arrival Scan Date']- df_order_del_total['Order Date']"
   ]
  },
  {
   "cell_type": "code",
   "execution_count": null,
   "metadata": {},
   "outputs": [],
   "source": [
    "# verify\n",
    "\n",
    "df_order_del_total.sample(10)"
   ]
  },
  {
   "cell_type": "code",
   "execution_count": null,
   "metadata": {},
   "outputs": [
    {
     "name": "stdout",
     "output_type": "stream",
     "text": [
      "10 days 21 hours\n"
     ]
    }
   ],
   "source": [
    "# calculate the mean prep duration for the standard processing\n",
    "mean_order_del_total = df_order_del_total['total delivery time'].mean()\n",
    "\n",
    "# Round the mean duration to the nearest days and hours\n",
    "rounded_mean_del_total = mean_order_del_total.round('h')  # Round to the nearest hour\n",
    "\n",
    "# Convert the rounded duration to days and hours\n",
    "rounded_mean_del_total_days = rounded_mean_del_total.days\n",
    "rounded_mean_del_total_hours = rounded_mean_del_total.seconds // 3600  # Convert seconds to hours\n",
    "\n",
    "print(f\"{rounded_mean_del_total_days} days {rounded_mean_del_total_hours} hours\")"
   ]
  },
  {
   "cell_type": "code",
   "execution_count": null,
   "metadata": {},
   "outputs": [],
   "source": []
  },
  {
   "cell_type": "code",
   "execution_count": null,
   "metadata": {},
   "outputs": [],
   "source": []
  },
  {
   "cell_type": "code",
   "execution_count": 50,
   "metadata": {},
   "outputs": [
    {
     "ename": "NameError",
     "evalue": "name 'df2_red_no_dups' is not defined",
     "output_type": "error",
     "traceback": [
      "\u001b[0;31m---------------------------------------------------------------------------\u001b[0m",
      "\u001b[0;31mNameError\u001b[0m                                 Traceback (most recent call last)",
      "Cell \u001b[0;32mIn[50], line 2\u001b[0m\n\u001b[1;32m      1\u001b[0m \u001b[38;5;66;03m# merge the dataframes with the 'reduce' function\u001b[39;00m\n\u001b[0;32m----> 2\u001b[0m dfs \u001b[38;5;241m=\u001b[39m [df, df1, \u001b[43mdf2_red_no_dups\u001b[49m, df3_no_dups]\n\u001b[1;32m      4\u001b[0m merged_df_red \u001b[38;5;241m=\u001b[39m reduce(\u001b[38;5;28;01mlambda\u001b[39;00m left, right: pd\u001b[38;5;241m.\u001b[39mmerge(left, right, on\u001b[38;5;241m=\u001b[39m\u001b[38;5;124m'\u001b[39m\u001b[38;5;124mOrder ID\u001b[39m\u001b[38;5;124m'\u001b[39m, how\u001b[38;5;241m=\u001b[39m\u001b[38;5;124m'\u001b[39m\u001b[38;5;124minner\u001b[39m\u001b[38;5;124m'\u001b[39m), dfs)\n\u001b[1;32m      6\u001b[0m merged_df_red\u001b[38;5;241m.\u001b[39mshape\n",
      "\u001b[0;31mNameError\u001b[0m: name 'df2_red_no_dups' is not defined"
     ]
    }
   ],
   "source": [
    "# merge the dataframes with the 'reduce' function\n",
    "dfs = [df, df1, df2_red_no_dups, df3_no_dups]\n",
    "\n",
    "merged_df_red = reduce(lambda left, right: pd.merge(left, right, on='Order ID', how='inner'), dfs)\n",
    "\n",
    "merged_df_red.shape"
   ]
  },
  {
   "cell_type": "code",
   "execution_count": 51,
   "metadata": {},
   "outputs": [
    {
     "name": "stdout",
     "output_type": "stream",
     "text": [
      "Stored 'df_order_del_time2' (DataFrame)\n"
     ]
    }
   ],
   "source": [
    "%store df_order_del_time2"
   ]
  },
  {
   "cell_type": "code",
   "execution_count": null,
   "metadata": {},
   "outputs": [],
   "source": []
  },
  {
   "cell_type": "code",
   "execution_count": null,
   "metadata": {},
   "outputs": [],
   "source": [
    "# merge the dataframes with the 'reduce' function\n",
    "dfs = [df, df1, df2_red_no_dups, df3_no_dups]\n",
    "\n",
    "merged_df_red = reduce(lambda left, right: pd.merge(left, right, on='Order ID', how='inner'), dfs)\n",
    "\n",
    "merged_df_red.shape"
   ]
  }
 ],
 "metadata": {
  "kernelspec": {
   "display_name": "nf_base",
   "language": "python",
   "name": "python3"
  },
  "language_info": {
   "codemirror_mode": {
    "name": "ipython",
    "version": 3
   },
   "file_extension": ".py",
   "mimetype": "text/x-python",
   "name": "python",
   "nbconvert_exporter": "python",
   "pygments_lexer": "ipython3",
   "version": "3.9.19"
  }
 },
 "nbformat": 4,
 "nbformat_minor": 2
}
